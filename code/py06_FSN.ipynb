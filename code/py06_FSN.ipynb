{
 "cells": [
  {
   "cell_type": "markdown",
   "metadata": {},
   "source": [
    "This code was heavily based on Enge et al. 2021 codes available at https://osf.io/34ry2/ (we are highly grateful for their commitment to open research)"
   ]
  },
  {
   "cell_type": "code",
   "execution_count": 2,
   "metadata": {},
   "outputs": [],
   "source": [
    "import random\n",
    "from glob import glob\n",
    "from math import sqrt\n",
    "from os import makedirs, path\n",
    "from re import sub\n",
    "from shutil import copy\n",
    "from sys import argv\n",
    "\n",
    "import numpy as np\n",
    "import pandas as pd\n",
    "from nibabel import save\n",
    "from nilearn import image, reporting\n",
    "from nimare import correct, io, meta, utils\n",
    "from scipy.stats import norm"
   ]
  },
  {
   "cell_type": "code",
   "execution_count": null,
   "metadata": {},
   "outputs": [],
   "source": [
    "# Define function to generate a new data set with k null studies added\n",
    "def generate_null(\n",
    "    text_file=\"peaks.txt\",\n",
    "    space=\"ale_2mm\",\n",
    "    k_null=100,\n",
    "    random_seed=None,\n",
    "    output_dir=\"./\",\n",
    "):\n",
    "\n",
    "    # Load NiMARE's gray matter template\n",
    "    # comment：这里直接用brain是可以的吗？还是要去找一个明确说明是gray matter的模板？\n",
    "    # brain:tpl-MNI152NLin6Asym_res-01_desc-brain_mask.nii.gz\n",
    "    temp = utils.get_template(space=space, mask=\"brain\")\n",
    "\n",
    "    # Extract possible MNI coordinates for all gray matter voxels\n",
    "    x, y, z = np.where(temp.get_fdata() == 1.0)\n",
    "    within_mni = image.coord_transform(x=x, y=y, z=z, affine=temp.affine)\n",
    "    within_mni = np.array(within_mni).transpose()\n",
    "\n",
    "    # Read the original Sleuth file into a NiMARE data set\n",
    "    dset = io.convert_sleuth_to_dataset(text_file, target=space)\n",
    "\n",
    "    # Set a random seed to make the results reproducible\n",
    "    if random_seed:\n",
    "        random.seed(random_seed)\n",
    "\n",
    "    # Resample numbers of subjects per experiment based on the original data\n",
    "    nr_subjects_dset = [n[0] for n in dset.metadata[\"sample_sizes\"]]\n",
    "    nr_subjects_null = random.choices(nr_subjects_dset, k=k_null)\n",
    "\n",
    "    # Resample numbers of peaks per experiment based on the original data\n",
    "    nr_peaks_dset = dset.coordinates[\"study_id\"].value_counts().tolist()\n",
    "    nr_peaks_null = random.choices(nr_peaks_dset, k=k_null)\n",
    "\n",
    "    # Create random peak coordinates\n",
    "    idx_list = [\n",
    "        random.sample(range(len(within_mni)), k=k_peaks) for k_peaks in nr_peaks_null\n",
    "    ]\n",
    "    peaks_null = [within_mni[idx] for idx in idx_list]\n",
    "\n",
    "    # Copy original experiments to the destination Sleuth file\n",
    "    makedirs(output_dir, exist_ok=True)\n",
    "    text_file_basename = path.basename(text_file)\n",
    "    null_file_basename = sub(\n",
    "        pattern=\".txt\", repl=\"_plus_k\" + str(k_null) + \".txt\", string=text_file_basename\n",
    "    )\n",
    "    null_file = output_dir + \"/\" + null_file_basename\n",
    "    copy(text_file, null_file)\n",
    "\n",
    "    # Append all the null studies to the Sleuth file\n",
    "    f = open(null_file, mode=\"a\")\n",
    "    for i in range(k_null):\n",
    "        f.write(\n",
    "            \"\\n// nullstudy\"\n",
    "            + str(i + 1)\n",
    "            + \"\\n// Subjects=\"\n",
    "            + str(nr_subjects_null[i])\n",
    "            + \"\\n\"\n",
    "        )\n",
    "        np.savetxt(f, peaks_null[i], fmt=\"%.3f\", delimiter=\"\\t\")\n",
    "    f.close()\n",
    "\n",
    "    # Read the new Sleuth file and return it as a NiMARE data set\n",
    "    dset_null = io.convert_sleuth_to_dataset(null_file, target=space)\n",
    "    return dset_null\n"
   ]
  },
  {
   "cell_type": "code",
   "execution_count": 5,
   "metadata": {},
   "outputs": [],
   "source": [
    "# Define function to compute the FSN for all voxels from a Sleuth file\n",
    "def compute_fsn(\n",
    "    text_file=\"peaks.txt\",\n",
    "    space=\"ale_2mm\",\n",
    "    voxel_thresh=0.001,\n",
    "    cluster_thresh=0.01,\n",
    "    n_iters=1000,\n",
    "    k_max_factor=5,\n",
    "    random_ale_seed=None,\n",
    "    random_null_seed=None,\n",
    "    output_dir=\"./\",\n",
    "):\n",
    "\n",
    "    # Let's show the user what we are doing\n",
    "    print(\"\\nCOMPUTING FSN FOR \" + text_file + \" (seed: \" + str(random_null_seed) + \")\")\n",
    "\n",
    "    # Set random seed for original ALE if requested\n",
    "    if random_ale_seed:\n",
    "        np.random.seed(random_ale_seed)\n",
    "\n",
    "    # Recreate the original ALE analysis\n",
    "    ale = meta.cbma.ALE()\n",
    "    corr = correct.FWECorrector(\n",
    "        method=\"montecarlo\", voxel_thresh=voxel_thresh, n_iters=n_iters\n",
    "    )\n",
    "    dset_orig = io.convert_sleuth_to_dataset(text_file=text_file, target=space)\n",
    "    res_orig = ale.fit(dset_orig)\n",
    "    cres_orig = corr.transform(res_orig)\n",
    "\n",
    "    # Extract the original study IDs\n",
    "    ids_orig = dset_orig.ids.tolist()\n",
    "\n",
    "    # Create a new data set with a large number null studies added\n",
    "    k_max = len(ids_orig) * k_max_factor\n",
    "    dset_null = generate_null(\n",
    "        text_file=text_file,\n",
    "        space=space,\n",
    "        k_null=k_max,\n",
    "        random_seed=random_null_seed,\n",
    "        output_dir=output_dir,\n",
    "    )\n",
    "\n",
    "    # Create thresholded cluster mask\n",
    "    img_fsn = cres_orig.get_map(\"z_desc-size_level-cluster_corr-FWE_method-montecarlo\")\n",
    "    cluster_thresh_z = norm.ppf(1 - cluster_thresh / 2)\n",
    "    img_fsn = image.threshold_img(img_fsn, threshold=cluster_thresh_z)\n",
    "    img_fsn = image.math_img(\"np.where(img > 0, 1, 0)\", img=img_fsn)\n",
    "\n",
    "    # Create cluster-thresholded z map\n",
    "    img_z = cres_orig.get_map(\"z\")\n",
    "    img_z = image.math_img(\"img1 * img2\", img1=img_fsn, img2=img_z)\n",
    "\n",
    "    # Iteratively add null studies up to our pre-defined maximum\n",
    "    for k in range(1, k_max):\n",
    "\n",
    "        # Print message\n",
    "        print(\"Computing ALE for k = \" + str(k) + \" null studies added...\")\n",
    "\n",
    "        # Create a new data set with k null studies added\n",
    "        ids_null = [\"nullstudy\" + str(x) + \"-\" for x in range(1, k + 1)]\n",
    "        ids = ids_orig + ids_null\n",
    "        dset_k = dset_null.slice(ids)\n",
    "\n",
    "        # Compute the ALE\n",
    "        res_k = res = ale.fit(dset_k)\n",
    "        cres_k = corr.transform(result=res_k)\n",
    "\n",
    "        # Create a thresholded cluster mask\n",
    "        img_k = cres_k.get_map(\"z_desc-size_level-cluster_corr-FWE_method-montecarlo\")\n",
    "        img_k = image.threshold_img(img_k, threshold=cluster_thresh_z)\n",
    "        img_k = image.math_img(\"np.where(img > 0, 1, 0)\", img=img_k)\n",
    "\n",
    "        # Use this to update the per-voxel FSN - this is a bit hack-ish: On a voxel-by-\n",
    "        # voxel basis, we increase the value by 1 if and only if the voxel has remained\n",
    "        # significant. As soon as it has failed to reach significance once, we never\n",
    "        # increase FSN any further. This is handeled by comparing the current FSN to\n",
    "        # the current value of k.\n",
    "        count = str(k + 1)\n",
    "        formula = \"np.where(img_fsn + img_k == \" + count + \", img_fsn + 1, img_fsn)\"\n",
    "        img_fsn = image.math_img(formula, img_fsn=img_fsn, img_k=img_k)\n",
    "\n",
    "        # Quit as soon as there are no significant clusters left in the current map\n",
    "        if not np.any(img_k.get_fdata()):\n",
    "            print(\"No more significant voxels - terminating\\n\")\n",
    "            break\n",
    "\n",
    "    # Save the FSN map that we've created in the loop\n",
    "    filename_img = path.basename(text_file).replace(\".txt\", \"_fsn.nii.gz\")\n",
    "    save(img_fsn, filename=output_dir + \"/\" + filename_img)\n",
    "\n",
    "    # Extract the FSN values at the original cluster peaks\n",
    "    tab_fsn = reporting.get_clusters_table(img_z, stat_threshold=0, min_distance=1000)\n",
    "    inv_affine = np.linalg.inv(img_z.affine)\n",
    "    x, y, z = [np.array(tab_fsn[col]) for col in [\"X\", \"Y\", \"Z\"]]\n",
    "    x, y, z = image.coord_transform(x=x, y=y, z=z, affine=inv_affine)\n",
    "    x, y, z = [arr.astype(\"int\") for arr in [x, y, z]]\n",
    "    tab_fsn[\"FSN\"] = img_fsn.get_fdata()[x, y, z]\n",
    "\n",
    "    # Save this cluster table with the new FSN column\n",
    "    filename_tab = path.basename(text_file).replace(\".txt\", \"_fsn.tsv\")\n",
    "    tab_fsn.to_csv(output_dir + \"/\" + filename_tab, sep=\"\\t\", index=False)\n",
    "\n",
    "    return img_fsn, tab_fsn\n",
    "\n"
   ]
  },
  {
   "cell_type": "code",
   "execution_count": 6,
   "metadata": {},
   "outputs": [],
   "source": [
    "# Ideally, we want to perform all of this multiple times for different (random) filedrawers. Otherwise, the resulting FSN values would hinge a lot on the random patterns of these specific null experiments. However, doing all of these iterative simulations multiple times is extremly computationally expensive. We therefore wrote the next bit of the notebook in a way so that it can be run in parallel on our high performance computing (HPC) cluster. For this, we would call this notebook as a Python script from the command line and need to provide it with two additional parameters: The name of the original ALE analysis for which we want to compute the FSN and the number of different filedrawers we want to estimate (so we can always compute multiple filedrawers in parallel). If you don't happen to have access to an HPC and want to try the out the simulations directly withing the notebook, simply uncomment the two lines of code to define `prefixes` and `nr_filedrawers` locally.\n",
    "# Get which FSN analyses to perform from the command line\n",
    "prefixes = [\"control\"] \n",
    "\n",
    "# Get number of filedrawers per analysis from the command line\n",
    "nr_filedrawers = 5\n"
   ]
  },
  {
   "cell_type": "code",
   "execution_count": 7,
   "metadata": {},
   "outputs": [],
   "source": [
    "\n",
    "# # Or define them here for debugging\n",
    "# prefixes = [\"all\", \"knowledge\", \"relatedness\", \"objects\"]\n",
    "# nr_filedrawers = 10\n",
    "\n",
    "# List the filenames of the Sleuth text files\n",
    "text_files = [\"../data/ale_analysis_foci/control.txt\"]\n"
   ]
  },
  {
   "cell_type": "code",
   "execution_count": 8,
   "metadata": {},
   "outputs": [],
   "source": [
    "\n",
    "# Create output directory names\n",
    "output_dirs = [\"../results/fsn/\" + prefix + \"/\" for prefix in prefixes]\n"
   ]
  },
  {
   "cell_type": "code",
   "execution_count": 9,
   "metadata": {},
   "outputs": [],
   "source": [
    "\n",
    "# Create random seeds for filedrawers\n",
    "random_null_seeds = random.sample(range(1000), k=nr_filedrawers)\n",
    "filedrawers = [\"filedrawer\" + str(seed) for seed in random_null_seeds]\n",
    "\n"
   ]
  },
  {
   "cell_type": "code",
   "execution_count": 10,
   "metadata": {},
   "outputs": [
    {
     "name": "stdout",
     "output_type": "stream",
     "text": [
      "\n",
      "COMPUTING FSN FOR ../data/ale_analysis_foci/control.txt (seed: 38)\n"
     ]
    },
    {
     "name": "stderr",
     "output_type": "stream",
     "text": [
      "INFO:nimare.correct:Using correction method implemented in Estimator: nimare.meta.cbma.ale.ALE.correct_fwe_montecarlo.\n"
     ]
    },
    {
     "data": {
      "application/vnd.jupyter.widget-view+json": {
       "model_id": "01dc41c1a6aa4d93a99af733929a65e5",
       "version_major": 2,
       "version_minor": 0
      },
      "text/plain": [
       "  0%|          | 0/1000 [00:00<?, ?it/s]"
      ]
     },
     "metadata": {},
     "output_type": "display_data"
    },
    {
     "name": "stderr",
     "output_type": "stream",
     "text": [
      "INFO:nimare.meta.cbma.base:Using null distribution for voxel-level FWE correction.\n",
      "/var/folders/yk/78rqxlxn4pz_rsb5_31xvh340000gn/T/ipykernel_12256/807646193.py:46: FutureWarning: From release 0.13.0 onwards, this function will, by default, copy the header of the input image to the output. Currently, the header is reset to the default Nifti1Header. To suppress this warning and use the new behavior, set `copy_header=True`.\n",
      "  img_fsn = image.threshold_img(img_fsn, threshold=cluster_thresh_z)\n",
      "/opt/anaconda3/lib/python3.12/site-packages/nilearn/image/image.py:1173: UserWarning: Data array used to create a new image contains 64-bit ints. This is likely due to creating the array with numpy and passing `int` as the `dtype`. Many tools such as FSL and SPM cannot deal with int64 in Nifti images, so for compatibility the data has been converted to int32.\n",
      "  return new_img_like(niimg, result, niimg.affine)\n"
     ]
    },
    {
     "name": "stdout",
     "output_type": "stream",
     "text": [
      "Computing ALE for k = 1 null studies added...\n"
     ]
    },
    {
     "name": "stderr",
     "output_type": "stream",
     "text": [
      "INFO:nimare.correct:Using correction method implemented in Estimator: nimare.meta.cbma.ale.ALE.correct_fwe_montecarlo.\n"
     ]
    },
    {
     "data": {
      "application/vnd.jupyter.widget-view+json": {
       "model_id": "63d4b61d5c70465a906b1c7b86253c77",
       "version_major": 2,
       "version_minor": 0
      },
      "text/plain": [
       "  0%|          | 0/1000 [00:00<?, ?it/s]"
      ]
     },
     "metadata": {},
     "output_type": "display_data"
    },
    {
     "name": "stderr",
     "output_type": "stream",
     "text": [
      "INFO:nimare.meta.cbma.base:Using null distribution for voxel-level FWE correction.\n",
      "/var/folders/yk/78rqxlxn4pz_rsb5_31xvh340000gn/T/ipykernel_12256/807646193.py:70: FutureWarning: From release 0.13.0 onwards, this function will, by default, copy the header of the input image to the output. Currently, the header is reset to the default Nifti1Header. To suppress this warning and use the new behavior, set `copy_header=True`.\n",
      "  img_k = image.threshold_img(img_k, threshold=cluster_thresh_z)\n",
      "/opt/anaconda3/lib/python3.12/site-packages/nilearn/image/image.py:1173: UserWarning: Data array used to create a new image contains 64-bit ints. This is likely due to creating the array with numpy and passing `int` as the `dtype`. Many tools such as FSL and SPM cannot deal with int64 in Nifti images, so for compatibility the data has been converted to int32.\n",
      "  return new_img_like(niimg, result, niimg.affine)\n"
     ]
    },
    {
     "name": "stdout",
     "output_type": "stream",
     "text": [
      "Computing ALE for k = 2 null studies added...\n"
     ]
    },
    {
     "name": "stderr",
     "output_type": "stream",
     "text": [
      "INFO:nimare.correct:Using correction method implemented in Estimator: nimare.meta.cbma.ale.ALE.correct_fwe_montecarlo.\n"
     ]
    },
    {
     "data": {
      "application/vnd.jupyter.widget-view+json": {
       "model_id": "84c6eb83b91b4ba9b9ac4adc331e1486",
       "version_major": 2,
       "version_minor": 0
      },
      "text/plain": [
       "  0%|          | 0/1000 [00:00<?, ?it/s]"
      ]
     },
     "metadata": {},
     "output_type": "display_data"
    },
    {
     "name": "stderr",
     "output_type": "stream",
     "text": [
      "INFO:nimare.meta.cbma.base:Using null distribution for voxel-level FWE correction.\n",
      "/var/folders/yk/78rqxlxn4pz_rsb5_31xvh340000gn/T/ipykernel_12256/807646193.py:70: FutureWarning: From release 0.13.0 onwards, this function will, by default, copy the header of the input image to the output. Currently, the header is reset to the default Nifti1Header. To suppress this warning and use the new behavior, set `copy_header=True`.\n",
      "  img_k = image.threshold_img(img_k, threshold=cluster_thresh_z)\n",
      "/opt/anaconda3/lib/python3.12/site-packages/nilearn/image/image.py:1173: UserWarning: Data array used to create a new image contains 64-bit ints. This is likely due to creating the array with numpy and passing `int` as the `dtype`. Many tools such as FSL and SPM cannot deal with int64 in Nifti images, so for compatibility the data has been converted to int32.\n",
      "  return new_img_like(niimg, result, niimg.affine)\n"
     ]
    },
    {
     "name": "stdout",
     "output_type": "stream",
     "text": [
      "Computing ALE for k = 3 null studies added...\n"
     ]
    },
    {
     "name": "stderr",
     "output_type": "stream",
     "text": [
      "INFO:nimare.correct:Using correction method implemented in Estimator: nimare.meta.cbma.ale.ALE.correct_fwe_montecarlo.\n"
     ]
    },
    {
     "data": {
      "application/vnd.jupyter.widget-view+json": {
       "model_id": "2a907638417945fa8fe05bb5b05f8bbb",
       "version_major": 2,
       "version_minor": 0
      },
      "text/plain": [
       "  0%|          | 0/1000 [00:00<?, ?it/s]"
      ]
     },
     "metadata": {},
     "output_type": "display_data"
    },
    {
     "name": "stderr",
     "output_type": "stream",
     "text": [
      "INFO:nimare.meta.cbma.base:Using null distribution for voxel-level FWE correction.\n",
      "/var/folders/yk/78rqxlxn4pz_rsb5_31xvh340000gn/T/ipykernel_12256/807646193.py:70: FutureWarning: From release 0.13.0 onwards, this function will, by default, copy the header of the input image to the output. Currently, the header is reset to the default Nifti1Header. To suppress this warning and use the new behavior, set `copy_header=True`.\n",
      "  img_k = image.threshold_img(img_k, threshold=cluster_thresh_z)\n",
      "/opt/anaconda3/lib/python3.12/site-packages/nilearn/image/image.py:1173: UserWarning: Data array used to create a new image contains 64-bit ints. This is likely due to creating the array with numpy and passing `int` as the `dtype`. Many tools such as FSL and SPM cannot deal with int64 in Nifti images, so for compatibility the data has been converted to int32.\n",
      "  return new_img_like(niimg, result, niimg.affine)\n"
     ]
    },
    {
     "name": "stdout",
     "output_type": "stream",
     "text": [
      "Computing ALE for k = 4 null studies added...\n"
     ]
    },
    {
     "name": "stderr",
     "output_type": "stream",
     "text": [
      "INFO:nimare.correct:Using correction method implemented in Estimator: nimare.meta.cbma.ale.ALE.correct_fwe_montecarlo.\n"
     ]
    },
    {
     "data": {
      "application/vnd.jupyter.widget-view+json": {
       "model_id": "7aa35b97194c453eada4ba2e309be666",
       "version_major": 2,
       "version_minor": 0
      },
      "text/plain": [
       "  0%|          | 0/1000 [00:00<?, ?it/s]"
      ]
     },
     "metadata": {},
     "output_type": "display_data"
    },
    {
     "name": "stderr",
     "output_type": "stream",
     "text": [
      "INFO:nimare.meta.cbma.base:Using null distribution for voxel-level FWE correction.\n",
      "/var/folders/yk/78rqxlxn4pz_rsb5_31xvh340000gn/T/ipykernel_12256/807646193.py:70: FutureWarning: From release 0.13.0 onwards, this function will, by default, copy the header of the input image to the output. Currently, the header is reset to the default Nifti1Header. To suppress this warning and use the new behavior, set `copy_header=True`.\n",
      "  img_k = image.threshold_img(img_k, threshold=cluster_thresh_z)\n",
      "/opt/anaconda3/lib/python3.12/site-packages/nilearn/image/image.py:1173: UserWarning: Data array used to create a new image contains 64-bit ints. This is likely due to creating the array with numpy and passing `int` as the `dtype`. Many tools such as FSL and SPM cannot deal with int64 in Nifti images, so for compatibility the data has been converted to int32.\n",
      "  return new_img_like(niimg, result, niimg.affine)\n"
     ]
    },
    {
     "name": "stdout",
     "output_type": "stream",
     "text": [
      "Computing ALE for k = 5 null studies added...\n"
     ]
    },
    {
     "name": "stderr",
     "output_type": "stream",
     "text": [
      "INFO:nimare.correct:Using correction method implemented in Estimator: nimare.meta.cbma.ale.ALE.correct_fwe_montecarlo.\n"
     ]
    },
    {
     "data": {
      "application/vnd.jupyter.widget-view+json": {
       "model_id": "2c33a5f89a9c4dd5a0a111bb8dd56b52",
       "version_major": 2,
       "version_minor": 0
      },
      "text/plain": [
       "  0%|          | 0/1000 [00:00<?, ?it/s]"
      ]
     },
     "metadata": {},
     "output_type": "display_data"
    },
    {
     "name": "stderr",
     "output_type": "stream",
     "text": [
      "INFO:nimare.meta.cbma.base:Using null distribution for voxel-level FWE correction.\n",
      "/var/folders/yk/78rqxlxn4pz_rsb5_31xvh340000gn/T/ipykernel_12256/807646193.py:70: FutureWarning: From release 0.13.0 onwards, this function will, by default, copy the header of the input image to the output. Currently, the header is reset to the default Nifti1Header. To suppress this warning and use the new behavior, set `copy_header=True`.\n",
      "  img_k = image.threshold_img(img_k, threshold=cluster_thresh_z)\n",
      "/opt/anaconda3/lib/python3.12/site-packages/nilearn/image/image.py:1173: UserWarning: Data array used to create a new image contains 64-bit ints. This is likely due to creating the array with numpy and passing `int` as the `dtype`. Many tools such as FSL and SPM cannot deal with int64 in Nifti images, so for compatibility the data has been converted to int32.\n",
      "  return new_img_like(niimg, result, niimg.affine)\n"
     ]
    },
    {
     "name": "stdout",
     "output_type": "stream",
     "text": [
      "Computing ALE for k = 6 null studies added...\n"
     ]
    },
    {
     "name": "stderr",
     "output_type": "stream",
     "text": [
      "INFO:nimare.correct:Using correction method implemented in Estimator: nimare.meta.cbma.ale.ALE.correct_fwe_montecarlo.\n"
     ]
    },
    {
     "data": {
      "application/vnd.jupyter.widget-view+json": {
       "model_id": "c232def5d58c4b639fffab8dc6d0356e",
       "version_major": 2,
       "version_minor": 0
      },
      "text/plain": [
       "  0%|          | 0/1000 [00:00<?, ?it/s]"
      ]
     },
     "metadata": {},
     "output_type": "display_data"
    },
    {
     "name": "stderr",
     "output_type": "stream",
     "text": [
      "INFO:nimare.meta.cbma.base:Using null distribution for voxel-level FWE correction.\n",
      "/var/folders/yk/78rqxlxn4pz_rsb5_31xvh340000gn/T/ipykernel_12256/807646193.py:70: FutureWarning: From release 0.13.0 onwards, this function will, by default, copy the header of the input image to the output. Currently, the header is reset to the default Nifti1Header. To suppress this warning and use the new behavior, set `copy_header=True`.\n",
      "  img_k = image.threshold_img(img_k, threshold=cluster_thresh_z)\n",
      "/opt/anaconda3/lib/python3.12/site-packages/nilearn/image/image.py:1173: UserWarning: Data array used to create a new image contains 64-bit ints. This is likely due to creating the array with numpy and passing `int` as the `dtype`. Many tools such as FSL and SPM cannot deal with int64 in Nifti images, so for compatibility the data has been converted to int32.\n",
      "  return new_img_like(niimg, result, niimg.affine)\n"
     ]
    },
    {
     "name": "stdout",
     "output_type": "stream",
     "text": [
      "Computing ALE for k = 7 null studies added...\n"
     ]
    },
    {
     "name": "stderr",
     "output_type": "stream",
     "text": [
      "INFO:nimare.correct:Using correction method implemented in Estimator: nimare.meta.cbma.ale.ALE.correct_fwe_montecarlo.\n"
     ]
    },
    {
     "data": {
      "application/vnd.jupyter.widget-view+json": {
       "model_id": "a1460038de6349a0864664499d4d9744",
       "version_major": 2,
       "version_minor": 0
      },
      "text/plain": [
       "  0%|          | 0/1000 [00:00<?, ?it/s]"
      ]
     },
     "metadata": {},
     "output_type": "display_data"
    },
    {
     "name": "stderr",
     "output_type": "stream",
     "text": [
      "INFO:nimare.meta.cbma.base:Using null distribution for voxel-level FWE correction.\n",
      "/var/folders/yk/78rqxlxn4pz_rsb5_31xvh340000gn/T/ipykernel_12256/807646193.py:70: FutureWarning: From release 0.13.0 onwards, this function will, by default, copy the header of the input image to the output. Currently, the header is reset to the default Nifti1Header. To suppress this warning and use the new behavior, set `copy_header=True`.\n",
      "  img_k = image.threshold_img(img_k, threshold=cluster_thresh_z)\n",
      "/opt/anaconda3/lib/python3.12/site-packages/nilearn/image/image.py:1173: UserWarning: Data array used to create a new image contains 64-bit ints. This is likely due to creating the array with numpy and passing `int` as the `dtype`. Many tools such as FSL and SPM cannot deal with int64 in Nifti images, so for compatibility the data has been converted to int32.\n",
      "  return new_img_like(niimg, result, niimg.affine)\n"
     ]
    },
    {
     "name": "stdout",
     "output_type": "stream",
     "text": [
      "Computing ALE for k = 8 null studies added...\n"
     ]
    },
    {
     "name": "stderr",
     "output_type": "stream",
     "text": [
      "INFO:nimare.correct:Using correction method implemented in Estimator: nimare.meta.cbma.ale.ALE.correct_fwe_montecarlo.\n"
     ]
    },
    {
     "data": {
      "application/vnd.jupyter.widget-view+json": {
       "model_id": "bf4b615b1f7a41bdb77cde2ed612abdf",
       "version_major": 2,
       "version_minor": 0
      },
      "text/plain": [
       "  0%|          | 0/1000 [00:00<?, ?it/s]"
      ]
     },
     "metadata": {},
     "output_type": "display_data"
    },
    {
     "name": "stderr",
     "output_type": "stream",
     "text": [
      "INFO:nimare.meta.cbma.base:Using null distribution for voxel-level FWE correction.\n",
      "/var/folders/yk/78rqxlxn4pz_rsb5_31xvh340000gn/T/ipykernel_12256/807646193.py:70: FutureWarning: From release 0.13.0 onwards, this function will, by default, copy the header of the input image to the output. Currently, the header is reset to the default Nifti1Header. To suppress this warning and use the new behavior, set `copy_header=True`.\n",
      "  img_k = image.threshold_img(img_k, threshold=cluster_thresh_z)\n",
      "/opt/anaconda3/lib/python3.12/site-packages/nilearn/image/image.py:1173: UserWarning: Data array used to create a new image contains 64-bit ints. This is likely due to creating the array with numpy and passing `int` as the `dtype`. Many tools such as FSL and SPM cannot deal with int64 in Nifti images, so for compatibility the data has been converted to int32.\n",
      "  return new_img_like(niimg, result, niimg.affine)\n"
     ]
    },
    {
     "name": "stdout",
     "output_type": "stream",
     "text": [
      "Computing ALE for k = 9 null studies added...\n"
     ]
    },
    {
     "name": "stderr",
     "output_type": "stream",
     "text": [
      "INFO:nimare.correct:Using correction method implemented in Estimator: nimare.meta.cbma.ale.ALE.correct_fwe_montecarlo.\n"
     ]
    },
    {
     "data": {
      "application/vnd.jupyter.widget-view+json": {
       "model_id": "41b9f3b105e542af943a3dbf3c76e34a",
       "version_major": 2,
       "version_minor": 0
      },
      "text/plain": [
       "  0%|          | 0/1000 [00:00<?, ?it/s]"
      ]
     },
     "metadata": {},
     "output_type": "display_data"
    },
    {
     "name": "stderr",
     "output_type": "stream",
     "text": [
      "INFO:nimare.meta.cbma.base:Using null distribution for voxel-level FWE correction.\n",
      "/var/folders/yk/78rqxlxn4pz_rsb5_31xvh340000gn/T/ipykernel_12256/807646193.py:70: FutureWarning: From release 0.13.0 onwards, this function will, by default, copy the header of the input image to the output. Currently, the header is reset to the default Nifti1Header. To suppress this warning and use the new behavior, set `copy_header=True`.\n",
      "  img_k = image.threshold_img(img_k, threshold=cluster_thresh_z)\n",
      "/opt/anaconda3/lib/python3.12/site-packages/nilearn/image/image.py:1173: UserWarning: Data array used to create a new image contains 64-bit ints. This is likely due to creating the array with numpy and passing `int` as the `dtype`. Many tools such as FSL and SPM cannot deal with int64 in Nifti images, so for compatibility the data has been converted to int32.\n",
      "  return new_img_like(niimg, result, niimg.affine)\n"
     ]
    },
    {
     "name": "stdout",
     "output_type": "stream",
     "text": [
      "Computing ALE for k = 10 null studies added...\n"
     ]
    },
    {
     "name": "stderr",
     "output_type": "stream",
     "text": [
      "INFO:nimare.correct:Using correction method implemented in Estimator: nimare.meta.cbma.ale.ALE.correct_fwe_montecarlo.\n"
     ]
    },
    {
     "data": {
      "application/vnd.jupyter.widget-view+json": {
       "model_id": "4f132f6e7a31405fa6a28473af93ebd2",
       "version_major": 2,
       "version_minor": 0
      },
      "text/plain": [
       "  0%|          | 0/1000 [00:00<?, ?it/s]"
      ]
     },
     "metadata": {},
     "output_type": "display_data"
    },
    {
     "name": "stderr",
     "output_type": "stream",
     "text": [
      "INFO:nimare.meta.cbma.base:Using null distribution for voxel-level FWE correction.\n",
      "/var/folders/yk/78rqxlxn4pz_rsb5_31xvh340000gn/T/ipykernel_12256/807646193.py:70: FutureWarning: From release 0.13.0 onwards, this function will, by default, copy the header of the input image to the output. Currently, the header is reset to the default Nifti1Header. To suppress this warning and use the new behavior, set `copy_header=True`.\n",
      "  img_k = image.threshold_img(img_k, threshold=cluster_thresh_z)\n",
      "/opt/anaconda3/lib/python3.12/site-packages/nilearn/image/image.py:1173: UserWarning: Data array used to create a new image contains 64-bit ints. This is likely due to creating the array with numpy and passing `int` as the `dtype`. Many tools such as FSL and SPM cannot deal with int64 in Nifti images, so for compatibility the data has been converted to int32.\n",
      "  return new_img_like(niimg, result, niimg.affine)\n"
     ]
    },
    {
     "name": "stdout",
     "output_type": "stream",
     "text": [
      "Computing ALE for k = 11 null studies added...\n"
     ]
    },
    {
     "name": "stderr",
     "output_type": "stream",
     "text": [
      "INFO:nimare.correct:Using correction method implemented in Estimator: nimare.meta.cbma.ale.ALE.correct_fwe_montecarlo.\n"
     ]
    },
    {
     "data": {
      "application/vnd.jupyter.widget-view+json": {
       "model_id": "af9c9dec18164f15928b4cfc67e41ed4",
       "version_major": 2,
       "version_minor": 0
      },
      "text/plain": [
       "  0%|          | 0/1000 [00:00<?, ?it/s]"
      ]
     },
     "metadata": {},
     "output_type": "display_data"
    },
    {
     "name": "stderr",
     "output_type": "stream",
     "text": [
      "INFO:nimare.meta.cbma.base:Using null distribution for voxel-level FWE correction.\n",
      "/var/folders/yk/78rqxlxn4pz_rsb5_31xvh340000gn/T/ipykernel_12256/807646193.py:70: FutureWarning: From release 0.13.0 onwards, this function will, by default, copy the header of the input image to the output. Currently, the header is reset to the default Nifti1Header. To suppress this warning and use the new behavior, set `copy_header=True`.\n",
      "  img_k = image.threshold_img(img_k, threshold=cluster_thresh_z)\n",
      "/var/folders/yk/78rqxlxn4pz_rsb5_31xvh340000gn/T/ipykernel_12256/807646193.py:70: UserWarning: The given float value must not exceed 2.408915545815461. But, you have given threshold=2.5758293035489004.\n",
      "  img_k = image.threshold_img(img_k, threshold=cluster_thresh_z)\n",
      "/opt/anaconda3/lib/python3.12/site-packages/nilearn/image/image.py:1173: UserWarning: Data array used to create a new image contains 64-bit ints. This is likely due to creating the array with numpy and passing `int` as the `dtype`. Many tools such as FSL and SPM cannot deal with int64 in Nifti images, so for compatibility the data has been converted to int32.\n",
      "  return new_img_like(niimg, result, niimg.affine)\n"
     ]
    },
    {
     "name": "stdout",
     "output_type": "stream",
     "text": [
      "No more significant voxels - terminating\n",
      "\n",
      "\n",
      "COMPUTING FSN FOR ../data/ale_analysis_foci/control.txt (seed: 867)\n"
     ]
    },
    {
     "name": "stderr",
     "output_type": "stream",
     "text": [
      "INFO:nimare.correct:Using correction method implemented in Estimator: nimare.meta.cbma.ale.ALE.correct_fwe_montecarlo.\n"
     ]
    },
    {
     "data": {
      "application/vnd.jupyter.widget-view+json": {
       "model_id": "aeda97a525e84547b5a7ca2562b30b6c",
       "version_major": 2,
       "version_minor": 0
      },
      "text/plain": [
       "  0%|          | 0/1000 [00:00<?, ?it/s]"
      ]
     },
     "metadata": {},
     "output_type": "display_data"
    },
    {
     "name": "stderr",
     "output_type": "stream",
     "text": [
      "INFO:nimare.meta.cbma.base:Using null distribution for voxel-level FWE correction.\n",
      "/var/folders/yk/78rqxlxn4pz_rsb5_31xvh340000gn/T/ipykernel_12256/807646193.py:46: FutureWarning: From release 0.13.0 onwards, this function will, by default, copy the header of the input image to the output. Currently, the header is reset to the default Nifti1Header. To suppress this warning and use the new behavior, set `copy_header=True`.\n",
      "  img_fsn = image.threshold_img(img_fsn, threshold=cluster_thresh_z)\n",
      "/opt/anaconda3/lib/python3.12/site-packages/nilearn/image/image.py:1173: UserWarning: Data array used to create a new image contains 64-bit ints. This is likely due to creating the array with numpy and passing `int` as the `dtype`. Many tools such as FSL and SPM cannot deal with int64 in Nifti images, so for compatibility the data has been converted to int32.\n",
      "  return new_img_like(niimg, result, niimg.affine)\n"
     ]
    },
    {
     "name": "stdout",
     "output_type": "stream",
     "text": [
      "Computing ALE for k = 1 null studies added...\n"
     ]
    },
    {
     "name": "stderr",
     "output_type": "stream",
     "text": [
      "INFO:nimare.correct:Using correction method implemented in Estimator: nimare.meta.cbma.ale.ALE.correct_fwe_montecarlo.\n"
     ]
    },
    {
     "data": {
      "application/vnd.jupyter.widget-view+json": {
       "model_id": "ed7f2c2b3f344303876a56db585d3218",
       "version_major": 2,
       "version_minor": 0
      },
      "text/plain": [
       "  0%|          | 0/1000 [00:00<?, ?it/s]"
      ]
     },
     "metadata": {},
     "output_type": "display_data"
    },
    {
     "name": "stderr",
     "output_type": "stream",
     "text": [
      "INFO:nimare.meta.cbma.base:Using null distribution for voxel-level FWE correction.\n",
      "/var/folders/yk/78rqxlxn4pz_rsb5_31xvh340000gn/T/ipykernel_12256/807646193.py:70: FutureWarning: From release 0.13.0 onwards, this function will, by default, copy the header of the input image to the output. Currently, the header is reset to the default Nifti1Header. To suppress this warning and use the new behavior, set `copy_header=True`.\n",
      "  img_k = image.threshold_img(img_k, threshold=cluster_thresh_z)\n",
      "/opt/anaconda3/lib/python3.12/site-packages/nilearn/image/image.py:1173: UserWarning: Data array used to create a new image contains 64-bit ints. This is likely due to creating the array with numpy and passing `int` as the `dtype`. Many tools such as FSL and SPM cannot deal with int64 in Nifti images, so for compatibility the data has been converted to int32.\n",
      "  return new_img_like(niimg, result, niimg.affine)\n"
     ]
    },
    {
     "name": "stdout",
     "output_type": "stream",
     "text": [
      "Computing ALE for k = 2 null studies added...\n"
     ]
    },
    {
     "name": "stderr",
     "output_type": "stream",
     "text": [
      "INFO:nimare.correct:Using correction method implemented in Estimator: nimare.meta.cbma.ale.ALE.correct_fwe_montecarlo.\n"
     ]
    },
    {
     "data": {
      "application/vnd.jupyter.widget-view+json": {
       "model_id": "e127e246db7144c084a4229c5f654ddb",
       "version_major": 2,
       "version_minor": 0
      },
      "text/plain": [
       "  0%|          | 0/1000 [00:00<?, ?it/s]"
      ]
     },
     "metadata": {},
     "output_type": "display_data"
    },
    {
     "name": "stderr",
     "output_type": "stream",
     "text": [
      "INFO:nimare.meta.cbma.base:Using null distribution for voxel-level FWE correction.\n",
      "/var/folders/yk/78rqxlxn4pz_rsb5_31xvh340000gn/T/ipykernel_12256/807646193.py:70: FutureWarning: From release 0.13.0 onwards, this function will, by default, copy the header of the input image to the output. Currently, the header is reset to the default Nifti1Header. To suppress this warning and use the new behavior, set `copy_header=True`.\n",
      "  img_k = image.threshold_img(img_k, threshold=cluster_thresh_z)\n",
      "/opt/anaconda3/lib/python3.12/site-packages/nilearn/image/image.py:1173: UserWarning: Data array used to create a new image contains 64-bit ints. This is likely due to creating the array with numpy and passing `int` as the `dtype`. Many tools such as FSL and SPM cannot deal with int64 in Nifti images, so for compatibility the data has been converted to int32.\n",
      "  return new_img_like(niimg, result, niimg.affine)\n"
     ]
    },
    {
     "name": "stdout",
     "output_type": "stream",
     "text": [
      "Computing ALE for k = 3 null studies added...\n"
     ]
    },
    {
     "name": "stderr",
     "output_type": "stream",
     "text": [
      "INFO:nimare.correct:Using correction method implemented in Estimator: nimare.meta.cbma.ale.ALE.correct_fwe_montecarlo.\n"
     ]
    },
    {
     "data": {
      "application/vnd.jupyter.widget-view+json": {
       "model_id": "0c2ca4cb91354715b51022968cacc371",
       "version_major": 2,
       "version_minor": 0
      },
      "text/plain": [
       "  0%|          | 0/1000 [00:00<?, ?it/s]"
      ]
     },
     "metadata": {},
     "output_type": "display_data"
    },
    {
     "name": "stderr",
     "output_type": "stream",
     "text": [
      "INFO:nimare.meta.cbma.base:Using null distribution for voxel-level FWE correction.\n",
      "/var/folders/yk/78rqxlxn4pz_rsb5_31xvh340000gn/T/ipykernel_12256/807646193.py:70: FutureWarning: From release 0.13.0 onwards, this function will, by default, copy the header of the input image to the output. Currently, the header is reset to the default Nifti1Header. To suppress this warning and use the new behavior, set `copy_header=True`.\n",
      "  img_k = image.threshold_img(img_k, threshold=cluster_thresh_z)\n",
      "/opt/anaconda3/lib/python3.12/site-packages/nilearn/image/image.py:1173: UserWarning: Data array used to create a new image contains 64-bit ints. This is likely due to creating the array with numpy and passing `int` as the `dtype`. Many tools such as FSL and SPM cannot deal with int64 in Nifti images, so for compatibility the data has been converted to int32.\n",
      "  return new_img_like(niimg, result, niimg.affine)\n"
     ]
    },
    {
     "name": "stdout",
     "output_type": "stream",
     "text": [
      "Computing ALE for k = 4 null studies added...\n"
     ]
    },
    {
     "name": "stderr",
     "output_type": "stream",
     "text": [
      "INFO:nimare.correct:Using correction method implemented in Estimator: nimare.meta.cbma.ale.ALE.correct_fwe_montecarlo.\n"
     ]
    },
    {
     "data": {
      "application/vnd.jupyter.widget-view+json": {
       "model_id": "1b93e957fe12454bad8c4816c27a6cd5",
       "version_major": 2,
       "version_minor": 0
      },
      "text/plain": [
       "  0%|          | 0/1000 [00:00<?, ?it/s]"
      ]
     },
     "metadata": {},
     "output_type": "display_data"
    },
    {
     "name": "stderr",
     "output_type": "stream",
     "text": [
      "INFO:nimare.meta.cbma.base:Using null distribution for voxel-level FWE correction.\n",
      "/var/folders/yk/78rqxlxn4pz_rsb5_31xvh340000gn/T/ipykernel_12256/807646193.py:70: FutureWarning: From release 0.13.0 onwards, this function will, by default, copy the header of the input image to the output. Currently, the header is reset to the default Nifti1Header. To suppress this warning and use the new behavior, set `copy_header=True`.\n",
      "  img_k = image.threshold_img(img_k, threshold=cluster_thresh_z)\n",
      "/opt/anaconda3/lib/python3.12/site-packages/nilearn/image/image.py:1173: UserWarning: Data array used to create a new image contains 64-bit ints. This is likely due to creating the array with numpy and passing `int` as the `dtype`. Many tools such as FSL and SPM cannot deal with int64 in Nifti images, so for compatibility the data has been converted to int32.\n",
      "  return new_img_like(niimg, result, niimg.affine)\n"
     ]
    },
    {
     "name": "stdout",
     "output_type": "stream",
     "text": [
      "Computing ALE for k = 5 null studies added...\n"
     ]
    },
    {
     "name": "stderr",
     "output_type": "stream",
     "text": [
      "INFO:nimare.correct:Using correction method implemented in Estimator: nimare.meta.cbma.ale.ALE.correct_fwe_montecarlo.\n"
     ]
    },
    {
     "data": {
      "application/vnd.jupyter.widget-view+json": {
       "model_id": "307948892a204e5abab10b3fdb2bcc63",
       "version_major": 2,
       "version_minor": 0
      },
      "text/plain": [
       "  0%|          | 0/1000 [00:00<?, ?it/s]"
      ]
     },
     "metadata": {},
     "output_type": "display_data"
    },
    {
     "name": "stderr",
     "output_type": "stream",
     "text": [
      "INFO:nimare.meta.cbma.base:Using null distribution for voxel-level FWE correction.\n",
      "/var/folders/yk/78rqxlxn4pz_rsb5_31xvh340000gn/T/ipykernel_12256/807646193.py:70: FutureWarning: From release 0.13.0 onwards, this function will, by default, copy the header of the input image to the output. Currently, the header is reset to the default Nifti1Header. To suppress this warning and use the new behavior, set `copy_header=True`.\n",
      "  img_k = image.threshold_img(img_k, threshold=cluster_thresh_z)\n",
      "/var/folders/yk/78rqxlxn4pz_rsb5_31xvh340000gn/T/ipykernel_12256/807646193.py:70: UserWarning: The given float value must not exceed 2.408915545815461. But, you have given threshold=2.5758293035489004.\n",
      "  img_k = image.threshold_img(img_k, threshold=cluster_thresh_z)\n",
      "/opt/anaconda3/lib/python3.12/site-packages/nilearn/image/image.py:1173: UserWarning: Data array used to create a new image contains 64-bit ints. This is likely due to creating the array with numpy and passing `int` as the `dtype`. Many tools such as FSL and SPM cannot deal with int64 in Nifti images, so for compatibility the data has been converted to int32.\n",
      "  return new_img_like(niimg, result, niimg.affine)\n"
     ]
    },
    {
     "name": "stdout",
     "output_type": "stream",
     "text": [
      "No more significant voxels - terminating\n",
      "\n",
      "\n",
      "COMPUTING FSN FOR ../data/ale_analysis_foci/control.txt (seed: 787)\n"
     ]
    },
    {
     "name": "stderr",
     "output_type": "stream",
     "text": [
      "INFO:nimare.correct:Using correction method implemented in Estimator: nimare.meta.cbma.ale.ALE.correct_fwe_montecarlo.\n"
     ]
    },
    {
     "data": {
      "application/vnd.jupyter.widget-view+json": {
       "model_id": "069515fdd5814743ad311949941431d1",
       "version_major": 2,
       "version_minor": 0
      },
      "text/plain": [
       "  0%|          | 0/1000 [00:00<?, ?it/s]"
      ]
     },
     "metadata": {},
     "output_type": "display_data"
    },
    {
     "name": "stderr",
     "output_type": "stream",
     "text": [
      "INFO:nimare.meta.cbma.base:Using null distribution for voxel-level FWE correction.\n",
      "/var/folders/yk/78rqxlxn4pz_rsb5_31xvh340000gn/T/ipykernel_12256/807646193.py:46: FutureWarning: From release 0.13.0 onwards, this function will, by default, copy the header of the input image to the output. Currently, the header is reset to the default Nifti1Header. To suppress this warning and use the new behavior, set `copy_header=True`.\n",
      "  img_fsn = image.threshold_img(img_fsn, threshold=cluster_thresh_z)\n",
      "/opt/anaconda3/lib/python3.12/site-packages/nilearn/image/image.py:1173: UserWarning: Data array used to create a new image contains 64-bit ints. This is likely due to creating the array with numpy and passing `int` as the `dtype`. Many tools such as FSL and SPM cannot deal with int64 in Nifti images, so for compatibility the data has been converted to int32.\n",
      "  return new_img_like(niimg, result, niimg.affine)\n"
     ]
    },
    {
     "name": "stdout",
     "output_type": "stream",
     "text": [
      "Computing ALE for k = 1 null studies added...\n"
     ]
    },
    {
     "name": "stderr",
     "output_type": "stream",
     "text": [
      "INFO:nimare.correct:Using correction method implemented in Estimator: nimare.meta.cbma.ale.ALE.correct_fwe_montecarlo.\n"
     ]
    },
    {
     "data": {
      "application/vnd.jupyter.widget-view+json": {
       "model_id": "69280bd646434287ba813c8b297954c8",
       "version_major": 2,
       "version_minor": 0
      },
      "text/plain": [
       "  0%|          | 0/1000 [00:00<?, ?it/s]"
      ]
     },
     "metadata": {},
     "output_type": "display_data"
    },
    {
     "name": "stderr",
     "output_type": "stream",
     "text": [
      "INFO:nimare.meta.cbma.base:Using null distribution for voxel-level FWE correction.\n",
      "/var/folders/yk/78rqxlxn4pz_rsb5_31xvh340000gn/T/ipykernel_12256/807646193.py:70: FutureWarning: From release 0.13.0 onwards, this function will, by default, copy the header of the input image to the output. Currently, the header is reset to the default Nifti1Header. To suppress this warning and use the new behavior, set `copy_header=True`.\n",
      "  img_k = image.threshold_img(img_k, threshold=cluster_thresh_z)\n",
      "/opt/anaconda3/lib/python3.12/site-packages/nilearn/image/image.py:1173: UserWarning: Data array used to create a new image contains 64-bit ints. This is likely due to creating the array with numpy and passing `int` as the `dtype`. Many tools such as FSL and SPM cannot deal with int64 in Nifti images, so for compatibility the data has been converted to int32.\n",
      "  return new_img_like(niimg, result, niimg.affine)\n"
     ]
    },
    {
     "name": "stdout",
     "output_type": "stream",
     "text": [
      "Computing ALE for k = 2 null studies added...\n"
     ]
    },
    {
     "name": "stderr",
     "output_type": "stream",
     "text": [
      "INFO:nimare.correct:Using correction method implemented in Estimator: nimare.meta.cbma.ale.ALE.correct_fwe_montecarlo.\n"
     ]
    },
    {
     "data": {
      "application/vnd.jupyter.widget-view+json": {
       "model_id": "d278c083dfa54bc99537744263f65379",
       "version_major": 2,
       "version_minor": 0
      },
      "text/plain": [
       "  0%|          | 0/1000 [00:00<?, ?it/s]"
      ]
     },
     "metadata": {},
     "output_type": "display_data"
    },
    {
     "name": "stderr",
     "output_type": "stream",
     "text": [
      "INFO:nimare.meta.cbma.base:Using null distribution for voxel-level FWE correction.\n",
      "/var/folders/yk/78rqxlxn4pz_rsb5_31xvh340000gn/T/ipykernel_12256/807646193.py:70: FutureWarning: From release 0.13.0 onwards, this function will, by default, copy the header of the input image to the output. Currently, the header is reset to the default Nifti1Header. To suppress this warning and use the new behavior, set `copy_header=True`.\n",
      "  img_k = image.threshold_img(img_k, threshold=cluster_thresh_z)\n",
      "/opt/anaconda3/lib/python3.12/site-packages/nilearn/image/image.py:1173: UserWarning: Data array used to create a new image contains 64-bit ints. This is likely due to creating the array with numpy and passing `int` as the `dtype`. Many tools such as FSL and SPM cannot deal with int64 in Nifti images, so for compatibility the data has been converted to int32.\n",
      "  return new_img_like(niimg, result, niimg.affine)\n"
     ]
    },
    {
     "name": "stdout",
     "output_type": "stream",
     "text": [
      "Computing ALE for k = 3 null studies added...\n"
     ]
    },
    {
     "name": "stderr",
     "output_type": "stream",
     "text": [
      "INFO:nimare.correct:Using correction method implemented in Estimator: nimare.meta.cbma.ale.ALE.correct_fwe_montecarlo.\n"
     ]
    },
    {
     "data": {
      "application/vnd.jupyter.widget-view+json": {
       "model_id": "a8d9ef1f975c4559ab8338832061e982",
       "version_major": 2,
       "version_minor": 0
      },
      "text/plain": [
       "  0%|          | 0/1000 [00:00<?, ?it/s]"
      ]
     },
     "metadata": {},
     "output_type": "display_data"
    },
    {
     "name": "stderr",
     "output_type": "stream",
     "text": [
      "INFO:nimare.meta.cbma.base:Using null distribution for voxel-level FWE correction.\n",
      "/var/folders/yk/78rqxlxn4pz_rsb5_31xvh340000gn/T/ipykernel_12256/807646193.py:70: FutureWarning: From release 0.13.0 onwards, this function will, by default, copy the header of the input image to the output. Currently, the header is reset to the default Nifti1Header. To suppress this warning and use the new behavior, set `copy_header=True`.\n",
      "  img_k = image.threshold_img(img_k, threshold=cluster_thresh_z)\n",
      "/opt/anaconda3/lib/python3.12/site-packages/nilearn/image/image.py:1173: UserWarning: Data array used to create a new image contains 64-bit ints. This is likely due to creating the array with numpy and passing `int` as the `dtype`. Many tools such as FSL and SPM cannot deal with int64 in Nifti images, so for compatibility the data has been converted to int32.\n",
      "  return new_img_like(niimg, result, niimg.affine)\n"
     ]
    },
    {
     "name": "stdout",
     "output_type": "stream",
     "text": [
      "Computing ALE for k = 4 null studies added...\n"
     ]
    },
    {
     "name": "stderr",
     "output_type": "stream",
     "text": [
      "INFO:nimare.correct:Using correction method implemented in Estimator: nimare.meta.cbma.ale.ALE.correct_fwe_montecarlo.\n"
     ]
    },
    {
     "data": {
      "application/vnd.jupyter.widget-view+json": {
       "model_id": "dfa86e670e8449bda844b770b8c801f3",
       "version_major": 2,
       "version_minor": 0
      },
      "text/plain": [
       "  0%|          | 0/1000 [00:00<?, ?it/s]"
      ]
     },
     "metadata": {},
     "output_type": "display_data"
    },
    {
     "name": "stderr",
     "output_type": "stream",
     "text": [
      "INFO:nimare.meta.cbma.base:Using null distribution for voxel-level FWE correction.\n",
      "/var/folders/yk/78rqxlxn4pz_rsb5_31xvh340000gn/T/ipykernel_12256/807646193.py:70: FutureWarning: From release 0.13.0 onwards, this function will, by default, copy the header of the input image to the output. Currently, the header is reset to the default Nifti1Header. To suppress this warning and use the new behavior, set `copy_header=True`.\n",
      "  img_k = image.threshold_img(img_k, threshold=cluster_thresh_z)\n",
      "/opt/anaconda3/lib/python3.12/site-packages/nilearn/image/image.py:1173: UserWarning: Data array used to create a new image contains 64-bit ints. This is likely due to creating the array with numpy and passing `int` as the `dtype`. Many tools such as FSL and SPM cannot deal with int64 in Nifti images, so for compatibility the data has been converted to int32.\n",
      "  return new_img_like(niimg, result, niimg.affine)\n"
     ]
    },
    {
     "name": "stdout",
     "output_type": "stream",
     "text": [
      "Computing ALE for k = 5 null studies added...\n"
     ]
    },
    {
     "name": "stderr",
     "output_type": "stream",
     "text": [
      "INFO:nimare.correct:Using correction method implemented in Estimator: nimare.meta.cbma.ale.ALE.correct_fwe_montecarlo.\n"
     ]
    },
    {
     "data": {
      "application/vnd.jupyter.widget-view+json": {
       "model_id": "9b10d92899a44d80832da343c93caf48",
       "version_major": 2,
       "version_minor": 0
      },
      "text/plain": [
       "  0%|          | 0/1000 [00:00<?, ?it/s]"
      ]
     },
     "metadata": {},
     "output_type": "display_data"
    },
    {
     "name": "stderr",
     "output_type": "stream",
     "text": [
      "INFO:nimare.meta.cbma.base:Using null distribution for voxel-level FWE correction.\n",
      "/var/folders/yk/78rqxlxn4pz_rsb5_31xvh340000gn/T/ipykernel_12256/807646193.py:70: FutureWarning: From release 0.13.0 onwards, this function will, by default, copy the header of the input image to the output. Currently, the header is reset to the default Nifti1Header. To suppress this warning and use the new behavior, set `copy_header=True`.\n",
      "  img_k = image.threshold_img(img_k, threshold=cluster_thresh_z)\n",
      "/var/folders/yk/78rqxlxn4pz_rsb5_31xvh340000gn/T/ipykernel_12256/807646193.py:70: UserWarning: The given float value must not exceed 2.17009037758456. But, you have given threshold=2.5758293035489004.\n",
      "  img_k = image.threshold_img(img_k, threshold=cluster_thresh_z)\n",
      "/opt/anaconda3/lib/python3.12/site-packages/nilearn/image/image.py:1173: UserWarning: Data array used to create a new image contains 64-bit ints. This is likely due to creating the array with numpy and passing `int` as the `dtype`. Many tools such as FSL and SPM cannot deal with int64 in Nifti images, so for compatibility the data has been converted to int32.\n",
      "  return new_img_like(niimg, result, niimg.affine)\n"
     ]
    },
    {
     "name": "stdout",
     "output_type": "stream",
     "text": [
      "No more significant voxels - terminating\n",
      "\n",
      "\n",
      "COMPUTING FSN FOR ../data/ale_analysis_foci/control.txt (seed: 687)\n"
     ]
    },
    {
     "name": "stderr",
     "output_type": "stream",
     "text": [
      "INFO:nimare.correct:Using correction method implemented in Estimator: nimare.meta.cbma.ale.ALE.correct_fwe_montecarlo.\n"
     ]
    },
    {
     "data": {
      "application/vnd.jupyter.widget-view+json": {
       "model_id": "55779e663a8043e2b8e2c8e03578807c",
       "version_major": 2,
       "version_minor": 0
      },
      "text/plain": [
       "  0%|          | 0/1000 [00:00<?, ?it/s]"
      ]
     },
     "metadata": {},
     "output_type": "display_data"
    },
    {
     "name": "stderr",
     "output_type": "stream",
     "text": [
      "INFO:nimare.meta.cbma.base:Using null distribution for voxel-level FWE correction.\n",
      "/var/folders/yk/78rqxlxn4pz_rsb5_31xvh340000gn/T/ipykernel_12256/807646193.py:46: FutureWarning: From release 0.13.0 onwards, this function will, by default, copy the header of the input image to the output. Currently, the header is reset to the default Nifti1Header. To suppress this warning and use the new behavior, set `copy_header=True`.\n",
      "  img_fsn = image.threshold_img(img_fsn, threshold=cluster_thresh_z)\n",
      "/opt/anaconda3/lib/python3.12/site-packages/nilearn/image/image.py:1173: UserWarning: Data array used to create a new image contains 64-bit ints. This is likely due to creating the array with numpy and passing `int` as the `dtype`. Many tools such as FSL and SPM cannot deal with int64 in Nifti images, so for compatibility the data has been converted to int32.\n",
      "  return new_img_like(niimg, result, niimg.affine)\n"
     ]
    },
    {
     "name": "stdout",
     "output_type": "stream",
     "text": [
      "Computing ALE for k = 1 null studies added...\n"
     ]
    },
    {
     "name": "stderr",
     "output_type": "stream",
     "text": [
      "INFO:nimare.correct:Using correction method implemented in Estimator: nimare.meta.cbma.ale.ALE.correct_fwe_montecarlo.\n"
     ]
    },
    {
     "data": {
      "application/vnd.jupyter.widget-view+json": {
       "model_id": "b36abd45c48042aea45e42872464f7d9",
       "version_major": 2,
       "version_minor": 0
      },
      "text/plain": [
       "  0%|          | 0/1000 [00:00<?, ?it/s]"
      ]
     },
     "metadata": {},
     "output_type": "display_data"
    },
    {
     "name": "stderr",
     "output_type": "stream",
     "text": [
      "INFO:nimare.meta.cbma.base:Using null distribution for voxel-level FWE correction.\n",
      "/var/folders/yk/78rqxlxn4pz_rsb5_31xvh340000gn/T/ipykernel_12256/807646193.py:70: FutureWarning: From release 0.13.0 onwards, this function will, by default, copy the header of the input image to the output. Currently, the header is reset to the default Nifti1Header. To suppress this warning and use the new behavior, set `copy_header=True`.\n",
      "  img_k = image.threshold_img(img_k, threshold=cluster_thresh_z)\n",
      "/opt/anaconda3/lib/python3.12/site-packages/nilearn/image/image.py:1173: UserWarning: Data array used to create a new image contains 64-bit ints. This is likely due to creating the array with numpy and passing `int` as the `dtype`. Many tools such as FSL and SPM cannot deal with int64 in Nifti images, so for compatibility the data has been converted to int32.\n",
      "  return new_img_like(niimg, result, niimg.affine)\n"
     ]
    },
    {
     "name": "stdout",
     "output_type": "stream",
     "text": [
      "Computing ALE for k = 2 null studies added...\n"
     ]
    },
    {
     "name": "stderr",
     "output_type": "stream",
     "text": [
      "INFO:nimare.correct:Using correction method implemented in Estimator: nimare.meta.cbma.ale.ALE.correct_fwe_montecarlo.\n"
     ]
    },
    {
     "data": {
      "application/vnd.jupyter.widget-view+json": {
       "model_id": "c6e820df3b964a0cad96c5e14243c8b5",
       "version_major": 2,
       "version_minor": 0
      },
      "text/plain": [
       "  0%|          | 0/1000 [00:00<?, ?it/s]"
      ]
     },
     "metadata": {},
     "output_type": "display_data"
    },
    {
     "name": "stderr",
     "output_type": "stream",
     "text": [
      "INFO:nimare.meta.cbma.base:Using null distribution for voxel-level FWE correction.\n",
      "/var/folders/yk/78rqxlxn4pz_rsb5_31xvh340000gn/T/ipykernel_12256/807646193.py:70: FutureWarning: From release 0.13.0 onwards, this function will, by default, copy the header of the input image to the output. Currently, the header is reset to the default Nifti1Header. To suppress this warning and use the new behavior, set `copy_header=True`.\n",
      "  img_k = image.threshold_img(img_k, threshold=cluster_thresh_z)\n",
      "/opt/anaconda3/lib/python3.12/site-packages/nilearn/image/image.py:1173: UserWarning: Data array used to create a new image contains 64-bit ints. This is likely due to creating the array with numpy and passing `int` as the `dtype`. Many tools such as FSL and SPM cannot deal with int64 in Nifti images, so for compatibility the data has been converted to int32.\n",
      "  return new_img_like(niimg, result, niimg.affine)\n"
     ]
    },
    {
     "name": "stdout",
     "output_type": "stream",
     "text": [
      "Computing ALE for k = 3 null studies added...\n"
     ]
    },
    {
     "name": "stderr",
     "output_type": "stream",
     "text": [
      "INFO:nimare.correct:Using correction method implemented in Estimator: nimare.meta.cbma.ale.ALE.correct_fwe_montecarlo.\n"
     ]
    },
    {
     "data": {
      "application/vnd.jupyter.widget-view+json": {
       "model_id": "afb8869da3144e5e9dae1910229fe08d",
       "version_major": 2,
       "version_minor": 0
      },
      "text/plain": [
       "  0%|          | 0/1000 [00:00<?, ?it/s]"
      ]
     },
     "metadata": {},
     "output_type": "display_data"
    },
    {
     "name": "stderr",
     "output_type": "stream",
     "text": [
      "INFO:nimare.meta.cbma.base:Using null distribution for voxel-level FWE correction.\n",
      "/var/folders/yk/78rqxlxn4pz_rsb5_31xvh340000gn/T/ipykernel_12256/807646193.py:70: FutureWarning: From release 0.13.0 onwards, this function will, by default, copy the header of the input image to the output. Currently, the header is reset to the default Nifti1Header. To suppress this warning and use the new behavior, set `copy_header=True`.\n",
      "  img_k = image.threshold_img(img_k, threshold=cluster_thresh_z)\n",
      "/opt/anaconda3/lib/python3.12/site-packages/nilearn/image/image.py:1173: UserWarning: Data array used to create a new image contains 64-bit ints. This is likely due to creating the array with numpy and passing `int` as the `dtype`. Many tools such as FSL and SPM cannot deal with int64 in Nifti images, so for compatibility the data has been converted to int32.\n",
      "  return new_img_like(niimg, result, niimg.affine)\n"
     ]
    },
    {
     "name": "stdout",
     "output_type": "stream",
     "text": [
      "Computing ALE for k = 4 null studies added...\n"
     ]
    },
    {
     "name": "stderr",
     "output_type": "stream",
     "text": [
      "INFO:nimare.correct:Using correction method implemented in Estimator: nimare.meta.cbma.ale.ALE.correct_fwe_montecarlo.\n"
     ]
    },
    {
     "data": {
      "application/vnd.jupyter.widget-view+json": {
       "model_id": "bbb9bc4a87bf45688228934d99eb7429",
       "version_major": 2,
       "version_minor": 0
      },
      "text/plain": [
       "  0%|          | 0/1000 [00:00<?, ?it/s]"
      ]
     },
     "metadata": {},
     "output_type": "display_data"
    },
    {
     "name": "stderr",
     "output_type": "stream",
     "text": [
      "INFO:nimare.meta.cbma.base:Using null distribution for voxel-level FWE correction.\n",
      "/var/folders/yk/78rqxlxn4pz_rsb5_31xvh340000gn/T/ipykernel_12256/807646193.py:70: FutureWarning: From release 0.13.0 onwards, this function will, by default, copy the header of the input image to the output. Currently, the header is reset to the default Nifti1Header. To suppress this warning and use the new behavior, set `copy_header=True`.\n",
      "  img_k = image.threshold_img(img_k, threshold=cluster_thresh_z)\n",
      "/opt/anaconda3/lib/python3.12/site-packages/nilearn/image/image.py:1173: UserWarning: Data array used to create a new image contains 64-bit ints. This is likely due to creating the array with numpy and passing `int` as the `dtype`. Many tools such as FSL and SPM cannot deal with int64 in Nifti images, so for compatibility the data has been converted to int32.\n",
      "  return new_img_like(niimg, result, niimg.affine)\n"
     ]
    },
    {
     "name": "stdout",
     "output_type": "stream",
     "text": [
      "Computing ALE for k = 5 null studies added...\n"
     ]
    },
    {
     "name": "stderr",
     "output_type": "stream",
     "text": [
      "INFO:nimare.correct:Using correction method implemented in Estimator: nimare.meta.cbma.ale.ALE.correct_fwe_montecarlo.\n"
     ]
    },
    {
     "data": {
      "application/vnd.jupyter.widget-view+json": {
       "model_id": "e13328e5d4f94f64b8ed0212b4ac1e94",
       "version_major": 2,
       "version_minor": 0
      },
      "text/plain": [
       "  0%|          | 0/1000 [00:00<?, ?it/s]"
      ]
     },
     "metadata": {},
     "output_type": "display_data"
    },
    {
     "name": "stderr",
     "output_type": "stream",
     "text": [
      "INFO:nimare.meta.cbma.base:Using null distribution for voxel-level FWE correction.\n",
      "/var/folders/yk/78rqxlxn4pz_rsb5_31xvh340000gn/T/ipykernel_12256/807646193.py:70: FutureWarning: From release 0.13.0 onwards, this function will, by default, copy the header of the input image to the output. Currently, the header is reset to the default Nifti1Header. To suppress this warning and use the new behavior, set `copy_header=True`.\n",
      "  img_k = image.threshold_img(img_k, threshold=cluster_thresh_z)\n",
      "/opt/anaconda3/lib/python3.12/site-packages/nilearn/image/image.py:1173: UserWarning: Data array used to create a new image contains 64-bit ints. This is likely due to creating the array with numpy and passing `int` as the `dtype`. Many tools such as FSL and SPM cannot deal with int64 in Nifti images, so for compatibility the data has been converted to int32.\n",
      "  return new_img_like(niimg, result, niimg.affine)\n"
     ]
    },
    {
     "name": "stdout",
     "output_type": "stream",
     "text": [
      "Computing ALE for k = 6 null studies added...\n"
     ]
    },
    {
     "name": "stderr",
     "output_type": "stream",
     "text": [
      "INFO:nimare.correct:Using correction method implemented in Estimator: nimare.meta.cbma.ale.ALE.correct_fwe_montecarlo.\n"
     ]
    },
    {
     "data": {
      "application/vnd.jupyter.widget-view+json": {
       "model_id": "1e7dcaa637b8405e90b13cc6549c98a7",
       "version_major": 2,
       "version_minor": 0
      },
      "text/plain": [
       "  0%|          | 0/1000 [00:00<?, ?it/s]"
      ]
     },
     "metadata": {},
     "output_type": "display_data"
    },
    {
     "name": "stderr",
     "output_type": "stream",
     "text": [
      "INFO:nimare.meta.cbma.base:Using null distribution for voxel-level FWE correction.\n",
      "/var/folders/yk/78rqxlxn4pz_rsb5_31xvh340000gn/T/ipykernel_12256/807646193.py:70: FutureWarning: From release 0.13.0 onwards, this function will, by default, copy the header of the input image to the output. Currently, the header is reset to the default Nifti1Header. To suppress this warning and use the new behavior, set `copy_header=True`.\n",
      "  img_k = image.threshold_img(img_k, threshold=cluster_thresh_z)\n",
      "/var/folders/yk/78rqxlxn4pz_rsb5_31xvh340000gn/T/ipykernel_12256/807646193.py:70: UserWarning: The given float value must not exceed 2.2262117693171746. But, you have given threshold=2.5758293035489004.\n",
      "  img_k = image.threshold_img(img_k, threshold=cluster_thresh_z)\n",
      "/opt/anaconda3/lib/python3.12/site-packages/nilearn/image/image.py:1173: UserWarning: Data array used to create a new image contains 64-bit ints. This is likely due to creating the array with numpy and passing `int` as the `dtype`. Many tools such as FSL and SPM cannot deal with int64 in Nifti images, so for compatibility the data has been converted to int32.\n",
      "  return new_img_like(niimg, result, niimg.affine)\n"
     ]
    },
    {
     "name": "stdout",
     "output_type": "stream",
     "text": [
      "No more significant voxels - terminating\n",
      "\n",
      "\n",
      "COMPUTING FSN FOR ../data/ale_analysis_foci/control.txt (seed: 558)\n"
     ]
    },
    {
     "name": "stderr",
     "output_type": "stream",
     "text": [
      "INFO:nimare.correct:Using correction method implemented in Estimator: nimare.meta.cbma.ale.ALE.correct_fwe_montecarlo.\n"
     ]
    },
    {
     "data": {
      "application/vnd.jupyter.widget-view+json": {
       "model_id": "c7df82ee5b384e6aa4d81585a0431425",
       "version_major": 2,
       "version_minor": 0
      },
      "text/plain": [
       "  0%|          | 0/1000 [00:00<?, ?it/s]"
      ]
     },
     "metadata": {},
     "output_type": "display_data"
    },
    {
     "name": "stderr",
     "output_type": "stream",
     "text": [
      "INFO:nimare.meta.cbma.base:Using null distribution for voxel-level FWE correction.\n",
      "/var/folders/yk/78rqxlxn4pz_rsb5_31xvh340000gn/T/ipykernel_12256/807646193.py:46: FutureWarning: From release 0.13.0 onwards, this function will, by default, copy the header of the input image to the output. Currently, the header is reset to the default Nifti1Header. To suppress this warning and use the new behavior, set `copy_header=True`.\n",
      "  img_fsn = image.threshold_img(img_fsn, threshold=cluster_thresh_z)\n",
      "/opt/anaconda3/lib/python3.12/site-packages/nilearn/image/image.py:1173: UserWarning: Data array used to create a new image contains 64-bit ints. This is likely due to creating the array with numpy and passing `int` as the `dtype`. Many tools such as FSL and SPM cannot deal with int64 in Nifti images, so for compatibility the data has been converted to int32.\n",
      "  return new_img_like(niimg, result, niimg.affine)\n"
     ]
    },
    {
     "name": "stdout",
     "output_type": "stream",
     "text": [
      "Computing ALE for k = 1 null studies added...\n"
     ]
    },
    {
     "name": "stderr",
     "output_type": "stream",
     "text": [
      "INFO:nimare.correct:Using correction method implemented in Estimator: nimare.meta.cbma.ale.ALE.correct_fwe_montecarlo.\n"
     ]
    },
    {
     "data": {
      "application/vnd.jupyter.widget-view+json": {
       "model_id": "a7c51c353a7d4200b4ae2e5e00ac062b",
       "version_major": 2,
       "version_minor": 0
      },
      "text/plain": [
       "  0%|          | 0/1000 [00:00<?, ?it/s]"
      ]
     },
     "metadata": {},
     "output_type": "display_data"
    },
    {
     "name": "stderr",
     "output_type": "stream",
     "text": [
      "INFO:nimare.meta.cbma.base:Using null distribution for voxel-level FWE correction.\n",
      "/var/folders/yk/78rqxlxn4pz_rsb5_31xvh340000gn/T/ipykernel_12256/807646193.py:70: FutureWarning: From release 0.13.0 onwards, this function will, by default, copy the header of the input image to the output. Currently, the header is reset to the default Nifti1Header. To suppress this warning and use the new behavior, set `copy_header=True`.\n",
      "  img_k = image.threshold_img(img_k, threshold=cluster_thresh_z)\n",
      "/opt/anaconda3/lib/python3.12/site-packages/nilearn/image/image.py:1173: UserWarning: Data array used to create a new image contains 64-bit ints. This is likely due to creating the array with numpy and passing `int` as the `dtype`. Many tools such as FSL and SPM cannot deal with int64 in Nifti images, so for compatibility the data has been converted to int32.\n",
      "  return new_img_like(niimg, result, niimg.affine)\n"
     ]
    },
    {
     "name": "stdout",
     "output_type": "stream",
     "text": [
      "Computing ALE for k = 2 null studies added...\n"
     ]
    },
    {
     "name": "stderr",
     "output_type": "stream",
     "text": [
      "INFO:nimare.correct:Using correction method implemented in Estimator: nimare.meta.cbma.ale.ALE.correct_fwe_montecarlo.\n"
     ]
    },
    {
     "data": {
      "application/vnd.jupyter.widget-view+json": {
       "model_id": "f592f83cb51e47b892ce77954714b723",
       "version_major": 2,
       "version_minor": 0
      },
      "text/plain": [
       "  0%|          | 0/1000 [00:00<?, ?it/s]"
      ]
     },
     "metadata": {},
     "output_type": "display_data"
    },
    {
     "name": "stderr",
     "output_type": "stream",
     "text": [
      "INFO:nimare.meta.cbma.base:Using null distribution for voxel-level FWE correction.\n",
      "/var/folders/yk/78rqxlxn4pz_rsb5_31xvh340000gn/T/ipykernel_12256/807646193.py:70: FutureWarning: From release 0.13.0 onwards, this function will, by default, copy the header of the input image to the output. Currently, the header is reset to the default Nifti1Header. To suppress this warning and use the new behavior, set `copy_header=True`.\n",
      "  img_k = image.threshold_img(img_k, threshold=cluster_thresh_z)\n",
      "/opt/anaconda3/lib/python3.12/site-packages/nilearn/image/image.py:1173: UserWarning: Data array used to create a new image contains 64-bit ints. This is likely due to creating the array with numpy and passing `int` as the `dtype`. Many tools such as FSL and SPM cannot deal with int64 in Nifti images, so for compatibility the data has been converted to int32.\n",
      "  return new_img_like(niimg, result, niimg.affine)\n"
     ]
    },
    {
     "name": "stdout",
     "output_type": "stream",
     "text": [
      "Computing ALE for k = 3 null studies added...\n"
     ]
    },
    {
     "name": "stderr",
     "output_type": "stream",
     "text": [
      "INFO:nimare.correct:Using correction method implemented in Estimator: nimare.meta.cbma.ale.ALE.correct_fwe_montecarlo.\n"
     ]
    },
    {
     "data": {
      "application/vnd.jupyter.widget-view+json": {
       "model_id": "a740f78b458b4e568bf7773f58aeaae0",
       "version_major": 2,
       "version_minor": 0
      },
      "text/plain": [
       "  0%|          | 0/1000 [00:00<?, ?it/s]"
      ]
     },
     "metadata": {},
     "output_type": "display_data"
    },
    {
     "name": "stderr",
     "output_type": "stream",
     "text": [
      "INFO:nimare.meta.cbma.base:Using null distribution for voxel-level FWE correction.\n",
      "/var/folders/yk/78rqxlxn4pz_rsb5_31xvh340000gn/T/ipykernel_12256/807646193.py:70: FutureWarning: From release 0.13.0 onwards, this function will, by default, copy the header of the input image to the output. Currently, the header is reset to the default Nifti1Header. To suppress this warning and use the new behavior, set `copy_header=True`.\n",
      "  img_k = image.threshold_img(img_k, threshold=cluster_thresh_z)\n",
      "/opt/anaconda3/lib/python3.12/site-packages/nilearn/image/image.py:1173: UserWarning: Data array used to create a new image contains 64-bit ints. This is likely due to creating the array with numpy and passing `int` as the `dtype`. Many tools such as FSL and SPM cannot deal with int64 in Nifti images, so for compatibility the data has been converted to int32.\n",
      "  return new_img_like(niimg, result, niimg.affine)\n"
     ]
    },
    {
     "name": "stdout",
     "output_type": "stream",
     "text": [
      "Computing ALE for k = 4 null studies added...\n"
     ]
    },
    {
     "name": "stderr",
     "output_type": "stream",
     "text": [
      "INFO:nimare.correct:Using correction method implemented in Estimator: nimare.meta.cbma.ale.ALE.correct_fwe_montecarlo.\n"
     ]
    },
    {
     "data": {
      "application/vnd.jupyter.widget-view+json": {
       "model_id": "e0e1672f53d24fb689f6ccc9eebb7ca8",
       "version_major": 2,
       "version_minor": 0
      },
      "text/plain": [
       "  0%|          | 0/1000 [00:00<?, ?it/s]"
      ]
     },
     "metadata": {},
     "output_type": "display_data"
    },
    {
     "name": "stderr",
     "output_type": "stream",
     "text": [
      "INFO:nimare.meta.cbma.base:Using null distribution for voxel-level FWE correction.\n",
      "/var/folders/yk/78rqxlxn4pz_rsb5_31xvh340000gn/T/ipykernel_12256/807646193.py:70: FutureWarning: From release 0.13.0 onwards, this function will, by default, copy the header of the input image to the output. Currently, the header is reset to the default Nifti1Header. To suppress this warning and use the new behavior, set `copy_header=True`.\n",
      "  img_k = image.threshold_img(img_k, threshold=cluster_thresh_z)\n",
      "/opt/anaconda3/lib/python3.12/site-packages/nilearn/image/image.py:1173: UserWarning: Data array used to create a new image contains 64-bit ints. This is likely due to creating the array with numpy and passing `int` as the `dtype`. Many tools such as FSL and SPM cannot deal with int64 in Nifti images, so for compatibility the data has been converted to int32.\n",
      "  return new_img_like(niimg, result, niimg.affine)\n"
     ]
    },
    {
     "name": "stdout",
     "output_type": "stream",
     "text": [
      "Computing ALE for k = 5 null studies added...\n"
     ]
    },
    {
     "name": "stderr",
     "output_type": "stream",
     "text": [
      "INFO:nimare.correct:Using correction method implemented in Estimator: nimare.meta.cbma.ale.ALE.correct_fwe_montecarlo.\n"
     ]
    },
    {
     "data": {
      "application/vnd.jupyter.widget-view+json": {
       "model_id": "705ad86f7efe451e8d79956552c3c7a6",
       "version_major": 2,
       "version_minor": 0
      },
      "text/plain": [
       "  0%|          | 0/1000 [00:00<?, ?it/s]"
      ]
     },
     "metadata": {},
     "output_type": "display_data"
    },
    {
     "name": "stderr",
     "output_type": "stream",
     "text": [
      "INFO:nimare.meta.cbma.base:Using null distribution for voxel-level FWE correction.\n",
      "/var/folders/yk/78rqxlxn4pz_rsb5_31xvh340000gn/T/ipykernel_12256/807646193.py:70: FutureWarning: From release 0.13.0 onwards, this function will, by default, copy the header of the input image to the output. Currently, the header is reset to the default Nifti1Header. To suppress this warning and use the new behavior, set `copy_header=True`.\n",
      "  img_k = image.threshold_img(img_k, threshold=cluster_thresh_z)\n",
      "/opt/anaconda3/lib/python3.12/site-packages/nilearn/image/image.py:1173: UserWarning: Data array used to create a new image contains 64-bit ints. This is likely due to creating the array with numpy and passing `int` as the `dtype`. Many tools such as FSL and SPM cannot deal with int64 in Nifti images, so for compatibility the data has been converted to int32.\n",
      "  return new_img_like(niimg, result, niimg.affine)\n"
     ]
    },
    {
     "name": "stdout",
     "output_type": "stream",
     "text": [
      "Computing ALE for k = 6 null studies added...\n"
     ]
    },
    {
     "name": "stderr",
     "output_type": "stream",
     "text": [
      "INFO:nimare.correct:Using correction method implemented in Estimator: nimare.meta.cbma.ale.ALE.correct_fwe_montecarlo.\n"
     ]
    },
    {
     "data": {
      "application/vnd.jupyter.widget-view+json": {
       "model_id": "b6da65a76ec146ab906127bb453c9398",
       "version_major": 2,
       "version_minor": 0
      },
      "text/plain": [
       "  0%|          | 0/1000 [00:00<?, ?it/s]"
      ]
     },
     "metadata": {},
     "output_type": "display_data"
    },
    {
     "name": "stderr",
     "output_type": "stream",
     "text": [
      "INFO:nimare.meta.cbma.base:Using null distribution for voxel-level FWE correction.\n",
      "/var/folders/yk/78rqxlxn4pz_rsb5_31xvh340000gn/T/ipykernel_12256/807646193.py:70: FutureWarning: From release 0.13.0 onwards, this function will, by default, copy the header of the input image to the output. Currently, the header is reset to the default Nifti1Header. To suppress this warning and use the new behavior, set `copy_header=True`.\n",
      "  img_k = image.threshold_img(img_k, threshold=cluster_thresh_z)\n",
      "/var/folders/yk/78rqxlxn4pz_rsb5_31xvh340000gn/T/ipykernel_12256/807646193.py:70: UserWarning: The given float value must not exceed 2.2262117693171746. But, you have given threshold=2.5758293035489004.\n",
      "  img_k = image.threshold_img(img_k, threshold=cluster_thresh_z)\n",
      "/opt/anaconda3/lib/python3.12/site-packages/nilearn/image/image.py:1173: UserWarning: Data array used to create a new image contains 64-bit ints. This is likely due to creating the array with numpy and passing `int` as the `dtype`. Many tools such as FSL and SPM cannot deal with int64 in Nifti images, so for compatibility the data has been converted to int32.\n",
      "  return new_img_like(niimg, result, niimg.affine)\n"
     ]
    },
    {
     "name": "stdout",
     "output_type": "stream",
     "text": [
      "No more significant voxels - terminating\n",
      "\n"
     ]
    },
    {
     "name": "stderr",
     "output_type": "stream",
     "text": [
      "/var/folders/yk/78rqxlxn4pz_rsb5_31xvh340000gn/T/ipykernel_12256/3206686921.py:31: FutureWarning: From release 0.13.0 onwards, this function will, by default, copy the header of the input image to the output. Currently, the header is reset to the default Nifti1Header. To suppress this warning and use the new behavior, set `copy_header=True`.\n",
      "  img_mean = image.mean_img(imgs_fsn)\n"
     ]
    }
   ],
   "source": [
    "\n",
    "# Use our function to compute multiple filedrawers for each text file\n",
    "_ = [\n",
    "    [\n",
    "        compute_fsn(\n",
    "            text_file=text_file,\n",
    "            space=\"ale_2mm\",\n",
    "            voxel_thresh=0.001,\n",
    "            cluster_thresh=0.01,\n",
    "            n_iters=1000,\n",
    "            k_max_factor=5,\n",
    "            random_ale_seed=1234,\n",
    "            random_null_seed=random_null_seed,\n",
    "            output_dir=output_dir + filedrawer,\n",
    "        )\n",
    "        for random_null_seed, filedrawer in zip(random_null_seeds, filedrawers)\n",
    "    ]\n",
    "    for text_file, output_dir in zip(text_files, output_dirs)\n",
    "]\n",
    "\n",
    "\n",
    "# Compute mean FSN across filedrawers\n",
    "for prefix in prefixes:\n",
    "\n",
    "    # Read FSN maps from all filedrawers\n",
    "    fnames_maps = glob(\n",
    "        \"../results/fsn/\" + prefix + \"/filedrawer*/\" + prefix + \"_fsn.nii.gz\"\n",
    "    )\n",
    "    imgs_fsn = [image.load_img(fname) for fname in fnames_maps]\n",
    "\n",
    "    # Average and save\n",
    "    img_mean = image.mean_img(imgs_fsn)\n",
    "    fname_img_mean = \"../results/fsn/\" + prefix + \"/\" + prefix + \"_mean_fsn.nii.gz\"\n",
    "    save(img_mean, fname_img_mean)\n",
    "\n",
    "    # Read FSN tables from all filedrawers\n",
    "    fnames_tabs = glob(\n",
    "        \"../results/fsn/\" + prefix + \"/filedrawer*/\" + prefix + \"_fsn.tsv\"\n",
    "    )\n",
    "    tabs_fsn = [pd.read_csv(fname, delimiter=\"\\t\") for fname in fnames_tabs]\n",
    "    tab_fsn = pd.concat(tabs_fsn)\n",
    "\n",
    "    # Compute summary statistics\n",
    "    agg = tab_fsn.groupby(\"Cluster ID\")[\"FSN\"].agg([\"mean\", \"count\", \"std\"])\n",
    "\n",
    "    # Compute confidence intervals\n",
    "    ci_level = 0.05\n",
    "    z_crit = abs(norm.ppf(ci_level / 2))\n",
    "    agg[\"se\"] = [std / sqrt(count) for std, count in zip(agg[\"std\"], agg[\"count\"])]\n",
    "    agg[\"ci_lower\"] = agg[\"mean\"] - z_crit * agg[\"se\"]\n",
    "    agg[\"ci_upper\"] = agg[\"mean\"] + z_crit * agg[\"se\"]\n",
    "\n",
    "    # Save summary statistics\n",
    "    fname_agg = \"../results/fsn/\" + prefix + \"/\" + prefix + \"_mean_fsn.csv\"\n",
    "    agg.to_csv(fname_agg, float_format=\"%.3f\")\n"
   ]
  }
 ],
 "metadata": {
  "kernelspec": {
   "display_name": "base",
   "language": "python",
   "name": "python3"
  },
  "language_info": {
   "codemirror_mode": {
    "name": "ipython",
    "version": 3
   },
   "file_extension": ".py",
   "mimetype": "text/x-python",
   "name": "python",
   "nbconvert_exporter": "python",
   "pygments_lexer": "ipython3",
   "version": "3.12.7"
  }
 },
 "nbformat": 4,
 "nbformat_minor": 2
}
