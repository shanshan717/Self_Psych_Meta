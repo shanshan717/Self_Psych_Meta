{
 "cells": [
  {
   "cell_type": "markdown",
   "metadata": {},
   "source": [
    "This code was heavily based on Enge et al. 2021 codes available at https://osf.io/34ry2/ (we are highly grateful for their commitment to open research)"
   ]
  },
  {
   "cell_type": "code",
   "execution_count": 1,
   "metadata": {},
   "outputs": [],
   "source": [
    "import random\n",
    "from glob import glob\n",
    "from math import sqrt\n",
    "from os import makedirs, path\n",
    "from re import sub\n",
    "from shutil import copy\n",
    "from sys import argv\n",
    "\n",
    "import numpy as np\n",
    "import pandas as pd\n",
    "from nibabel import save\n",
    "from nilearn import image, reporting\n",
    "from nimare import correct, io, meta, utils\n",
    "from scipy.stats import norm"
   ]
  },
  {
   "cell_type": "code",
   "execution_count": 2,
   "metadata": {},
   "outputs": [],
   "source": [
    "# Define function to generate a new data set with k null studies added\n",
    "def generate_null(\n",
    "    text_file=\"peaks.txt\",\n",
    "    space=\"ale_2mm\",\n",
    "    k_null=100,\n",
    "    random_seed=None,\n",
    "    output_dir=\"./\",\n",
    "):\n",
    "\n",
    "    # Load NiMARE's gray matter template\n",
    "    # comment：这里直接用brain是可以的吗？还是要去找一个明确说明是gray matter的模板？\n",
    "    # brain:tpl-MNI152NLin6Asym_res-01_desc-brain_mask.nii.gz\n",
    "    temp = utils.get_template(space=space, mask=\"brain\")\n",
    "\n",
    "    # Extract possible MNI coordinates for all gray matter voxels\n",
    "    x, y, z = np.where(temp.get_fdata() == 1.0)\n",
    "    within_mni = image.coord_transform(x=x, y=y, z=z, affine=temp.affine)\n",
    "    within_mni = np.array(within_mni).transpose()\n",
    "\n",
    "    # Read the original Sleuth file into a NiMARE data set\n",
    "    dset = io.convert_sleuth_to_dataset(text_file, target=space)\n",
    "\n",
    "    # Set a random seed to make the results reproducible\n",
    "    if random_seed:\n",
    "        random.seed(random_seed)\n",
    "\n",
    "    # Resample numbers of subjects per experiment based on the original data\n",
    "    nr_subjects_dset = [n[0] for n in dset.metadata[\"sample_sizes\"]]\n",
    "    nr_subjects_null = random.choices(nr_subjects_dset, k=k_null)\n",
    "\n",
    "    # Resample numbers of peaks per experiment based on the original data\n",
    "    nr_peaks_dset = dset.coordinates[\"study_id\"].value_counts().tolist()\n",
    "    nr_peaks_null = random.choices(nr_peaks_dset, k=k_null)\n",
    "\n",
    "    # Create random peak coordinates\n",
    "    idx_list = [\n",
    "        random.sample(range(len(within_mni)), k=k_peaks) for k_peaks in nr_peaks_null\n",
    "    ]\n",
    "    peaks_null = [within_mni[idx] for idx in idx_list]\n",
    "\n",
    "    # Copy original experiments to the destination Sleuth file\n",
    "    makedirs(output_dir, exist_ok=True)\n",
    "    text_file_basename = path.basename(text_file)\n",
    "    null_file_basename = sub(\n",
    "        pattern=\".txt\", repl=\"_plus_k\" + str(k_null) + \".txt\", string=text_file_basename\n",
    "    )\n",
    "    null_file = output_dir + \"/\" + null_file_basename\n",
    "    copy(text_file, null_file)\n",
    "\n",
    "    # Append all the null studies to the Sleuth file\n",
    "    f = open(null_file, mode=\"a\")\n",
    "    for i in range(k_null):\n",
    "        f.write(\n",
    "            \"\\n// nullstudy\"\n",
    "            + str(i + 1)\n",
    "            + \"\\n// Subjects=\"\n",
    "            + str(nr_subjects_null[i])\n",
    "            + \"\\n\"\n",
    "        )\n",
    "        np.savetxt(f, peaks_null[i], fmt=\"%.3f\", delimiter=\"\\t\")\n",
    "    f.close()\n",
    "\n",
    "    # Read the new Sleuth file and return it as a NiMARE data set\n",
    "    dset_null = io.convert_sleuth_to_dataset(null_file, target=space)\n",
    "    return dset_null\n"
   ]
  },
  {
   "cell_type": "code",
   "execution_count": 3,
   "metadata": {},
   "outputs": [],
   "source": [
    "# Define function to compute the FSN for all voxels from a Sleuth file\n",
    "def compute_fsn(\n",
    "    text_file=\"peaks.txt\",\n",
    "    space=\"ale_2mm\",\n",
    "    voxel_thresh=0.001,\n",
    "    cluster_thresh=0.01,\n",
    "    n_iters=1000,\n",
    "    k_max_factor=5,\n",
    "    random_ale_seed=None,\n",
    "    random_null_seed=None,\n",
    "    output_dir=\"./\",\n",
    "):\n",
    "\n",
    "    # Let's show the user what we are doing\n",
    "    print(\"\\nCOMPUTING FSN FOR \" + text_file + \" (seed: \" + str(random_null_seed) + \")\")\n",
    "\n",
    "    # Set random seed for original ALE if requested\n",
    "    if random_ale_seed:\n",
    "        np.random.seed(random_ale_seed)\n",
    "\n",
    "    # Recreate the original ALE analysis\n",
    "    ale = meta.cbma.ALE()\n",
    "    corr = correct.FWECorrector(\n",
    "        method=\"montecarlo\", voxel_thresh=voxel_thresh, n_iters=n_iters\n",
    "    )\n",
    "    dset_orig = io.convert_sleuth_to_dataset(text_file=text_file, target=space)\n",
    "    res_orig = ale.fit(dset_orig)\n",
    "    cres_orig = corr.transform(res_orig)\n",
    "\n",
    "    # Extract the original study IDs\n",
    "    ids_orig = dset_orig.ids.tolist()\n",
    "\n",
    "    # Create a new data set with a large number null studies added\n",
    "    k_max = len(ids_orig) * k_max_factor\n",
    "    dset_null = generate_null(\n",
    "        text_file=text_file,\n",
    "        space=space,\n",
    "        k_null=k_max,\n",
    "        random_seed=random_null_seed,\n",
    "        output_dir=output_dir,\n",
    "    )\n",
    "\n",
    "    # Create thresholded cluster mask\n",
    "    img_fsn = cres_orig.get_map(\"z_desc-size_level-cluster_corr-FWE_method-montecarlo\")\n",
    "    cluster_thresh_z = norm.ppf(1 - cluster_thresh / 2)\n",
    "    img_fsn = image.threshold_img(img_fsn, threshold=cluster_thresh_z)\n",
    "    img_fsn = image.math_img(\"np.where(img > 0, 1, 0)\", img=img_fsn)\n",
    "\n",
    "    # Create cluster-thresholded z map\n",
    "    img_z = cres_orig.get_map(\"z\")\n",
    "    img_z = image.math_img(\"img1 * img2\", img1=img_fsn, img2=img_z)\n",
    "\n",
    "    # Iteratively add null studies up to our pre-defined maximum\n",
    "    for k in range(1, k_max):\n",
    "\n",
    "        # Print message\n",
    "        print(\"Computing ALE for k = \" + str(k) + \" null studies added...\")\n",
    "\n",
    "        # Create a new data set with k null studies added\n",
    "        ids_null = [\"nullstudy\" + str(x) + \"-\" for x in range(1, k + 1)]\n",
    "        ids = ids_orig + ids_null\n",
    "        dset_k = dset_null.slice(ids)\n",
    "\n",
    "        # Compute the ALE\n",
    "        res_k = res = ale.fit(dset_k)\n",
    "        cres_k = corr.transform(result=res_k)\n",
    "\n",
    "        # Create a thresholded cluster mask\n",
    "        img_k = cres_k.get_map(\"z_desc-size_level-cluster_corr-FWE_method-montecarlo\")\n",
    "        img_k = image.threshold_img(img_k, threshold=cluster_thresh_z)\n",
    "        img_k = image.math_img(\"np.where(img > 0, 1, 0)\", img=img_k)\n",
    "\n",
    "        # Use this to update the per-voxel FSN - this is a bit hack-ish: On a voxel-by-\n",
    "        # voxel basis, we increase the value by 1 if and only if the voxel has remained\n",
    "        # significant. As soon as it has failed to reach significance once, we never\n",
    "        # increase FSN any further. This is handeled by comparing the current FSN to\n",
    "        # the current value of k.\n",
    "        count = str(k + 1)\n",
    "        formula = \"np.where(img_fsn + img_k == \" + count + \", img_fsn + 1, img_fsn)\"\n",
    "        img_fsn = image.math_img(formula, img_fsn=img_fsn, img_k=img_k)\n",
    "\n",
    "        # Quit as soon as there are no significant clusters left in the current map\n",
    "        if not np.any(img_k.get_fdata()):\n",
    "            print(\"No more significant voxels - terminating\\n\")\n",
    "            break\n",
    "\n",
    "    # Save the FSN map that we've created in the loop\n",
    "    filename_img = path.basename(text_file).replace(\".txt\", \"_fsn.nii.gz\")\n",
    "    save(img_fsn, filename=output_dir + \"/\" + filename_img)\n",
    "\n",
    "    # Extract the FSN values at the original cluster peaks\n",
    "    tab_fsn = reporting.get_clusters_table(img_z, stat_threshold=0, min_distance=1000)\n",
    "    inv_affine = np.linalg.inv(img_z.affine)\n",
    "    x, y, z = [np.array(tab_fsn[col]) for col in [\"X\", \"Y\", \"Z\"]]\n",
    "    x, y, z = image.coord_transform(x=x, y=y, z=z, affine=inv_affine)\n",
    "    x, y, z = [arr.astype(\"int\") for arr in [x, y, z]]\n",
    "    tab_fsn[\"FSN\"] = img_fsn.get_fdata()[x, y, z]\n",
    "\n",
    "    # Save this cluster table with the new FSN column\n",
    "    filename_tab = path.basename(text_file).replace(\".txt\", \"_fsn.tsv\")\n",
    "    tab_fsn.to_csv(output_dir + \"/\" + filename_tab, sep=\"\\t\", index=False)\n",
    "\n",
    "    return img_fsn, tab_fsn\n",
    "\n"
   ]
  },
  {
   "cell_type": "code",
   "execution_count": 4,
   "metadata": {},
   "outputs": [],
   "source": [
    "# Ideally, we want to perform all of this multiple times for different (random) filedrawers. Otherwise, the resulting FSN values would hinge a lot on the random patterns of these specific null experiments. However, doing all of these iterative simulations multiple times is extremly computationally expensive. We therefore wrote the next bit of the notebook in a way so that it can be run in parallel on our high performance computing (HPC) cluster. For this, we would call this notebook as a Python script from the command line and need to provide it with two additional parameters: The name of the original ALE analysis for which we want to compute the FSN and the number of different filedrawers we want to estimate (so we can always compute multiple filedrawers in parallel). If you don't happen to have access to an HPC and want to try the out the simulations directly withing the notebook, simply uncomment the two lines of code to define `prefixes` and `nr_filedrawers` locally.\n",
    "# Get which FSN analyses to perform from the command line\n",
    "prefixes = [\"patient\"] \n",
    "\n",
    "# Get number of filedrawers per analysis from the command line\n",
    "nr_filedrawers = 5\n"
   ]
  },
  {
   "cell_type": "code",
   "execution_count": 5,
   "metadata": {},
   "outputs": [],
   "source": [
    "\n",
    "# # Or define them here for debugging\n",
    "# prefixes = [\"all\", \"knowledge\", \"relatedness\", \"objects\"]\n",
    "# nr_filedrawers = 10\n",
    "\n",
    "# List the filenames of the Sleuth text files\n",
    "text_files = [\"../data/ale_analysis_foci/patient.txt\"]\n"
   ]
  },
  {
   "cell_type": "code",
   "execution_count": 6,
   "metadata": {},
   "outputs": [],
   "source": [
    "\n",
    "# Create output directory names\n",
    "output_dirs = [\"../results/fsn/\" + prefix + \"/\" for prefix in prefixes]\n"
   ]
  },
  {
   "cell_type": "code",
   "execution_count": 7,
   "metadata": {},
   "outputs": [],
   "source": [
    "\n",
    "# Create random seeds for filedrawers\n",
    "random_null_seeds = random.sample(range(1000), k=nr_filedrawers)\n",
    "filedrawers = [\"filedrawer\" + str(seed) for seed in random_null_seeds]\n",
    "\n"
   ]
  },
  {
   "cell_type": "code",
   "execution_count": 8,
   "metadata": {},
   "outputs": [
    {
     "name": "stdout",
     "output_type": "stream",
     "text": [
      "\n",
      "COMPUTING FSN FOR ../data/ale_analysis_foci/patient.txt (seed: 443)\n"
     ]
    },
    {
     "name": "stderr",
     "output_type": "stream",
     "text": [
      "INFO:nimare.correct:Using correction method implemented in Estimator: nimare.meta.cbma.ale.ALE.correct_fwe_montecarlo.\n"
     ]
    },
    {
     "data": {
      "application/vnd.jupyter.widget-view+json": {
       "model_id": "96e67142a4184a26be15d9b432d6e732",
       "version_major": 2,
       "version_minor": 0
      },
      "text/plain": [
       "  0%|          | 0/1000 [00:00<?, ?it/s]"
      ]
     },
     "metadata": {},
     "output_type": "display_data"
    },
    {
     "name": "stderr",
     "output_type": "stream",
     "text": [
      "INFO:nimare.meta.cbma.base:Using null distribution for voxel-level FWE correction.\n",
      "/var/folders/yk/78rqxlxn4pz_rsb5_31xvh340000gn/T/ipykernel_57407/807646193.py:46: FutureWarning: From release 0.13.0 onwards, this function will, by default, copy the header of the input image to the output. Currently, the header is reset to the default Nifti1Header. To suppress this warning and use the new behavior, set `copy_header=True`.\n",
      "  img_fsn = image.threshold_img(img_fsn, threshold=cluster_thresh_z)\n",
      "/opt/anaconda3/lib/python3.12/site-packages/nilearn/image/image.py:1173: UserWarning: Data array used to create a new image contains 64-bit ints. This is likely due to creating the array with numpy and passing `int` as the `dtype`. Many tools such as FSL and SPM cannot deal with int64 in Nifti images, so for compatibility the data has been converted to int32.\n",
      "  return new_img_like(niimg, result, niimg.affine)\n"
     ]
    },
    {
     "name": "stdout",
     "output_type": "stream",
     "text": [
      "Computing ALE for k = 1 null studies added...\n"
     ]
    },
    {
     "name": "stderr",
     "output_type": "stream",
     "text": [
      "INFO:nimare.correct:Using correction method implemented in Estimator: nimare.meta.cbma.ale.ALE.correct_fwe_montecarlo.\n"
     ]
    },
    {
     "data": {
      "application/vnd.jupyter.widget-view+json": {
       "model_id": "b54c8b35e35f47fe8253ac9bfce30b58",
       "version_major": 2,
       "version_minor": 0
      },
      "text/plain": [
       "  0%|          | 0/1000 [00:00<?, ?it/s]"
      ]
     },
     "metadata": {},
     "output_type": "display_data"
    },
    {
     "name": "stderr",
     "output_type": "stream",
     "text": [
      "INFO:nimare.meta.cbma.base:Using null distribution for voxel-level FWE correction.\n",
      "/var/folders/yk/78rqxlxn4pz_rsb5_31xvh340000gn/T/ipykernel_57407/807646193.py:70: FutureWarning: From release 0.13.0 onwards, this function will, by default, copy the header of the input image to the output. Currently, the header is reset to the default Nifti1Header. To suppress this warning and use the new behavior, set `copy_header=True`.\n",
      "  img_k = image.threshold_img(img_k, threshold=cluster_thresh_z)\n",
      "/opt/anaconda3/lib/python3.12/site-packages/nilearn/image/image.py:1173: UserWarning: Data array used to create a new image contains 64-bit ints. This is likely due to creating the array with numpy and passing `int` as the `dtype`. Many tools such as FSL and SPM cannot deal with int64 in Nifti images, so for compatibility the data has been converted to int32.\n",
      "  return new_img_like(niimg, result, niimg.affine)\n"
     ]
    },
    {
     "name": "stdout",
     "output_type": "stream",
     "text": [
      "Computing ALE for k = 2 null studies added...\n"
     ]
    },
    {
     "name": "stderr",
     "output_type": "stream",
     "text": [
      "INFO:nimare.correct:Using correction method implemented in Estimator: nimare.meta.cbma.ale.ALE.correct_fwe_montecarlo.\n"
     ]
    },
    {
     "data": {
      "application/vnd.jupyter.widget-view+json": {
       "model_id": "069b613933df44ba911728435cd3938b",
       "version_major": 2,
       "version_minor": 0
      },
      "text/plain": [
       "  0%|          | 0/1000 [00:00<?, ?it/s]"
      ]
     },
     "metadata": {},
     "output_type": "display_data"
    },
    {
     "name": "stderr",
     "output_type": "stream",
     "text": [
      "INFO:nimare.meta.cbma.base:Using null distribution for voxel-level FWE correction.\n",
      "/var/folders/yk/78rqxlxn4pz_rsb5_31xvh340000gn/T/ipykernel_57407/807646193.py:70: FutureWarning: From release 0.13.0 onwards, this function will, by default, copy the header of the input image to the output. Currently, the header is reset to the default Nifti1Header. To suppress this warning and use the new behavior, set `copy_header=True`.\n",
      "  img_k = image.threshold_img(img_k, threshold=cluster_thresh_z)\n",
      "/opt/anaconda3/lib/python3.12/site-packages/nilearn/image/image.py:1173: UserWarning: Data array used to create a new image contains 64-bit ints. This is likely due to creating the array with numpy and passing `int` as the `dtype`. Many tools such as FSL and SPM cannot deal with int64 in Nifti images, so for compatibility the data has been converted to int32.\n",
      "  return new_img_like(niimg, result, niimg.affine)\n"
     ]
    },
    {
     "name": "stdout",
     "output_type": "stream",
     "text": [
      "Computing ALE for k = 3 null studies added...\n"
     ]
    },
    {
     "name": "stderr",
     "output_type": "stream",
     "text": [
      "INFO:nimare.correct:Using correction method implemented in Estimator: nimare.meta.cbma.ale.ALE.correct_fwe_montecarlo.\n"
     ]
    },
    {
     "data": {
      "application/vnd.jupyter.widget-view+json": {
       "model_id": "478ca98e7db748e4bb22260878bc57b6",
       "version_major": 2,
       "version_minor": 0
      },
      "text/plain": [
       "  0%|          | 0/1000 [00:00<?, ?it/s]"
      ]
     },
     "metadata": {},
     "output_type": "display_data"
    },
    {
     "name": "stderr",
     "output_type": "stream",
     "text": [
      "INFO:nimare.meta.cbma.base:Using null distribution for voxel-level FWE correction.\n",
      "/var/folders/yk/78rqxlxn4pz_rsb5_31xvh340000gn/T/ipykernel_57407/807646193.py:70: FutureWarning: From release 0.13.0 onwards, this function will, by default, copy the header of the input image to the output. Currently, the header is reset to the default Nifti1Header. To suppress this warning and use the new behavior, set `copy_header=True`.\n",
      "  img_k = image.threshold_img(img_k, threshold=cluster_thresh_z)\n",
      "/opt/anaconda3/lib/python3.12/site-packages/nilearn/image/image.py:1173: UserWarning: Data array used to create a new image contains 64-bit ints. This is likely due to creating the array with numpy and passing `int` as the `dtype`. Many tools such as FSL and SPM cannot deal with int64 in Nifti images, so for compatibility the data has been converted to int32.\n",
      "  return new_img_like(niimg, result, niimg.affine)\n"
     ]
    },
    {
     "name": "stdout",
     "output_type": "stream",
     "text": [
      "Computing ALE for k = 4 null studies added...\n"
     ]
    },
    {
     "name": "stderr",
     "output_type": "stream",
     "text": [
      "INFO:nimare.correct:Using correction method implemented in Estimator: nimare.meta.cbma.ale.ALE.correct_fwe_montecarlo.\n"
     ]
    },
    {
     "data": {
      "application/vnd.jupyter.widget-view+json": {
       "model_id": "36ce0c9f88744d26949e4fb6a3b52bd6",
       "version_major": 2,
       "version_minor": 0
      },
      "text/plain": [
       "  0%|          | 0/1000 [00:00<?, ?it/s]"
      ]
     },
     "metadata": {},
     "output_type": "display_data"
    },
    {
     "name": "stderr",
     "output_type": "stream",
     "text": [
      "INFO:nimare.meta.cbma.base:Using null distribution for voxel-level FWE correction.\n",
      "/var/folders/yk/78rqxlxn4pz_rsb5_31xvh340000gn/T/ipykernel_57407/807646193.py:70: FutureWarning: From release 0.13.0 onwards, this function will, by default, copy the header of the input image to the output. Currently, the header is reset to the default Nifti1Header. To suppress this warning and use the new behavior, set `copy_header=True`.\n",
      "  img_k = image.threshold_img(img_k, threshold=cluster_thresh_z)\n",
      "/opt/anaconda3/lib/python3.12/site-packages/nilearn/image/image.py:1173: UserWarning: Data array used to create a new image contains 64-bit ints. This is likely due to creating the array with numpy and passing `int` as the `dtype`. Many tools such as FSL and SPM cannot deal with int64 in Nifti images, so for compatibility the data has been converted to int32.\n",
      "  return new_img_like(niimg, result, niimg.affine)\n"
     ]
    },
    {
     "name": "stdout",
     "output_type": "stream",
     "text": [
      "Computing ALE for k = 5 null studies added...\n"
     ]
    },
    {
     "name": "stderr",
     "output_type": "stream",
     "text": [
      "INFO:nimare.correct:Using correction method implemented in Estimator: nimare.meta.cbma.ale.ALE.correct_fwe_montecarlo.\n"
     ]
    },
    {
     "data": {
      "application/vnd.jupyter.widget-view+json": {
       "model_id": "655d097079c34ebabf20c1c6da28037c",
       "version_major": 2,
       "version_minor": 0
      },
      "text/plain": [
       "  0%|          | 0/1000 [00:00<?, ?it/s]"
      ]
     },
     "metadata": {},
     "output_type": "display_data"
    },
    {
     "name": "stderr",
     "output_type": "stream",
     "text": [
      "INFO:nimare.meta.cbma.base:Using null distribution for voxel-level FWE correction.\n",
      "/var/folders/yk/78rqxlxn4pz_rsb5_31xvh340000gn/T/ipykernel_57407/807646193.py:70: FutureWarning: From release 0.13.0 onwards, this function will, by default, copy the header of the input image to the output. Currently, the header is reset to the default Nifti1Header. To suppress this warning and use the new behavior, set `copy_header=True`.\n",
      "  img_k = image.threshold_img(img_k, threshold=cluster_thresh_z)\n",
      "/opt/anaconda3/lib/python3.12/site-packages/nilearn/image/image.py:1173: UserWarning: Data array used to create a new image contains 64-bit ints. This is likely due to creating the array with numpy and passing `int` as the `dtype`. Many tools such as FSL and SPM cannot deal with int64 in Nifti images, so for compatibility the data has been converted to int32.\n",
      "  return new_img_like(niimg, result, niimg.affine)\n"
     ]
    },
    {
     "name": "stdout",
     "output_type": "stream",
     "text": [
      "Computing ALE for k = 6 null studies added...\n"
     ]
    },
    {
     "name": "stderr",
     "output_type": "stream",
     "text": [
      "INFO:nimare.correct:Using correction method implemented in Estimator: nimare.meta.cbma.ale.ALE.correct_fwe_montecarlo.\n"
     ]
    },
    {
     "data": {
      "application/vnd.jupyter.widget-view+json": {
       "model_id": "04f276dd4dc1407b80942fef1b61030a",
       "version_major": 2,
       "version_minor": 0
      },
      "text/plain": [
       "  0%|          | 0/1000 [00:00<?, ?it/s]"
      ]
     },
     "metadata": {},
     "output_type": "display_data"
    },
    {
     "name": "stderr",
     "output_type": "stream",
     "text": [
      "INFO:nimare.meta.cbma.base:Using null distribution for voxel-level FWE correction.\n",
      "/var/folders/yk/78rqxlxn4pz_rsb5_31xvh340000gn/T/ipykernel_57407/807646193.py:70: FutureWarning: From release 0.13.0 onwards, this function will, by default, copy the header of the input image to the output. Currently, the header is reset to the default Nifti1Header. To suppress this warning and use the new behavior, set `copy_header=True`.\n",
      "  img_k = image.threshold_img(img_k, threshold=cluster_thresh_z)\n",
      "/var/folders/yk/78rqxlxn4pz_rsb5_31xvh340000gn/T/ipykernel_57407/807646193.py:70: UserWarning: The given float value must not exceed 2.3656181268642924. But, you have given threshold=2.5758293035489004.\n",
      "  img_k = image.threshold_img(img_k, threshold=cluster_thresh_z)\n",
      "/opt/anaconda3/lib/python3.12/site-packages/nilearn/image/image.py:1173: UserWarning: Data array used to create a new image contains 64-bit ints. This is likely due to creating the array with numpy and passing `int` as the `dtype`. Many tools such as FSL and SPM cannot deal with int64 in Nifti images, so for compatibility the data has been converted to int32.\n",
      "  return new_img_like(niimg, result, niimg.affine)\n"
     ]
    },
    {
     "name": "stdout",
     "output_type": "stream",
     "text": [
      "No more significant voxels - terminating\n",
      "\n",
      "\n",
      "COMPUTING FSN FOR ../data/ale_analysis_foci/patient.txt (seed: 563)\n"
     ]
    },
    {
     "name": "stderr",
     "output_type": "stream",
     "text": [
      "INFO:nimare.correct:Using correction method implemented in Estimator: nimare.meta.cbma.ale.ALE.correct_fwe_montecarlo.\n"
     ]
    },
    {
     "data": {
      "application/vnd.jupyter.widget-view+json": {
       "model_id": "b03a688cc86844f59baa741aeb079e9a",
       "version_major": 2,
       "version_minor": 0
      },
      "text/plain": [
       "  0%|          | 0/1000 [00:00<?, ?it/s]"
      ]
     },
     "metadata": {},
     "output_type": "display_data"
    },
    {
     "name": "stderr",
     "output_type": "stream",
     "text": [
      "INFO:nimare.meta.cbma.base:Using null distribution for voxel-level FWE correction.\n",
      "/var/folders/yk/78rqxlxn4pz_rsb5_31xvh340000gn/T/ipykernel_57407/807646193.py:46: FutureWarning: From release 0.13.0 onwards, this function will, by default, copy the header of the input image to the output. Currently, the header is reset to the default Nifti1Header. To suppress this warning and use the new behavior, set `copy_header=True`.\n",
      "  img_fsn = image.threshold_img(img_fsn, threshold=cluster_thresh_z)\n",
      "/opt/anaconda3/lib/python3.12/site-packages/nilearn/image/image.py:1173: UserWarning: Data array used to create a new image contains 64-bit ints. This is likely due to creating the array with numpy and passing `int` as the `dtype`. Many tools such as FSL and SPM cannot deal with int64 in Nifti images, so for compatibility the data has been converted to int32.\n",
      "  return new_img_like(niimg, result, niimg.affine)\n"
     ]
    },
    {
     "name": "stdout",
     "output_type": "stream",
     "text": [
      "Computing ALE for k = 1 null studies added...\n"
     ]
    },
    {
     "name": "stderr",
     "output_type": "stream",
     "text": [
      "INFO:nimare.correct:Using correction method implemented in Estimator: nimare.meta.cbma.ale.ALE.correct_fwe_montecarlo.\n"
     ]
    },
    {
     "data": {
      "application/vnd.jupyter.widget-view+json": {
       "model_id": "e6e0fbcc8e204766a9fd5ee6d27c74c8",
       "version_major": 2,
       "version_minor": 0
      },
      "text/plain": [
       "  0%|          | 0/1000 [00:00<?, ?it/s]"
      ]
     },
     "metadata": {},
     "output_type": "display_data"
    },
    {
     "name": "stderr",
     "output_type": "stream",
     "text": [
      "INFO:nimare.meta.cbma.base:Using null distribution for voxel-level FWE correction.\n",
      "/var/folders/yk/78rqxlxn4pz_rsb5_31xvh340000gn/T/ipykernel_57407/807646193.py:70: FutureWarning: From release 0.13.0 onwards, this function will, by default, copy the header of the input image to the output. Currently, the header is reset to the default Nifti1Header. To suppress this warning and use the new behavior, set `copy_header=True`.\n",
      "  img_k = image.threshold_img(img_k, threshold=cluster_thresh_z)\n",
      "/opt/anaconda3/lib/python3.12/site-packages/nilearn/image/image.py:1173: UserWarning: Data array used to create a new image contains 64-bit ints. This is likely due to creating the array with numpy and passing `int` as the `dtype`. Many tools such as FSL and SPM cannot deal with int64 in Nifti images, so for compatibility the data has been converted to int32.\n",
      "  return new_img_like(niimg, result, niimg.affine)\n"
     ]
    },
    {
     "name": "stdout",
     "output_type": "stream",
     "text": [
      "Computing ALE for k = 2 null studies added...\n"
     ]
    },
    {
     "name": "stderr",
     "output_type": "stream",
     "text": [
      "INFO:nimare.correct:Using correction method implemented in Estimator: nimare.meta.cbma.ale.ALE.correct_fwe_montecarlo.\n"
     ]
    },
    {
     "data": {
      "application/vnd.jupyter.widget-view+json": {
       "model_id": "383123d91cd14913a2f82a6a9a7bc1da",
       "version_major": 2,
       "version_minor": 0
      },
      "text/plain": [
       "  0%|          | 0/1000 [00:00<?, ?it/s]"
      ]
     },
     "metadata": {},
     "output_type": "display_data"
    },
    {
     "name": "stderr",
     "output_type": "stream",
     "text": [
      "INFO:nimare.meta.cbma.base:Using null distribution for voxel-level FWE correction.\n",
      "/var/folders/yk/78rqxlxn4pz_rsb5_31xvh340000gn/T/ipykernel_57407/807646193.py:70: FutureWarning: From release 0.13.0 onwards, this function will, by default, copy the header of the input image to the output. Currently, the header is reset to the default Nifti1Header. To suppress this warning and use the new behavior, set `copy_header=True`.\n",
      "  img_k = image.threshold_img(img_k, threshold=cluster_thresh_z)\n",
      "/opt/anaconda3/lib/python3.12/site-packages/nilearn/image/image.py:1173: UserWarning: Data array used to create a new image contains 64-bit ints. This is likely due to creating the array with numpy and passing `int` as the `dtype`. Many tools such as FSL and SPM cannot deal with int64 in Nifti images, so for compatibility the data has been converted to int32.\n",
      "  return new_img_like(niimg, result, niimg.affine)\n"
     ]
    },
    {
     "name": "stdout",
     "output_type": "stream",
     "text": [
      "Computing ALE for k = 3 null studies added...\n"
     ]
    },
    {
     "name": "stderr",
     "output_type": "stream",
     "text": [
      "INFO:nimare.correct:Using correction method implemented in Estimator: nimare.meta.cbma.ale.ALE.correct_fwe_montecarlo.\n"
     ]
    },
    {
     "data": {
      "application/vnd.jupyter.widget-view+json": {
       "model_id": "1259f3f7567946dfb3b7d0a4cbe52ee2",
       "version_major": 2,
       "version_minor": 0
      },
      "text/plain": [
       "  0%|          | 0/1000 [00:00<?, ?it/s]"
      ]
     },
     "metadata": {},
     "output_type": "display_data"
    },
    {
     "name": "stderr",
     "output_type": "stream",
     "text": [
      "INFO:nimare.meta.cbma.base:Using null distribution for voxel-level FWE correction.\n",
      "/var/folders/yk/78rqxlxn4pz_rsb5_31xvh340000gn/T/ipykernel_57407/807646193.py:70: FutureWarning: From release 0.13.0 onwards, this function will, by default, copy the header of the input image to the output. Currently, the header is reset to the default Nifti1Header. To suppress this warning and use the new behavior, set `copy_header=True`.\n",
      "  img_k = image.threshold_img(img_k, threshold=cluster_thresh_z)\n",
      "/opt/anaconda3/lib/python3.12/site-packages/nilearn/image/image.py:1173: UserWarning: Data array used to create a new image contains 64-bit ints. This is likely due to creating the array with numpy and passing `int` as the `dtype`. Many tools such as FSL and SPM cannot deal with int64 in Nifti images, so for compatibility the data has been converted to int32.\n",
      "  return new_img_like(niimg, result, niimg.affine)\n"
     ]
    },
    {
     "name": "stdout",
     "output_type": "stream",
     "text": [
      "Computing ALE for k = 4 null studies added...\n"
     ]
    },
    {
     "name": "stderr",
     "output_type": "stream",
     "text": [
      "INFO:nimare.correct:Using correction method implemented in Estimator: nimare.meta.cbma.ale.ALE.correct_fwe_montecarlo.\n"
     ]
    },
    {
     "data": {
      "application/vnd.jupyter.widget-view+json": {
       "model_id": "b466287f3e0c4e8bacddcbdccc679779",
       "version_major": 2,
       "version_minor": 0
      },
      "text/plain": [
       "  0%|          | 0/1000 [00:00<?, ?it/s]"
      ]
     },
     "metadata": {},
     "output_type": "display_data"
    },
    {
     "name": "stderr",
     "output_type": "stream",
     "text": [
      "INFO:nimare.meta.cbma.base:Using null distribution for voxel-level FWE correction.\n",
      "/var/folders/yk/78rqxlxn4pz_rsb5_31xvh340000gn/T/ipykernel_57407/807646193.py:70: FutureWarning: From release 0.13.0 onwards, this function will, by default, copy the header of the input image to the output. Currently, the header is reset to the default Nifti1Header. To suppress this warning and use the new behavior, set `copy_header=True`.\n",
      "  img_k = image.threshold_img(img_k, threshold=cluster_thresh_z)\n",
      "/opt/anaconda3/lib/python3.12/site-packages/nilearn/image/image.py:1173: UserWarning: Data array used to create a new image contains 64-bit ints. This is likely due to creating the array with numpy and passing `int` as the `dtype`. Many tools such as FSL and SPM cannot deal with int64 in Nifti images, so for compatibility the data has been converted to int32.\n",
      "  return new_img_like(niimg, result, niimg.affine)\n"
     ]
    },
    {
     "name": "stdout",
     "output_type": "stream",
     "text": [
      "Computing ALE for k = 5 null studies added...\n"
     ]
    },
    {
     "name": "stderr",
     "output_type": "stream",
     "text": [
      "INFO:nimare.correct:Using correction method implemented in Estimator: nimare.meta.cbma.ale.ALE.correct_fwe_montecarlo.\n"
     ]
    },
    {
     "data": {
      "application/vnd.jupyter.widget-view+json": {
       "model_id": "3e28702e9e6c4e35b82b4ba7655bc7ed",
       "version_major": 2,
       "version_minor": 0
      },
      "text/plain": [
       "  0%|          | 0/1000 [00:00<?, ?it/s]"
      ]
     },
     "metadata": {},
     "output_type": "display_data"
    },
    {
     "name": "stderr",
     "output_type": "stream",
     "text": [
      "INFO:nimare.meta.cbma.base:Using null distribution for voxel-level FWE correction.\n",
      "/var/folders/yk/78rqxlxn4pz_rsb5_31xvh340000gn/T/ipykernel_57407/807646193.py:70: FutureWarning: From release 0.13.0 onwards, this function will, by default, copy the header of the input image to the output. Currently, the header is reset to the default Nifti1Header. To suppress this warning and use the new behavior, set `copy_header=True`.\n",
      "  img_k = image.threshold_img(img_k, threshold=cluster_thresh_z)\n",
      "/opt/anaconda3/lib/python3.12/site-packages/nilearn/image/image.py:1173: UserWarning: Data array used to create a new image contains 64-bit ints. This is likely due to creating the array with numpy and passing `int` as the `dtype`. Many tools such as FSL and SPM cannot deal with int64 in Nifti images, so for compatibility the data has been converted to int32.\n",
      "  return new_img_like(niimg, result, niimg.affine)\n"
     ]
    },
    {
     "name": "stdout",
     "output_type": "stream",
     "text": [
      "Computing ALE for k = 6 null studies added...\n"
     ]
    },
    {
     "name": "stderr",
     "output_type": "stream",
     "text": [
      "INFO:nimare.correct:Using correction method implemented in Estimator: nimare.meta.cbma.ale.ALE.correct_fwe_montecarlo.\n"
     ]
    },
    {
     "data": {
      "application/vnd.jupyter.widget-view+json": {
       "model_id": "5ee323c03a8a4604a14f5b6389741ca3",
       "version_major": 2,
       "version_minor": 0
      },
      "text/plain": [
       "  0%|          | 0/1000 [00:00<?, ?it/s]"
      ]
     },
     "metadata": {},
     "output_type": "display_data"
    },
    {
     "name": "stderr",
     "output_type": "stream",
     "text": [
      "INFO:nimare.meta.cbma.base:Using null distribution for voxel-level FWE correction.\n",
      "/var/folders/yk/78rqxlxn4pz_rsb5_31xvh340000gn/T/ipykernel_57407/807646193.py:70: FutureWarning: From release 0.13.0 onwards, this function will, by default, copy the header of the input image to the output. Currently, the header is reset to the default Nifti1Header. To suppress this warning and use the new behavior, set `copy_header=True`.\n",
      "  img_k = image.threshold_img(img_k, threshold=cluster_thresh_z)\n",
      "/opt/anaconda3/lib/python3.12/site-packages/nilearn/image/image.py:1173: UserWarning: Data array used to create a new image contains 64-bit ints. This is likely due to creating the array with numpy and passing `int` as the `dtype`. Many tools such as FSL and SPM cannot deal with int64 in Nifti images, so for compatibility the data has been converted to int32.\n",
      "  return new_img_like(niimg, result, niimg.affine)\n"
     ]
    },
    {
     "name": "stdout",
     "output_type": "stream",
     "text": [
      "Computing ALE for k = 7 null studies added...\n"
     ]
    },
    {
     "name": "stderr",
     "output_type": "stream",
     "text": [
      "INFO:nimare.correct:Using correction method implemented in Estimator: nimare.meta.cbma.ale.ALE.correct_fwe_montecarlo.\n"
     ]
    },
    {
     "data": {
      "application/vnd.jupyter.widget-view+json": {
       "model_id": "fed04c42361c43078542b9d72fdc70a8",
       "version_major": 2,
       "version_minor": 0
      },
      "text/plain": [
       "  0%|          | 0/1000 [00:00<?, ?it/s]"
      ]
     },
     "metadata": {},
     "output_type": "display_data"
    },
    {
     "name": "stderr",
     "output_type": "stream",
     "text": [
      "INFO:nimare.meta.cbma.base:Using null distribution for voxel-level FWE correction.\n",
      "/var/folders/yk/78rqxlxn4pz_rsb5_31xvh340000gn/T/ipykernel_57407/807646193.py:70: FutureWarning: From release 0.13.0 onwards, this function will, by default, copy the header of the input image to the output. Currently, the header is reset to the default Nifti1Header. To suppress this warning and use the new behavior, set `copy_header=True`.\n",
      "  img_k = image.threshold_img(img_k, threshold=cluster_thresh_z)\n",
      "/opt/anaconda3/lib/python3.12/site-packages/nilearn/image/image.py:1173: UserWarning: Data array used to create a new image contains 64-bit ints. This is likely due to creating the array with numpy and passing `int` as the `dtype`. Many tools such as FSL and SPM cannot deal with int64 in Nifti images, so for compatibility the data has been converted to int32.\n",
      "  return new_img_like(niimg, result, niimg.affine)\n"
     ]
    },
    {
     "name": "stdout",
     "output_type": "stream",
     "text": [
      "Computing ALE for k = 8 null studies added...\n"
     ]
    },
    {
     "name": "stderr",
     "output_type": "stream",
     "text": [
      "INFO:nimare.correct:Using correction method implemented in Estimator: nimare.meta.cbma.ale.ALE.correct_fwe_montecarlo.\n"
     ]
    },
    {
     "data": {
      "application/vnd.jupyter.widget-view+json": {
       "model_id": "2b96cf3b892141e8bb82b1959325c7c4",
       "version_major": 2,
       "version_minor": 0
      },
      "text/plain": [
       "  0%|          | 0/1000 [00:00<?, ?it/s]"
      ]
     },
     "metadata": {},
     "output_type": "display_data"
    },
    {
     "name": "stderr",
     "output_type": "stream",
     "text": [
      "INFO:nimare.meta.cbma.base:Using null distribution for voxel-level FWE correction.\n",
      "/var/folders/yk/78rqxlxn4pz_rsb5_31xvh340000gn/T/ipykernel_57407/807646193.py:70: FutureWarning: From release 0.13.0 onwards, this function will, by default, copy the header of the input image to the output. Currently, the header is reset to the default Nifti1Header. To suppress this warning and use the new behavior, set `copy_header=True`.\n",
      "  img_k = image.threshold_img(img_k, threshold=cluster_thresh_z)\n",
      "/var/folders/yk/78rqxlxn4pz_rsb5_31xvh340000gn/T/ipykernel_57407/807646193.py:70: UserWarning: The given float value must not exceed 2.5121443279304616. But, you have given threshold=2.5758293035489004.\n",
      "  img_k = image.threshold_img(img_k, threshold=cluster_thresh_z)\n",
      "/opt/anaconda3/lib/python3.12/site-packages/nilearn/image/image.py:1173: UserWarning: Data array used to create a new image contains 64-bit ints. This is likely due to creating the array with numpy and passing `int` as the `dtype`. Many tools such as FSL and SPM cannot deal with int64 in Nifti images, so for compatibility the data has been converted to int32.\n",
      "  return new_img_like(niimg, result, niimg.affine)\n"
     ]
    },
    {
     "name": "stdout",
     "output_type": "stream",
     "text": [
      "No more significant voxels - terminating\n",
      "\n",
      "\n",
      "COMPUTING FSN FOR ../data/ale_analysis_foci/patient.txt (seed: 146)\n"
     ]
    },
    {
     "name": "stderr",
     "output_type": "stream",
     "text": [
      "INFO:nimare.correct:Using correction method implemented in Estimator: nimare.meta.cbma.ale.ALE.correct_fwe_montecarlo.\n"
     ]
    },
    {
     "data": {
      "application/vnd.jupyter.widget-view+json": {
       "model_id": "1be4c75efc3a4a13867f54a1650094b8",
       "version_major": 2,
       "version_minor": 0
      },
      "text/plain": [
       "  0%|          | 0/1000 [00:00<?, ?it/s]"
      ]
     },
     "metadata": {},
     "output_type": "display_data"
    },
    {
     "name": "stderr",
     "output_type": "stream",
     "text": [
      "INFO:nimare.meta.cbma.base:Using null distribution for voxel-level FWE correction.\n",
      "/var/folders/yk/78rqxlxn4pz_rsb5_31xvh340000gn/T/ipykernel_57407/807646193.py:46: FutureWarning: From release 0.13.0 onwards, this function will, by default, copy the header of the input image to the output. Currently, the header is reset to the default Nifti1Header. To suppress this warning and use the new behavior, set `copy_header=True`.\n",
      "  img_fsn = image.threshold_img(img_fsn, threshold=cluster_thresh_z)\n",
      "/opt/anaconda3/lib/python3.12/site-packages/nilearn/image/image.py:1173: UserWarning: Data array used to create a new image contains 64-bit ints. This is likely due to creating the array with numpy and passing `int` as the `dtype`. Many tools such as FSL and SPM cannot deal with int64 in Nifti images, so for compatibility the data has been converted to int32.\n",
      "  return new_img_like(niimg, result, niimg.affine)\n"
     ]
    },
    {
     "name": "stdout",
     "output_type": "stream",
     "text": [
      "Computing ALE for k = 1 null studies added...\n"
     ]
    },
    {
     "name": "stderr",
     "output_type": "stream",
     "text": [
      "INFO:nimare.correct:Using correction method implemented in Estimator: nimare.meta.cbma.ale.ALE.correct_fwe_montecarlo.\n"
     ]
    },
    {
     "data": {
      "application/vnd.jupyter.widget-view+json": {
       "model_id": "1c4a09683e364b999d361ca1d37ac328",
       "version_major": 2,
       "version_minor": 0
      },
      "text/plain": [
       "  0%|          | 0/1000 [00:00<?, ?it/s]"
      ]
     },
     "metadata": {},
     "output_type": "display_data"
    },
    {
     "name": "stderr",
     "output_type": "stream",
     "text": [
      "INFO:nimare.meta.cbma.base:Using null distribution for voxel-level FWE correction.\n",
      "/var/folders/yk/78rqxlxn4pz_rsb5_31xvh340000gn/T/ipykernel_57407/807646193.py:70: FutureWarning: From release 0.13.0 onwards, this function will, by default, copy the header of the input image to the output. Currently, the header is reset to the default Nifti1Header. To suppress this warning and use the new behavior, set `copy_header=True`.\n",
      "  img_k = image.threshold_img(img_k, threshold=cluster_thresh_z)\n",
      "/opt/anaconda3/lib/python3.12/site-packages/nilearn/image/image.py:1173: UserWarning: Data array used to create a new image contains 64-bit ints. This is likely due to creating the array with numpy and passing `int` as the `dtype`. Many tools such as FSL and SPM cannot deal with int64 in Nifti images, so for compatibility the data has been converted to int32.\n",
      "  return new_img_like(niimg, result, niimg.affine)\n"
     ]
    },
    {
     "name": "stdout",
     "output_type": "stream",
     "text": [
      "Computing ALE for k = 2 null studies added...\n"
     ]
    },
    {
     "name": "stderr",
     "output_type": "stream",
     "text": [
      "INFO:nimare.correct:Using correction method implemented in Estimator: nimare.meta.cbma.ale.ALE.correct_fwe_montecarlo.\n"
     ]
    },
    {
     "data": {
      "application/vnd.jupyter.widget-view+json": {
       "model_id": "de19d6f6ef964582ad6f04595b93f045",
       "version_major": 2,
       "version_minor": 0
      },
      "text/plain": [
       "  0%|          | 0/1000 [00:00<?, ?it/s]"
      ]
     },
     "metadata": {},
     "output_type": "display_data"
    },
    {
     "name": "stderr",
     "output_type": "stream",
     "text": [
      "INFO:nimare.meta.cbma.base:Using null distribution for voxel-level FWE correction.\n",
      "/var/folders/yk/78rqxlxn4pz_rsb5_31xvh340000gn/T/ipykernel_57407/807646193.py:70: FutureWarning: From release 0.13.0 onwards, this function will, by default, copy the header of the input image to the output. Currently, the header is reset to the default Nifti1Header. To suppress this warning and use the new behavior, set `copy_header=True`.\n",
      "  img_k = image.threshold_img(img_k, threshold=cluster_thresh_z)\n",
      "/opt/anaconda3/lib/python3.12/site-packages/nilearn/image/image.py:1173: UserWarning: Data array used to create a new image contains 64-bit ints. This is likely due to creating the array with numpy and passing `int` as the `dtype`. Many tools such as FSL and SPM cannot deal with int64 in Nifti images, so for compatibility the data has been converted to int32.\n",
      "  return new_img_like(niimg, result, niimg.affine)\n"
     ]
    },
    {
     "name": "stdout",
     "output_type": "stream",
     "text": [
      "Computing ALE for k = 3 null studies added...\n"
     ]
    },
    {
     "name": "stderr",
     "output_type": "stream",
     "text": [
      "INFO:nimare.correct:Using correction method implemented in Estimator: nimare.meta.cbma.ale.ALE.correct_fwe_montecarlo.\n"
     ]
    },
    {
     "data": {
      "application/vnd.jupyter.widget-view+json": {
       "model_id": "f0641cb313ac4569a95552b95572454f",
       "version_major": 2,
       "version_minor": 0
      },
      "text/plain": [
       "  0%|          | 0/1000 [00:00<?, ?it/s]"
      ]
     },
     "metadata": {},
     "output_type": "display_data"
    },
    {
     "name": "stderr",
     "output_type": "stream",
     "text": [
      "INFO:nimare.meta.cbma.base:Using null distribution for voxel-level FWE correction.\n",
      "/var/folders/yk/78rqxlxn4pz_rsb5_31xvh340000gn/T/ipykernel_57407/807646193.py:70: FutureWarning: From release 0.13.0 onwards, this function will, by default, copy the header of the input image to the output. Currently, the header is reset to the default Nifti1Header. To suppress this warning and use the new behavior, set `copy_header=True`.\n",
      "  img_k = image.threshold_img(img_k, threshold=cluster_thresh_z)\n",
      "/opt/anaconda3/lib/python3.12/site-packages/nilearn/image/image.py:1173: UserWarning: Data array used to create a new image contains 64-bit ints. This is likely due to creating the array with numpy and passing `int` as the `dtype`. Many tools such as FSL and SPM cannot deal with int64 in Nifti images, so for compatibility the data has been converted to int32.\n",
      "  return new_img_like(niimg, result, niimg.affine)\n"
     ]
    },
    {
     "name": "stdout",
     "output_type": "stream",
     "text": [
      "Computing ALE for k = 4 null studies added...\n"
     ]
    },
    {
     "name": "stderr",
     "output_type": "stream",
     "text": [
      "INFO:nimare.correct:Using correction method implemented in Estimator: nimare.meta.cbma.ale.ALE.correct_fwe_montecarlo.\n"
     ]
    },
    {
     "data": {
      "application/vnd.jupyter.widget-view+json": {
       "model_id": "4a8de25f23554740bbf7c442fbcc91bd",
       "version_major": 2,
       "version_minor": 0
      },
      "text/plain": [
       "  0%|          | 0/1000 [00:00<?, ?it/s]"
      ]
     },
     "metadata": {},
     "output_type": "display_data"
    },
    {
     "name": "stderr",
     "output_type": "stream",
     "text": [
      "INFO:nimare.meta.cbma.base:Using null distribution for voxel-level FWE correction.\n",
      "/var/folders/yk/78rqxlxn4pz_rsb5_31xvh340000gn/T/ipykernel_57407/807646193.py:70: FutureWarning: From release 0.13.0 onwards, this function will, by default, copy the header of the input image to the output. Currently, the header is reset to the default Nifti1Header. To suppress this warning and use the new behavior, set `copy_header=True`.\n",
      "  img_k = image.threshold_img(img_k, threshold=cluster_thresh_z)\n",
      "/opt/anaconda3/lib/python3.12/site-packages/nilearn/image/image.py:1173: UserWarning: Data array used to create a new image contains 64-bit ints. This is likely due to creating the array with numpy and passing `int` as the `dtype`. Many tools such as FSL and SPM cannot deal with int64 in Nifti images, so for compatibility the data has been converted to int32.\n",
      "  return new_img_like(niimg, result, niimg.affine)\n"
     ]
    },
    {
     "name": "stdout",
     "output_type": "stream",
     "text": [
      "Computing ALE for k = 5 null studies added...\n"
     ]
    },
    {
     "name": "stderr",
     "output_type": "stream",
     "text": [
      "INFO:nimare.correct:Using correction method implemented in Estimator: nimare.meta.cbma.ale.ALE.correct_fwe_montecarlo.\n"
     ]
    },
    {
     "data": {
      "application/vnd.jupyter.widget-view+json": {
       "model_id": "6c80255bd0cc4cf9b8c8c28c4289c24d",
       "version_major": 2,
       "version_minor": 0
      },
      "text/plain": [
       "  0%|          | 0/1000 [00:00<?, ?it/s]"
      ]
     },
     "metadata": {},
     "output_type": "display_data"
    },
    {
     "name": "stderr",
     "output_type": "stream",
     "text": [
      "INFO:nimare.meta.cbma.base:Using null distribution for voxel-level FWE correction.\n",
      "/var/folders/yk/78rqxlxn4pz_rsb5_31xvh340000gn/T/ipykernel_57407/807646193.py:70: FutureWarning: From release 0.13.0 onwards, this function will, by default, copy the header of the input image to the output. Currently, the header is reset to the default Nifti1Header. To suppress this warning and use the new behavior, set `copy_header=True`.\n",
      "  img_k = image.threshold_img(img_k, threshold=cluster_thresh_z)\n",
      "/var/folders/yk/78rqxlxn4pz_rsb5_31xvh340000gn/T/ipykernel_57407/807646193.py:70: UserWarning: The given float value must not exceed 2.457263390205437. But, you have given threshold=2.5758293035489004.\n",
      "  img_k = image.threshold_img(img_k, threshold=cluster_thresh_z)\n",
      "/opt/anaconda3/lib/python3.12/site-packages/nilearn/image/image.py:1173: UserWarning: Data array used to create a new image contains 64-bit ints. This is likely due to creating the array with numpy and passing `int` as the `dtype`. Many tools such as FSL and SPM cannot deal with int64 in Nifti images, so for compatibility the data has been converted to int32.\n",
      "  return new_img_like(niimg, result, niimg.affine)\n"
     ]
    },
    {
     "name": "stdout",
     "output_type": "stream",
     "text": [
      "No more significant voxels - terminating\n",
      "\n",
      "\n",
      "COMPUTING FSN FOR ../data/ale_analysis_foci/patient.txt (seed: 279)\n"
     ]
    },
    {
     "name": "stderr",
     "output_type": "stream",
     "text": [
      "INFO:nimare.correct:Using correction method implemented in Estimator: nimare.meta.cbma.ale.ALE.correct_fwe_montecarlo.\n"
     ]
    },
    {
     "data": {
      "application/vnd.jupyter.widget-view+json": {
       "model_id": "656c66a084bf40a79ae242b3cab38b2c",
       "version_major": 2,
       "version_minor": 0
      },
      "text/plain": [
       "  0%|          | 0/1000 [00:00<?, ?it/s]"
      ]
     },
     "metadata": {},
     "output_type": "display_data"
    },
    {
     "name": "stderr",
     "output_type": "stream",
     "text": [
      "INFO:nimare.meta.cbma.base:Using null distribution for voxel-level FWE correction.\n",
      "/var/folders/yk/78rqxlxn4pz_rsb5_31xvh340000gn/T/ipykernel_57407/807646193.py:46: FutureWarning: From release 0.13.0 onwards, this function will, by default, copy the header of the input image to the output. Currently, the header is reset to the default Nifti1Header. To suppress this warning and use the new behavior, set `copy_header=True`.\n",
      "  img_fsn = image.threshold_img(img_fsn, threshold=cluster_thresh_z)\n",
      "/opt/anaconda3/lib/python3.12/site-packages/nilearn/image/image.py:1173: UserWarning: Data array used to create a new image contains 64-bit ints. This is likely due to creating the array with numpy and passing `int` as the `dtype`. Many tools such as FSL and SPM cannot deal with int64 in Nifti images, so for compatibility the data has been converted to int32.\n",
      "  return new_img_like(niimg, result, niimg.affine)\n"
     ]
    },
    {
     "name": "stdout",
     "output_type": "stream",
     "text": [
      "Computing ALE for k = 1 null studies added...\n"
     ]
    },
    {
     "name": "stderr",
     "output_type": "stream",
     "text": [
      "INFO:nimare.correct:Using correction method implemented in Estimator: nimare.meta.cbma.ale.ALE.correct_fwe_montecarlo.\n"
     ]
    },
    {
     "data": {
      "application/vnd.jupyter.widget-view+json": {
       "model_id": "3949f7b5bc334b52b14a4c23fe8cd5a7",
       "version_major": 2,
       "version_minor": 0
      },
      "text/plain": [
       "  0%|          | 0/1000 [00:00<?, ?it/s]"
      ]
     },
     "metadata": {},
     "output_type": "display_data"
    },
    {
     "name": "stderr",
     "output_type": "stream",
     "text": [
      "INFO:nimare.meta.cbma.base:Using null distribution for voxel-level FWE correction.\n",
      "/var/folders/yk/78rqxlxn4pz_rsb5_31xvh340000gn/T/ipykernel_57407/807646193.py:70: FutureWarning: From release 0.13.0 onwards, this function will, by default, copy the header of the input image to the output. Currently, the header is reset to the default Nifti1Header. To suppress this warning and use the new behavior, set `copy_header=True`.\n",
      "  img_k = image.threshold_img(img_k, threshold=cluster_thresh_z)\n",
      "/opt/anaconda3/lib/python3.12/site-packages/nilearn/image/image.py:1173: UserWarning: Data array used to create a new image contains 64-bit ints. This is likely due to creating the array with numpy and passing `int` as the `dtype`. Many tools such as FSL and SPM cannot deal with int64 in Nifti images, so for compatibility the data has been converted to int32.\n",
      "  return new_img_like(niimg, result, niimg.affine)\n"
     ]
    },
    {
     "name": "stdout",
     "output_type": "stream",
     "text": [
      "Computing ALE for k = 2 null studies added...\n"
     ]
    },
    {
     "name": "stderr",
     "output_type": "stream",
     "text": [
      "INFO:nimare.correct:Using correction method implemented in Estimator: nimare.meta.cbma.ale.ALE.correct_fwe_montecarlo.\n"
     ]
    },
    {
     "data": {
      "application/vnd.jupyter.widget-view+json": {
       "model_id": "f4f468507cb144aa94911b5930e535ca",
       "version_major": 2,
       "version_minor": 0
      },
      "text/plain": [
       "  0%|          | 0/1000 [00:00<?, ?it/s]"
      ]
     },
     "metadata": {},
     "output_type": "display_data"
    },
    {
     "name": "stderr",
     "output_type": "stream",
     "text": [
      "INFO:nimare.meta.cbma.base:Using null distribution for voxel-level FWE correction.\n",
      "/var/folders/yk/78rqxlxn4pz_rsb5_31xvh340000gn/T/ipykernel_57407/807646193.py:70: FutureWarning: From release 0.13.0 onwards, this function will, by default, copy the header of the input image to the output. Currently, the header is reset to the default Nifti1Header. To suppress this warning and use the new behavior, set `copy_header=True`.\n",
      "  img_k = image.threshold_img(img_k, threshold=cluster_thresh_z)\n",
      "/opt/anaconda3/lib/python3.12/site-packages/nilearn/image/image.py:1173: UserWarning: Data array used to create a new image contains 64-bit ints. This is likely due to creating the array with numpy and passing `int` as the `dtype`. Many tools such as FSL and SPM cannot deal with int64 in Nifti images, so for compatibility the data has been converted to int32.\n",
      "  return new_img_like(niimg, result, niimg.affine)\n"
     ]
    },
    {
     "name": "stdout",
     "output_type": "stream",
     "text": [
      "Computing ALE for k = 3 null studies added...\n"
     ]
    },
    {
     "name": "stderr",
     "output_type": "stream",
     "text": [
      "INFO:nimare.correct:Using correction method implemented in Estimator: nimare.meta.cbma.ale.ALE.correct_fwe_montecarlo.\n"
     ]
    },
    {
     "data": {
      "application/vnd.jupyter.widget-view+json": {
       "model_id": "58154fb0f70b4611b146d83cde6f7b0c",
       "version_major": 2,
       "version_minor": 0
      },
      "text/plain": [
       "  0%|          | 0/1000 [00:00<?, ?it/s]"
      ]
     },
     "metadata": {},
     "output_type": "display_data"
    },
    {
     "name": "stderr",
     "output_type": "stream",
     "text": [
      "INFO:nimare.meta.cbma.base:Using null distribution for voxel-level FWE correction.\n",
      "/var/folders/yk/78rqxlxn4pz_rsb5_31xvh340000gn/T/ipykernel_57407/807646193.py:70: FutureWarning: From release 0.13.0 onwards, this function will, by default, copy the header of the input image to the output. Currently, the header is reset to the default Nifti1Header. To suppress this warning and use the new behavior, set `copy_header=True`.\n",
      "  img_k = image.threshold_img(img_k, threshold=cluster_thresh_z)\n",
      "/opt/anaconda3/lib/python3.12/site-packages/nilearn/image/image.py:1173: UserWarning: Data array used to create a new image contains 64-bit ints. This is likely due to creating the array with numpy and passing `int` as the `dtype`. Many tools such as FSL and SPM cannot deal with int64 in Nifti images, so for compatibility the data has been converted to int32.\n",
      "  return new_img_like(niimg, result, niimg.affine)\n"
     ]
    },
    {
     "name": "stdout",
     "output_type": "stream",
     "text": [
      "Computing ALE for k = 4 null studies added...\n"
     ]
    },
    {
     "name": "stderr",
     "output_type": "stream",
     "text": [
      "INFO:nimare.correct:Using correction method implemented in Estimator: nimare.meta.cbma.ale.ALE.correct_fwe_montecarlo.\n"
     ]
    },
    {
     "data": {
      "application/vnd.jupyter.widget-view+json": {
       "model_id": "4a191c06da464c3197301a38a7dcd92c",
       "version_major": 2,
       "version_minor": 0
      },
      "text/plain": [
       "  0%|          | 0/1000 [00:00<?, ?it/s]"
      ]
     },
     "metadata": {},
     "output_type": "display_data"
    },
    {
     "name": "stderr",
     "output_type": "stream",
     "text": [
      "INFO:nimare.meta.cbma.base:Using null distribution for voxel-level FWE correction.\n",
      "/var/folders/yk/78rqxlxn4pz_rsb5_31xvh340000gn/T/ipykernel_57407/807646193.py:70: FutureWarning: From release 0.13.0 onwards, this function will, by default, copy the header of the input image to the output. Currently, the header is reset to the default Nifti1Header. To suppress this warning and use the new behavior, set `copy_header=True`.\n",
      "  img_k = image.threshold_img(img_k, threshold=cluster_thresh_z)\n",
      "/opt/anaconda3/lib/python3.12/site-packages/nilearn/image/image.py:1173: UserWarning: Data array used to create a new image contains 64-bit ints. This is likely due to creating the array with numpy and passing `int` as the `dtype`. Many tools such as FSL and SPM cannot deal with int64 in Nifti images, so for compatibility the data has been converted to int32.\n",
      "  return new_img_like(niimg, result, niimg.affine)\n"
     ]
    },
    {
     "name": "stdout",
     "output_type": "stream",
     "text": [
      "Computing ALE for k = 5 null studies added...\n"
     ]
    },
    {
     "name": "stderr",
     "output_type": "stream",
     "text": [
      "INFO:nimare.correct:Using correction method implemented in Estimator: nimare.meta.cbma.ale.ALE.correct_fwe_montecarlo.\n"
     ]
    },
    {
     "data": {
      "application/vnd.jupyter.widget-view+json": {
       "model_id": "0df011e5669146a3a2bdbf782717a2c0",
       "version_major": 2,
       "version_minor": 0
      },
      "text/plain": [
       "  0%|          | 0/1000 [00:00<?, ?it/s]"
      ]
     },
     "metadata": {},
     "output_type": "display_data"
    },
    {
     "name": "stderr",
     "output_type": "stream",
     "text": [
      "INFO:nimare.meta.cbma.base:Using null distribution for voxel-level FWE correction.\n",
      "/var/folders/yk/78rqxlxn4pz_rsb5_31xvh340000gn/T/ipykernel_57407/807646193.py:70: FutureWarning: From release 0.13.0 onwards, this function will, by default, copy the header of the input image to the output. Currently, the header is reset to the default Nifti1Header. To suppress this warning and use the new behavior, set `copy_header=True`.\n",
      "  img_k = image.threshold_img(img_k, threshold=cluster_thresh_z)\n",
      "/var/folders/yk/78rqxlxn4pz_rsb5_31xvh340000gn/T/ipykernel_57407/807646193.py:70: UserWarning: The given float value must not exceed 2.5121443279304616. But, you have given threshold=2.5758293035489004.\n",
      "  img_k = image.threshold_img(img_k, threshold=cluster_thresh_z)\n",
      "/opt/anaconda3/lib/python3.12/site-packages/nilearn/image/image.py:1173: UserWarning: Data array used to create a new image contains 64-bit ints. This is likely due to creating the array with numpy and passing `int` as the `dtype`. Many tools such as FSL and SPM cannot deal with int64 in Nifti images, so for compatibility the data has been converted to int32.\n",
      "  return new_img_like(niimg, result, niimg.affine)\n"
     ]
    },
    {
     "name": "stdout",
     "output_type": "stream",
     "text": [
      "No more significant voxels - terminating\n",
      "\n",
      "\n",
      "COMPUTING FSN FOR ../data/ale_analysis_foci/patient.txt (seed: 823)\n"
     ]
    },
    {
     "name": "stderr",
     "output_type": "stream",
     "text": [
      "INFO:nimare.correct:Using correction method implemented in Estimator: nimare.meta.cbma.ale.ALE.correct_fwe_montecarlo.\n"
     ]
    },
    {
     "data": {
      "application/vnd.jupyter.widget-view+json": {
       "model_id": "f00f91cd3f4d43d196c00a7e88875dbe",
       "version_major": 2,
       "version_minor": 0
      },
      "text/plain": [
       "  0%|          | 0/1000 [00:00<?, ?it/s]"
      ]
     },
     "metadata": {},
     "output_type": "display_data"
    },
    {
     "name": "stderr",
     "output_type": "stream",
     "text": [
      "INFO:nimare.meta.cbma.base:Using null distribution for voxel-level FWE correction.\n",
      "/var/folders/yk/78rqxlxn4pz_rsb5_31xvh340000gn/T/ipykernel_57407/807646193.py:46: FutureWarning: From release 0.13.0 onwards, this function will, by default, copy the header of the input image to the output. Currently, the header is reset to the default Nifti1Header. To suppress this warning and use the new behavior, set `copy_header=True`.\n",
      "  img_fsn = image.threshold_img(img_fsn, threshold=cluster_thresh_z)\n",
      "/opt/anaconda3/lib/python3.12/site-packages/nilearn/image/image.py:1173: UserWarning: Data array used to create a new image contains 64-bit ints. This is likely due to creating the array with numpy and passing `int` as the `dtype`. Many tools such as FSL and SPM cannot deal with int64 in Nifti images, so for compatibility the data has been converted to int32.\n",
      "  return new_img_like(niimg, result, niimg.affine)\n"
     ]
    },
    {
     "name": "stdout",
     "output_type": "stream",
     "text": [
      "Computing ALE for k = 1 null studies added...\n"
     ]
    },
    {
     "name": "stderr",
     "output_type": "stream",
     "text": [
      "INFO:nimare.correct:Using correction method implemented in Estimator: nimare.meta.cbma.ale.ALE.correct_fwe_montecarlo.\n"
     ]
    },
    {
     "data": {
      "application/vnd.jupyter.widget-view+json": {
       "model_id": "d2c2eefcbd224300bc8e954c7e3db1e3",
       "version_major": 2,
       "version_minor": 0
      },
      "text/plain": [
       "  0%|          | 0/1000 [00:00<?, ?it/s]"
      ]
     },
     "metadata": {},
     "output_type": "display_data"
    },
    {
     "name": "stderr",
     "output_type": "stream",
     "text": [
      "INFO:nimare.meta.cbma.base:Using null distribution for voxel-level FWE correction.\n",
      "/var/folders/yk/78rqxlxn4pz_rsb5_31xvh340000gn/T/ipykernel_57407/807646193.py:70: FutureWarning: From release 0.13.0 onwards, this function will, by default, copy the header of the input image to the output. Currently, the header is reset to the default Nifti1Header. To suppress this warning and use the new behavior, set `copy_header=True`.\n",
      "  img_k = image.threshold_img(img_k, threshold=cluster_thresh_z)\n",
      "/opt/anaconda3/lib/python3.12/site-packages/nilearn/image/image.py:1173: UserWarning: Data array used to create a new image contains 64-bit ints. This is likely due to creating the array with numpy and passing `int` as the `dtype`. Many tools such as FSL and SPM cannot deal with int64 in Nifti images, so for compatibility the data has been converted to int32.\n",
      "  return new_img_like(niimg, result, niimg.affine)\n"
     ]
    },
    {
     "name": "stdout",
     "output_type": "stream",
     "text": [
      "Computing ALE for k = 2 null studies added...\n"
     ]
    },
    {
     "name": "stderr",
     "output_type": "stream",
     "text": [
      "INFO:nimare.correct:Using correction method implemented in Estimator: nimare.meta.cbma.ale.ALE.correct_fwe_montecarlo.\n"
     ]
    },
    {
     "data": {
      "application/vnd.jupyter.widget-view+json": {
       "model_id": "455f378aa2294b42a1f961e216926b53",
       "version_major": 2,
       "version_minor": 0
      },
      "text/plain": [
       "  0%|          | 0/1000 [00:00<?, ?it/s]"
      ]
     },
     "metadata": {},
     "output_type": "display_data"
    },
    {
     "name": "stderr",
     "output_type": "stream",
     "text": [
      "INFO:nimare.meta.cbma.base:Using null distribution for voxel-level FWE correction.\n",
      "/var/folders/yk/78rqxlxn4pz_rsb5_31xvh340000gn/T/ipykernel_57407/807646193.py:70: FutureWarning: From release 0.13.0 onwards, this function will, by default, copy the header of the input image to the output. Currently, the header is reset to the default Nifti1Header. To suppress this warning and use the new behavior, set `copy_header=True`.\n",
      "  img_k = image.threshold_img(img_k, threshold=cluster_thresh_z)\n",
      "/opt/anaconda3/lib/python3.12/site-packages/nilearn/image/image.py:1173: UserWarning: Data array used to create a new image contains 64-bit ints. This is likely due to creating the array with numpy and passing `int` as the `dtype`. Many tools such as FSL and SPM cannot deal with int64 in Nifti images, so for compatibility the data has been converted to int32.\n",
      "  return new_img_like(niimg, result, niimg.affine)\n"
     ]
    },
    {
     "name": "stdout",
     "output_type": "stream",
     "text": [
      "Computing ALE for k = 3 null studies added...\n"
     ]
    },
    {
     "name": "stderr",
     "output_type": "stream",
     "text": [
      "INFO:nimare.correct:Using correction method implemented in Estimator: nimare.meta.cbma.ale.ALE.correct_fwe_montecarlo.\n"
     ]
    },
    {
     "data": {
      "application/vnd.jupyter.widget-view+json": {
       "model_id": "fe33fb46705e4200832126aeac6572cd",
       "version_major": 2,
       "version_minor": 0
      },
      "text/plain": [
       "  0%|          | 0/1000 [00:00<?, ?it/s]"
      ]
     },
     "metadata": {},
     "output_type": "display_data"
    },
    {
     "name": "stderr",
     "output_type": "stream",
     "text": [
      "INFO:nimare.meta.cbma.base:Using null distribution for voxel-level FWE correction.\n",
      "/var/folders/yk/78rqxlxn4pz_rsb5_31xvh340000gn/T/ipykernel_57407/807646193.py:70: FutureWarning: From release 0.13.0 onwards, this function will, by default, copy the header of the input image to the output. Currently, the header is reset to the default Nifti1Header. To suppress this warning and use the new behavior, set `copy_header=True`.\n",
      "  img_k = image.threshold_img(img_k, threshold=cluster_thresh_z)\n",
      "/opt/anaconda3/lib/python3.12/site-packages/nilearn/image/image.py:1173: UserWarning: Data array used to create a new image contains 64-bit ints. This is likely due to creating the array with numpy and passing `int` as the `dtype`. Many tools such as FSL and SPM cannot deal with int64 in Nifti images, so for compatibility the data has been converted to int32.\n",
      "  return new_img_like(niimg, result, niimg.affine)\n"
     ]
    },
    {
     "name": "stdout",
     "output_type": "stream",
     "text": [
      "Computing ALE for k = 4 null studies added...\n"
     ]
    },
    {
     "name": "stderr",
     "output_type": "stream",
     "text": [
      "INFO:nimare.correct:Using correction method implemented in Estimator: nimare.meta.cbma.ale.ALE.correct_fwe_montecarlo.\n"
     ]
    },
    {
     "data": {
      "application/vnd.jupyter.widget-view+json": {
       "model_id": "cb4c7ab09c58461b9811075838853d40",
       "version_major": 2,
       "version_minor": 0
      },
      "text/plain": [
       "  0%|          | 0/1000 [00:00<?, ?it/s]"
      ]
     },
     "metadata": {},
     "output_type": "display_data"
    },
    {
     "name": "stderr",
     "output_type": "stream",
     "text": [
      "INFO:nimare.meta.cbma.base:Using null distribution for voxel-level FWE correction.\n",
      "/var/folders/yk/78rqxlxn4pz_rsb5_31xvh340000gn/T/ipykernel_57407/807646193.py:70: FutureWarning: From release 0.13.0 onwards, this function will, by default, copy the header of the input image to the output. Currently, the header is reset to the default Nifti1Header. To suppress this warning and use the new behavior, set `copy_header=True`.\n",
      "  img_k = image.threshold_img(img_k, threshold=cluster_thresh_z)\n",
      "/opt/anaconda3/lib/python3.12/site-packages/nilearn/image/image.py:1173: UserWarning: Data array used to create a new image contains 64-bit ints. This is likely due to creating the array with numpy and passing `int` as the `dtype`. Many tools such as FSL and SPM cannot deal with int64 in Nifti images, so for compatibility the data has been converted to int32.\n",
      "  return new_img_like(niimg, result, niimg.affine)\n"
     ]
    },
    {
     "name": "stdout",
     "output_type": "stream",
     "text": [
      "Computing ALE for k = 5 null studies added...\n"
     ]
    },
    {
     "name": "stderr",
     "output_type": "stream",
     "text": [
      "INFO:nimare.correct:Using correction method implemented in Estimator: nimare.meta.cbma.ale.ALE.correct_fwe_montecarlo.\n"
     ]
    },
    {
     "data": {
      "application/vnd.jupyter.widget-view+json": {
       "model_id": "273cf8a63e254c83bfb2cf46d2fee1e1",
       "version_major": 2,
       "version_minor": 0
      },
      "text/plain": [
       "  0%|          | 0/1000 [00:00<?, ?it/s]"
      ]
     },
     "metadata": {},
     "output_type": "display_data"
    },
    {
     "name": "stderr",
     "output_type": "stream",
     "text": [
      "INFO:nimare.meta.cbma.base:Using null distribution for voxel-level FWE correction.\n",
      "/var/folders/yk/78rqxlxn4pz_rsb5_31xvh340000gn/T/ipykernel_57407/807646193.py:70: FutureWarning: From release 0.13.0 onwards, this function will, by default, copy the header of the input image to the output. Currently, the header is reset to the default Nifti1Header. To suppress this warning and use the new behavior, set `copy_header=True`.\n",
      "  img_k = image.threshold_img(img_k, threshold=cluster_thresh_z)\n",
      "/opt/anaconda3/lib/python3.12/site-packages/nilearn/image/image.py:1173: UserWarning: Data array used to create a new image contains 64-bit ints. This is likely due to creating the array with numpy and passing `int` as the `dtype`. Many tools such as FSL and SPM cannot deal with int64 in Nifti images, so for compatibility the data has been converted to int32.\n",
      "  return new_img_like(niimg, result, niimg.affine)\n"
     ]
    },
    {
     "name": "stdout",
     "output_type": "stream",
     "text": [
      "Computing ALE for k = 6 null studies added...\n"
     ]
    },
    {
     "name": "stderr",
     "output_type": "stream",
     "text": [
      "INFO:nimare.correct:Using correction method implemented in Estimator: nimare.meta.cbma.ale.ALE.correct_fwe_montecarlo.\n"
     ]
    },
    {
     "data": {
      "application/vnd.jupyter.widget-view+json": {
       "model_id": "3408763f1a584d6cbe9c1d2490122617",
       "version_major": 2,
       "version_minor": 0
      },
      "text/plain": [
       "  0%|          | 0/1000 [00:00<?, ?it/s]"
      ]
     },
     "metadata": {},
     "output_type": "display_data"
    },
    {
     "name": "stderr",
     "output_type": "stream",
     "text": [
      "INFO:nimare.meta.cbma.base:Using null distribution for voxel-level FWE correction.\n",
      "/var/folders/yk/78rqxlxn4pz_rsb5_31xvh340000gn/T/ipykernel_57407/807646193.py:70: FutureWarning: From release 0.13.0 onwards, this function will, by default, copy the header of the input image to the output. Currently, the header is reset to the default Nifti1Header. To suppress this warning and use the new behavior, set `copy_header=True`.\n",
      "  img_k = image.threshold_img(img_k, threshold=cluster_thresh_z)\n",
      "/opt/anaconda3/lib/python3.12/site-packages/nilearn/image/image.py:1173: UserWarning: Data array used to create a new image contains 64-bit ints. This is likely due to creating the array with numpy and passing `int` as the `dtype`. Many tools such as FSL and SPM cannot deal with int64 in Nifti images, so for compatibility the data has been converted to int32.\n",
      "  return new_img_like(niimg, result, niimg.affine)\n"
     ]
    },
    {
     "name": "stdout",
     "output_type": "stream",
     "text": [
      "Computing ALE for k = 7 null studies added...\n"
     ]
    },
    {
     "name": "stderr",
     "output_type": "stream",
     "text": [
      "INFO:nimare.correct:Using correction method implemented in Estimator: nimare.meta.cbma.ale.ALE.correct_fwe_montecarlo.\n"
     ]
    },
    {
     "data": {
      "application/vnd.jupyter.widget-view+json": {
       "model_id": "44cdc9d04d32454081e0677322ec877a",
       "version_major": 2,
       "version_minor": 0
      },
      "text/plain": [
       "  0%|          | 0/1000 [00:00<?, ?it/s]"
      ]
     },
     "metadata": {},
     "output_type": "display_data"
    },
    {
     "name": "stderr",
     "output_type": "stream",
     "text": [
      "INFO:nimare.meta.cbma.base:Using null distribution for voxel-level FWE correction.\n",
      "/var/folders/yk/78rqxlxn4pz_rsb5_31xvh340000gn/T/ipykernel_57407/807646193.py:70: FutureWarning: From release 0.13.0 onwards, this function will, by default, copy the header of the input image to the output. Currently, the header is reset to the default Nifti1Header. To suppress this warning and use the new behavior, set `copy_header=True`.\n",
      "  img_k = image.threshold_img(img_k, threshold=cluster_thresh_z)\n",
      "/opt/anaconda3/lib/python3.12/site-packages/nilearn/image/image.py:1173: UserWarning: Data array used to create a new image contains 64-bit ints. This is likely due to creating the array with numpy and passing `int` as the `dtype`. Many tools such as FSL and SPM cannot deal with int64 in Nifti images, so for compatibility the data has been converted to int32.\n",
      "  return new_img_like(niimg, result, niimg.affine)\n"
     ]
    },
    {
     "name": "stdout",
     "output_type": "stream",
     "text": [
      "Computing ALE for k = 8 null studies added...\n"
     ]
    },
    {
     "name": "stderr",
     "output_type": "stream",
     "text": [
      "INFO:nimare.correct:Using correction method implemented in Estimator: nimare.meta.cbma.ale.ALE.correct_fwe_montecarlo.\n"
     ]
    },
    {
     "data": {
      "application/vnd.jupyter.widget-view+json": {
       "model_id": "85008d881d22481895a112b7ba45930c",
       "version_major": 2,
       "version_minor": 0
      },
      "text/plain": [
       "  0%|          | 0/1000 [00:00<?, ?it/s]"
      ]
     },
     "metadata": {},
     "output_type": "display_data"
    },
    {
     "name": "stderr",
     "output_type": "stream",
     "text": [
      "INFO:nimare.meta.cbma.base:Using null distribution for voxel-level FWE correction.\n",
      "/var/folders/yk/78rqxlxn4pz_rsb5_31xvh340000gn/T/ipykernel_57407/807646193.py:70: FutureWarning: From release 0.13.0 onwards, this function will, by default, copy the header of the input image to the output. Currently, the header is reset to the default Nifti1Header. To suppress this warning and use the new behavior, set `copy_header=True`.\n",
      "  img_k = image.threshold_img(img_k, threshold=cluster_thresh_z)\n",
      "/var/folders/yk/78rqxlxn4pz_rsb5_31xvh340000gn/T/ipykernel_57407/807646193.py:70: UserWarning: The given float value must not exceed 2.5121443279304616. But, you have given threshold=2.5758293035489004.\n",
      "  img_k = image.threshold_img(img_k, threshold=cluster_thresh_z)\n",
      "/opt/anaconda3/lib/python3.12/site-packages/nilearn/image/image.py:1173: UserWarning: Data array used to create a new image contains 64-bit ints. This is likely due to creating the array with numpy and passing `int` as the `dtype`. Many tools such as FSL and SPM cannot deal with int64 in Nifti images, so for compatibility the data has been converted to int32.\n",
      "  return new_img_like(niimg, result, niimg.affine)\n"
     ]
    },
    {
     "name": "stdout",
     "output_type": "stream",
     "text": [
      "No more significant voxels - terminating\n",
      "\n"
     ]
    },
    {
     "name": "stderr",
     "output_type": "stream",
     "text": [
      "/var/folders/yk/78rqxlxn4pz_rsb5_31xvh340000gn/T/ipykernel_57407/3206686921.py:31: FutureWarning: From release 0.13.0 onwards, this function will, by default, copy the header of the input image to the output. Currently, the header is reset to the default Nifti1Header. To suppress this warning and use the new behavior, set `copy_header=True`.\n",
      "  img_mean = image.mean_img(imgs_fsn)\n"
     ]
    }
   ],
   "source": [
    "\n",
    "# Use our function to compute multiple filedrawers for each text file\n",
    "_ = [\n",
    "    [\n",
    "        compute_fsn(\n",
    "            text_file=text_file,\n",
    "            space=\"ale_2mm\",\n",
    "            voxel_thresh=0.001,\n",
    "            cluster_thresh=0.01,\n",
    "            n_iters=1000,\n",
    "            k_max_factor=5,\n",
    "            random_ale_seed=1234,\n",
    "            random_null_seed=random_null_seed,\n",
    "            output_dir=output_dir + filedrawer,\n",
    "        )\n",
    "        for random_null_seed, filedrawer in zip(random_null_seeds, filedrawers)\n",
    "    ]\n",
    "    for text_file, output_dir in zip(text_files, output_dirs)\n",
    "]\n",
    "\n",
    "\n",
    "# Compute mean FSN across filedrawers\n",
    "for prefix in prefixes:\n",
    "\n",
    "    # Read FSN maps from all filedrawers\n",
    "    fnames_maps = glob(\n",
    "        \"../results/fsn/\" + prefix + \"/filedrawer*/\" + prefix + \"_fsn.nii.gz\"\n",
    "    )\n",
    "    imgs_fsn = [image.load_img(fname) for fname in fnames_maps]\n",
    "\n",
    "    # Average and save\n",
    "    img_mean = image.mean_img(imgs_fsn)\n",
    "    fname_img_mean = \"../results/fsn/\" + prefix + \"/\" + prefix + \"_mean_fsn.nii.gz\"\n",
    "    save(img_mean, fname_img_mean)\n",
    "\n",
    "    # Read FSN tables from all filedrawers\n",
    "    fnames_tabs = glob(\n",
    "        \"../results/fsn/\" + prefix + \"/filedrawer*/\" + prefix + \"_fsn.tsv\"\n",
    "    )\n",
    "    tabs_fsn = [pd.read_csv(fname, delimiter=\"\\t\") for fname in fnames_tabs]\n",
    "    tab_fsn = pd.concat(tabs_fsn)\n",
    "\n",
    "    # Compute summary statistics\n",
    "    agg = tab_fsn.groupby(\"Cluster ID\")[\"FSN\"].agg([\"mean\", \"count\", \"std\"])\n",
    "\n",
    "    # Compute confidence intervals\n",
    "    ci_level = 0.05\n",
    "    z_crit = abs(norm.ppf(ci_level / 2))\n",
    "    agg[\"se\"] = [std / sqrt(count) for std, count in zip(agg[\"std\"], agg[\"count\"])]\n",
    "    agg[\"ci_lower\"] = agg[\"mean\"] - z_crit * agg[\"se\"]\n",
    "    agg[\"ci_upper\"] = agg[\"mean\"] + z_crit * agg[\"se\"]\n",
    "\n",
    "    # Save summary statistics\n",
    "    fname_agg = \"../results/fsn/\" + prefix + \"/\" + prefix + \"_mean_fsn.csv\"\n",
    "    agg.to_csv(fname_agg, float_format=\"%.3f\")\n"
   ]
  }
 ],
 "metadata": {
  "kernelspec": {
   "display_name": "base",
   "language": "python",
   "name": "python3"
  },
  "language_info": {
   "codemirror_mode": {
    "name": "ipython",
    "version": 3
   },
   "file_extension": ".py",
   "mimetype": "text/x-python",
   "name": "python",
   "nbconvert_exporter": "python",
   "pygments_lexer": "ipython3",
   "version": "3.12.7"
  }
 },
 "nbformat": 4,
 "nbformat_minor": 2
}
