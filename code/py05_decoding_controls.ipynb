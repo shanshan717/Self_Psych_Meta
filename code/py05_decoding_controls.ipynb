{
 "cells": [
  {
   "cell_type": "markdown",
   "metadata": {},
   "source": [
    "\n",
    "\n",
    "# Discrete functional decoding\n",
    "\n",
    "Perform meta-analytic functional decoding on regions of interest.\n",
    "\n",
    "We can use the methods in ``nimare.decode.discrete`` to apply functional\n",
    "characterization analysis to regions of interest or subsets of the Dataset.\n"
   ]
  },
  {
   "cell_type": "code",
   "execution_count": 25,
   "metadata": {},
   "outputs": [],
   "source": [
    "import os\n",
    "import sys\n",
    "import numpy as np\n",
    "import matplotlib.pyplot as plt\n",
    "import nimare\n",
    "import nibabel as nib\n",
    "from nimare.stats import pearson\n",
    "from nimare.dataset import Dataset\n",
    "from nimare.decode import discrete\n",
    "from nimare.utils import get_resource_path\n",
    "from nimare.extract import fetch_neurosynth\n",
    "from nimare.io import convert_neurosynth_to_dataset\n",
    "from nimare.decode import continuous\n",
    "from nilearn import image\n",
    "from nilearn.plotting import plot_roi\n"
   ]
  },
  {
   "cell_type": "markdown",
   "metadata": {},
   "source": [
    "## Load dataset with abstracts\n",
    "We'll load a small dataset composed only of studies in Neurosynth with\n",
    "Angela Laird as a coauthor, for the sake of speed.\n",
    "\n"
   ]
  },
  {
   "cell_type": "code",
   "execution_count": 13,
   "metadata": {
    "collapsed": false
   },
   "outputs": [
    {
     "name": "stderr",
     "output_type": "stream",
     "text": [
      "WARNING:nimare.utils:Not applying transforms to coordinates in unrecognized space 'UNKNOWN'\n"
     ]
    },
    {
     "data": {
      "text/html": [
       "<div>\n",
       "<style scoped>\n",
       "    .dataframe tbody tr th:only-of-type {\n",
       "        vertical-align: middle;\n",
       "    }\n",
       "\n",
       "    .dataframe tbody tr th {\n",
       "        vertical-align: top;\n",
       "    }\n",
       "\n",
       "    .dataframe thead th {\n",
       "        text-align: right;\n",
       "    }\n",
       "</style>\n",
       "<table border=\"1\" class=\"dataframe\">\n",
       "  <thead>\n",
       "    <tr style=\"text-align: right;\">\n",
       "      <th></th>\n",
       "      <th>id</th>\n",
       "      <th>study_id</th>\n",
       "      <th>contrast_id</th>\n",
       "      <th>Neurosynth_TFIDF__001</th>\n",
       "      <th>Neurosynth_TFIDF__01</th>\n",
       "      <th>Neurosynth_TFIDF__05</th>\n",
       "      <th>Neurosynth_TFIDF__10</th>\n",
       "      <th>Neurosynth_TFIDF__100</th>\n",
       "      <th>Neurosynth_TFIDF__11</th>\n",
       "      <th>Neurosynth_TFIDF__12</th>\n",
       "      <th>...</th>\n",
       "      <th>Neurosynth_TFIDF__yield</th>\n",
       "      <th>Neurosynth_TFIDF__yielded</th>\n",
       "      <th>Neurosynth_TFIDF__young</th>\n",
       "      <th>Neurosynth_TFIDF__young adults</th>\n",
       "      <th>Neurosynth_TFIDF__young healthy</th>\n",
       "      <th>Neurosynth_TFIDF__young older</th>\n",
       "      <th>Neurosynth_TFIDF__younger</th>\n",
       "      <th>Neurosynth_TFIDF__younger adults</th>\n",
       "      <th>Neurosynth_TFIDF__youth</th>\n",
       "      <th>Neurosynth_TFIDF__zone</th>\n",
       "    </tr>\n",
       "  </thead>\n",
       "  <tbody>\n",
       "    <tr>\n",
       "      <th>0</th>\n",
       "      <td>17029760-1</td>\n",
       "      <td>17029760</td>\n",
       "      <td>1</td>\n",
       "      <td>0.0</td>\n",
       "      <td>0.0</td>\n",
       "      <td>0.0</td>\n",
       "      <td>0.0</td>\n",
       "      <td>0.0</td>\n",
       "      <td>0.000000</td>\n",
       "      <td>0.0</td>\n",
       "      <td>...</td>\n",
       "      <td>0.0</td>\n",
       "      <td>0.0</td>\n",
       "      <td>0.0</td>\n",
       "      <td>0.0</td>\n",
       "      <td>0.0</td>\n",
       "      <td>0.0</td>\n",
       "      <td>0.0</td>\n",
       "      <td>0.0</td>\n",
       "      <td>0.0</td>\n",
       "      <td>0.0</td>\n",
       "    </tr>\n",
       "    <tr>\n",
       "      <th>1</th>\n",
       "      <td>18760263-1</td>\n",
       "      <td>18760263</td>\n",
       "      <td>1</td>\n",
       "      <td>0.0</td>\n",
       "      <td>0.0</td>\n",
       "      <td>0.0</td>\n",
       "      <td>0.0</td>\n",
       "      <td>0.0</td>\n",
       "      <td>0.000000</td>\n",
       "      <td>0.0</td>\n",
       "      <td>...</td>\n",
       "      <td>0.0</td>\n",
       "      <td>0.0</td>\n",
       "      <td>0.0</td>\n",
       "      <td>0.0</td>\n",
       "      <td>0.0</td>\n",
       "      <td>0.0</td>\n",
       "      <td>0.0</td>\n",
       "      <td>0.0</td>\n",
       "      <td>0.0</td>\n",
       "      <td>0.0</td>\n",
       "    </tr>\n",
       "    <tr>\n",
       "      <th>2</th>\n",
       "      <td>19162389-1</td>\n",
       "      <td>19162389</td>\n",
       "      <td>1</td>\n",
       "      <td>0.0</td>\n",
       "      <td>0.0</td>\n",
       "      <td>0.0</td>\n",
       "      <td>0.0</td>\n",
       "      <td>0.0</td>\n",
       "      <td>0.176321</td>\n",
       "      <td>0.0</td>\n",
       "      <td>...</td>\n",
       "      <td>0.0</td>\n",
       "      <td>0.0</td>\n",
       "      <td>0.0</td>\n",
       "      <td>0.0</td>\n",
       "      <td>0.0</td>\n",
       "      <td>0.0</td>\n",
       "      <td>0.0</td>\n",
       "      <td>0.0</td>\n",
       "      <td>0.0</td>\n",
       "      <td>0.0</td>\n",
       "    </tr>\n",
       "    <tr>\n",
       "      <th>3</th>\n",
       "      <td>19603407-1</td>\n",
       "      <td>19603407</td>\n",
       "      <td>1</td>\n",
       "      <td>0.0</td>\n",
       "      <td>0.0</td>\n",
       "      <td>0.0</td>\n",
       "      <td>0.0</td>\n",
       "      <td>0.0</td>\n",
       "      <td>0.000000</td>\n",
       "      <td>0.0</td>\n",
       "      <td>...</td>\n",
       "      <td>0.0</td>\n",
       "      <td>0.0</td>\n",
       "      <td>0.0</td>\n",
       "      <td>0.0</td>\n",
       "      <td>0.0</td>\n",
       "      <td>0.0</td>\n",
       "      <td>0.0</td>\n",
       "      <td>0.0</td>\n",
       "      <td>0.0</td>\n",
       "      <td>0.0</td>\n",
       "    </tr>\n",
       "    <tr>\n",
       "      <th>4</th>\n",
       "      <td>20197097-1</td>\n",
       "      <td>20197097</td>\n",
       "      <td>1</td>\n",
       "      <td>0.0</td>\n",
       "      <td>0.0</td>\n",
       "      <td>0.0</td>\n",
       "      <td>0.0</td>\n",
       "      <td>0.0</td>\n",
       "      <td>0.000000</td>\n",
       "      <td>0.0</td>\n",
       "      <td>...</td>\n",
       "      <td>0.0</td>\n",
       "      <td>0.0</td>\n",
       "      <td>0.0</td>\n",
       "      <td>0.0</td>\n",
       "      <td>0.0</td>\n",
       "      <td>0.0</td>\n",
       "      <td>0.0</td>\n",
       "      <td>0.0</td>\n",
       "      <td>0.0</td>\n",
       "      <td>0.0</td>\n",
       "    </tr>\n",
       "  </tbody>\n",
       "</table>\n",
       "<p>5 rows × 3231 columns</p>\n",
       "</div>"
      ],
      "text/plain": [
       "           id  study_id contrast_id  Neurosynth_TFIDF__001  \\\n",
       "0  17029760-1  17029760           1                    0.0   \n",
       "1  18760263-1  18760263           1                    0.0   \n",
       "2  19162389-1  19162389           1                    0.0   \n",
       "3  19603407-1  19603407           1                    0.0   \n",
       "4  20197097-1  20197097           1                    0.0   \n",
       "\n",
       "   Neurosynth_TFIDF__01  Neurosynth_TFIDF__05  Neurosynth_TFIDF__10  \\\n",
       "0                   0.0                   0.0                   0.0   \n",
       "1                   0.0                   0.0                   0.0   \n",
       "2                   0.0                   0.0                   0.0   \n",
       "3                   0.0                   0.0                   0.0   \n",
       "4                   0.0                   0.0                   0.0   \n",
       "\n",
       "   Neurosynth_TFIDF__100  Neurosynth_TFIDF__11  Neurosynth_TFIDF__12  ...  \\\n",
       "0                    0.0              0.000000                   0.0  ...   \n",
       "1                    0.0              0.000000                   0.0  ...   \n",
       "2                    0.0              0.176321                   0.0  ...   \n",
       "3                    0.0              0.000000                   0.0  ...   \n",
       "4                    0.0              0.000000                   0.0  ...   \n",
       "\n",
       "   Neurosynth_TFIDF__yield  Neurosynth_TFIDF__yielded  \\\n",
       "0                      0.0                        0.0   \n",
       "1                      0.0                        0.0   \n",
       "2                      0.0                        0.0   \n",
       "3                      0.0                        0.0   \n",
       "4                      0.0                        0.0   \n",
       "\n",
       "   Neurosynth_TFIDF__young  Neurosynth_TFIDF__young adults  \\\n",
       "0                      0.0                             0.0   \n",
       "1                      0.0                             0.0   \n",
       "2                      0.0                             0.0   \n",
       "3                      0.0                             0.0   \n",
       "4                      0.0                             0.0   \n",
       "\n",
       "   Neurosynth_TFIDF__young healthy  Neurosynth_TFIDF__young older  \\\n",
       "0                              0.0                            0.0   \n",
       "1                              0.0                            0.0   \n",
       "2                              0.0                            0.0   \n",
       "3                              0.0                            0.0   \n",
       "4                              0.0                            0.0   \n",
       "\n",
       "   Neurosynth_TFIDF__younger  Neurosynth_TFIDF__younger adults  \\\n",
       "0                        0.0                               0.0   \n",
       "1                        0.0                               0.0   \n",
       "2                        0.0                               0.0   \n",
       "3                        0.0                               0.0   \n",
       "4                        0.0                               0.0   \n",
       "\n",
       "   Neurosynth_TFIDF__youth  Neurosynth_TFIDF__zone  \n",
       "0                      0.0                     0.0  \n",
       "1                      0.0                     0.0  \n",
       "2                      0.0                     0.0  \n",
       "3                      0.0                     0.0  \n",
       "4                      0.0                     0.0  \n",
       "\n",
       "[5 rows x 3231 columns]"
      ]
     },
     "execution_count": 13,
     "metadata": {},
     "output_type": "execute_result"
    }
   ],
   "source": [
    "dset = Dataset(os.path.join(get_resource_path(), \"neurosynth_laird_studies.json\"))\n",
    "dset.annotations.head(5)"
   ]
  },
  {
   "cell_type": "markdown",
   "metadata": {},
   "source": [
    "## Create a region of interest\n",
    "### 创建ROI图像\n",
    "\n",
    "根据元分析结果得到的解剖区域创建ROI。\n",
    "\n",
    "疾病组： 创建一个brain mask：\n",
    "- Frontal pole （-6，58，18）\n",
    "\n",
    "健康组： 创建五个brain mask\n",
    "- Paracingulate Gyrus （0，48，8）\n",
    "- Frontal Orbital Cortex （-38，24，-14）\n",
    "- Cingulate Gyrus posterior division （-2，-54，26）\n",
    "- Angular Gyrus （-44, -58，24）\n",
    "- Frontal Orbital Cortex （32， 18, -18）"
   ]
  },
  {
   "cell_type": "code",
   "execution_count": null,
   "metadata": {},
   "outputs": [
    {
     "data": {
      "text/plain": [
       "'--f=/Users/ss/Library/Jupyter/runtime/kernel-v354253902236115df08a7737a5959e2ba15c97425.json'"
      ]
     },
     "execution_count": 22,
     "metadata": {},
     "output_type": "execute_result"
    }
   ],
   "source": [
    "# 加载target image，作为输入数据\n",
    "target_img = sys.argv[1]  \n",
    "target_img"
   ]
  },
  {
   "cell_type": "code",
   "execution_count": 23,
   "metadata": {},
   "outputs": [],
   "source": [
    "data_dir = os.path.abspath(\"results/demo/data\")\n",
    "result_dir = os.path.abspath(\"results/demo/results\")"
   ]
  },
  {
   "cell_type": "code",
   "execution_count": 29,
   "metadata": {},
   "outputs": [
    {
     "name": "stderr",
     "output_type": "stream",
     "text": [
      "INFO:nimare.extract.utils:Dataset created in /Users/ss/Documents/psych_self_meta/code/results/demo/data/neurosynth\n",
      "INFO:nimare.extract.extract:Searching for any feature files matching the following criteria: [('source-abstract', 'vocab-terms', 'data-neurosynth', 'version-7')]\n"
     ]
    },
    {
     "name": "stdout",
     "output_type": "stream",
     "text": [
      "Downloading data-neurosynth_version-7_coordinates.tsv.gz\n",
      "Downloading data-neurosynth_version-7_metadata.tsv.gz\n",
      "Downloading data-neurosynth_version-7_vocab-terms_source-abstract_type-tfidf_features.npz\n",
      "Downloading data-neurosynth_version-7_vocab-terms_vocabulary.txt\n"
     ]
    },
    {
     "name": "stderr",
     "output_type": "stream",
     "text": [
      "WARNING:nimare.utils:Not applying transforms to coordinates in unrecognized space 'UNKNOWN'\n"
     ]
    }
   ],
   "source": [
    "files = fetch_neurosynth(\n",
    "    data_dir=data_dir,\n",
    "    version=\"7\",\n",
    "    overwrite=False,\n",
    "    source=\"abstract\",\n",
    "    vocab=\"terms\",\n",
    ")\n",
    "\n",
    "neurosynth_db = files[0]\n",
    "neurosynth_dset = convert_neurosynth_to_dataset(\n",
    "    coordinates_file=neurosynth_db[\"coordinates\"],\n",
    "    metadata_file=neurosynth_db[\"metadata\"],\n",
    "    annotations_files=neurosynth_db[\"features\"],\n",
    ")\n",
    "\n",
    "neurosynth_dset.save(os.path.join(data_dir, \"neurosynth_dataset.pkl.gz\"))"
   ]
  },
  {
   "cell_type": "code",
   "execution_count": 31,
   "metadata": {},
   "outputs": [
    {
     "ename": "FileNotFoundError",
     "evalue": "/Users/ss/Documents/psych_self_meta/code/results/demo/data/psychosis_terms_meta-analysis_maps_list.txt not found.",
     "output_type": "error",
     "traceback": [
      "\u001b[0;31m---------------------------------------------------------------------------\u001b[0m",
      "\u001b[0;31mFileNotFoundError\u001b[0m                         Traceback (most recent call last)",
      "Cell \u001b[0;32mIn[31], line 1\u001b[0m\n\u001b[0;32m----> 1\u001b[0m meta_result_files \u001b[38;5;241m=\u001b[39m np\u001b[38;5;241m.\u001b[39mgenfromtxt(os\u001b[38;5;241m.\u001b[39mpath\u001b[38;5;241m.\u001b[39mjoin(data_dir, \u001b[38;5;124m\"\u001b[39m\u001b[38;5;124mpsychosis_terms_meta-analysis_maps_list.txt\u001b[39m\u001b[38;5;124m\"\u001b[39m), comments\u001b[38;5;241m=\u001b[39m\u001b[38;5;28;01mNone\u001b[39;00m, delimiter\u001b[38;5;241m=\u001b[39m\u001b[38;5;124m\"\u001b[39m\u001b[38;5;124mNone\u001b[39m\u001b[38;5;124m\"\u001b[39m, dtype\u001b[38;5;241m=\u001b[39m\u001b[38;5;124m\"\u001b[39m\u001b[38;5;124mstr\u001b[39m\u001b[38;5;124m\"\u001b[39m)\n",
      "File \u001b[0;32m/opt/anaconda3/lib/python3.12/site-packages/numpy/lib/npyio.py:1980\u001b[0m, in \u001b[0;36mgenfromtxt\u001b[0;34m(fname, dtype, comments, delimiter, skip_header, skip_footer, converters, missing_values, filling_values, usecols, names, excludelist, deletechars, replace_space, autostrip, case_sensitive, defaultfmt, unpack, usemask, loose, invalid_raise, max_rows, encoding, ndmin, like)\u001b[0m\n\u001b[1;32m   1978\u001b[0m     fname \u001b[38;5;241m=\u001b[39m os_fspath(fname)\n\u001b[1;32m   1979\u001b[0m \u001b[38;5;28;01mif\u001b[39;00m \u001b[38;5;28misinstance\u001b[39m(fname, \u001b[38;5;28mstr\u001b[39m):\n\u001b[0;32m-> 1980\u001b[0m     fid \u001b[38;5;241m=\u001b[39m np\u001b[38;5;241m.\u001b[39mlib\u001b[38;5;241m.\u001b[39m_datasource\u001b[38;5;241m.\u001b[39mopen(fname, \u001b[38;5;124m'\u001b[39m\u001b[38;5;124mrt\u001b[39m\u001b[38;5;124m'\u001b[39m, encoding\u001b[38;5;241m=\u001b[39mencoding)\n\u001b[1;32m   1981\u001b[0m     fid_ctx \u001b[38;5;241m=\u001b[39m contextlib\u001b[38;5;241m.\u001b[39mclosing(fid)\n\u001b[1;32m   1982\u001b[0m \u001b[38;5;28;01melse\u001b[39;00m:\n",
      "File \u001b[0;32m/opt/anaconda3/lib/python3.12/site-packages/numpy/lib/_datasource.py:193\u001b[0m, in \u001b[0;36mopen\u001b[0;34m(path, mode, destpath, encoding, newline)\u001b[0m\n\u001b[1;32m    156\u001b[0m \u001b[38;5;250m\u001b[39m\u001b[38;5;124;03m\"\"\"\u001b[39;00m\n\u001b[1;32m    157\u001b[0m \u001b[38;5;124;03mOpen `path` with `mode` and return the file object.\u001b[39;00m\n\u001b[1;32m    158\u001b[0m \n\u001b[0;32m   (...)\u001b[0m\n\u001b[1;32m    189\u001b[0m \n\u001b[1;32m    190\u001b[0m \u001b[38;5;124;03m\"\"\"\u001b[39;00m\n\u001b[1;32m    192\u001b[0m ds \u001b[38;5;241m=\u001b[39m DataSource(destpath)\n\u001b[0;32m--> 193\u001b[0m \u001b[38;5;28;01mreturn\u001b[39;00m ds\u001b[38;5;241m.\u001b[39mopen(path, mode, encoding\u001b[38;5;241m=\u001b[39mencoding, newline\u001b[38;5;241m=\u001b[39mnewline)\n",
      "File \u001b[0;32m/opt/anaconda3/lib/python3.12/site-packages/numpy/lib/_datasource.py:533\u001b[0m, in \u001b[0;36mDataSource.open\u001b[0;34m(self, path, mode, encoding, newline)\u001b[0m\n\u001b[1;32m    530\u001b[0m     \u001b[38;5;28;01mreturn\u001b[39;00m _file_openers[ext](found, mode\u001b[38;5;241m=\u001b[39mmode,\n\u001b[1;32m    531\u001b[0m                               encoding\u001b[38;5;241m=\u001b[39mencoding, newline\u001b[38;5;241m=\u001b[39mnewline)\n\u001b[1;32m    532\u001b[0m \u001b[38;5;28;01melse\u001b[39;00m:\n\u001b[0;32m--> 533\u001b[0m     \u001b[38;5;28;01mraise\u001b[39;00m \u001b[38;5;167;01mFileNotFoundError\u001b[39;00m(\u001b[38;5;124mf\u001b[39m\u001b[38;5;124m\"\u001b[39m\u001b[38;5;132;01m{\u001b[39;00mpath\u001b[38;5;132;01m}\u001b[39;00m\u001b[38;5;124m not found.\u001b[39m\u001b[38;5;124m\"\u001b[39m)\n",
      "\u001b[0;31mFileNotFoundError\u001b[0m: /Users/ss/Documents/psych_self_meta/code/results/demo/data/psychosis_terms_meta-analysis_maps_list.txt not found."
     ]
    }
   ],
   "source": [
    "meta_result_files = np.genfromtxt(os.path.join(data_dir, \"psychosis_terms_meta-analysis_maps_list.txt\"), comments=None, delimiter=\"None\", dtype=\"str\")\n"
   ]
  },
  {
   "cell_type": "code",
   "execution_count": 9,
   "metadata": {},
   "outputs": [],
   "source": [
    "# 加载 控制组的 Z 值图像\n",
    "z_img_controls = image.load_img('../results/ale/control_all_z.nii.gz')\n",
    "\n",
    "# 设置阈值，选择激活区域\n",
    "# Z>3.1 对应 P<0.001\n",
    "threshold = 3.1\n",
    "z_data = z_img_controls.get_fdata()\n",
    "\n",
    "# 创建一个二进制掩模，只选择 Z 值大于阈值的区域\n",
    "roi_img = np.where(z_data > threshold, 1, 0)\n"
   ]
  },
  {
   "cell_type": "code",
   "execution_count": 11,
   "metadata": {},
   "outputs": [
    {
     "name": "stderr",
     "output_type": "stream",
     "text": [
      "/var/folders/yk/78rqxlxn4pz_rsb5_31xvh340000gn/T/ipykernel_13499/1579018439.py:3: UserWarning: Data array used to create a new image contains 64-bit ints. This is likely due to creating the array with numpy and passing `int` as the `dtype`. Many tools such as FSL and SPM cannot deal with int64 in Nifti images, so for compatibility the data has been converted to int32.\n",
      "  roi_img_controls = image.new_img_like(z_img_controls, roi_img)\n"
     ]
    }
   ],
   "source": [
    "\n",
    "# 生成新的 ROI 图像\n",
    "# roi_img_controls = image.new_img_like(z_img_controls, roi_img)\n",
    "roi_img_controls = image.new_img_like(z_img_controls, roi_img)\n"
   ]
  },
  {
   "cell_type": "code",
   "execution_count": 14,
   "metadata": {},
   "outputs": [],
   "source": [
    "# 绘制ROI图像，不显示十字线\n",
    "mask_img = nib.Nifti1Image(roi_img_controls, dset.masker.mask_img.affine)\n"
   ]
  },
  {
   "cell_type": "code",
   "execution_count": null,
   "metadata": {},
   "outputs": [],
   "source": [
    "plot_roi(roi_img_controls, draw_cross=False)\n",
    "\n",
    "# 可视化 ROI 图像\n",
    "plot_roi(roi_img_controls)"
   ]
  },
  {
   "cell_type": "code",
   "execution_count": 16,
   "metadata": {},
   "outputs": [],
   "source": [
    "dataset_affine = dset.masker.mask_img.affine"
   ]
  },
  {
   "cell_type": "code",
   "execution_count": null,
   "metadata": {
    "collapsed": false
   },
   "outputs": [
    {
     "name": "stderr",
     "output_type": "stream",
     "text": [
      "WARNING:nimare.dataset:Mask affine does not match Dataset affine. Assuming same space.\n"
     ]
    },
    {
     "data": {
      "image/png": "[encoded data removed]",
      "text/plain": [
       "<Figure size 660x350 with 4 Axes>"
      ]
     },
     "metadata": {},
     "output_type": "display_data"
    }
   ],
   "source": [
    "\n",
    "# # 创建ROI图像，图像仅含0和1两个值，1表示ROI区域\n",
    "# arr = np.zeros(dset.masker.mask_img.shape, np.int32)\n",
    "# arr[65:75, 50:60, 50:60] = 1\n",
    "\n",
    "\n"
   ]
  },
  {
   "cell_type": "code",
   "execution_count": 15,
   "metadata": {},
   "outputs": [
    {
     "name": "stderr",
     "output_type": "stream",
     "text": [
      "WARNING:nimare.dataset:Mask affine does not match Dataset affine. Assuming same space.\n"
     ]
    }
   ],
   "source": [
    "\n",
    "# Get studies with voxels in the mask\n",
    "# 获取在roi内所有体素的研究\n",
    "ids = dset.get_studies_by_mask(roi_img_controls)"
   ]
  },
  {
   "cell_type": "code",
   "execution_count": 24,
   "metadata": {},
   "outputs": [
    {
     "name": "stderr",
     "output_type": "stream",
     "text": [
      "WARNING:nimare.dataset:Mask affine does not match Dataset affine. Assuming same space.\n"
     ]
    },
    {
     "data": {
      "image/png": "[encoded data removed]",
      "text/plain": [
       "<Figure size 660x350 with 4 Axes>"
      ]
     },
     "metadata": {},
     "output_type": "display_data"
    }
   ],
   "source": [
    "# mask_img = nib.Nifti1Image(arr, dset.masker.mask_img.affine)\n",
    "plot_roi(roi_img_controls, draw_cross=False)\n",
    "\n",
    "# Get studies with voxels in the mask\n",
    "# 获取在roi内所有体素的研究\n",
    "ids_controls = dset.get_studies_by_mask(roi_img_controls)"
   ]
  },
  {
   "cell_type": "code",
   "execution_count": 29,
   "metadata": {},
   "outputs": [
    {
     "name": "stderr",
     "output_type": "stream",
     "text": [
      "WARNING:nimare.dataset:Mask affine does not match Dataset affine. Assuming same space.\n"
     ]
    }
   ],
   "source": [
    "# Get studies with voxels in the mask\n",
    "# 获取在roi内所有体素的研究\n",
    "ids_patients = dset.get_studies_by_mask(roi_img_patients)"
   ]
  },
  {
   "cell_type": "markdown",
   "metadata": {},
   "source": [
    "\n",
    "## Decode an ROI image using the Neurosynth chi-square method\n",
    "\n"
   ]
  },
  {
   "cell_type": "markdown",
   "metadata": {},
   "source": [
    "对研究ID列表进行解码，适用于需要分析特定研究集合的情况，输出与研究ID相关的特征。"
   ]
  },
  {
   "cell_type": "code",
   "execution_count": 25,
   "metadata": {
    "collapsed": false
   },
   "outputs": [
    {
     "name": "stderr",
     "output_type": "stream",
     "text": [
      "INFO:nimare.decode.base:Retaining 728/3228 features.\n"
     ]
    },
    {
     "data": {
      "text/html": [
       "<div>\n",
       "<style scoped>\n",
       "    .dataframe tbody tr th:only-of-type {\n",
       "        vertical-align: middle;\n",
       "    }\n",
       "\n",
       "    .dataframe tbody tr th {\n",
       "        vertical-align: top;\n",
       "    }\n",
       "\n",
       "    .dataframe thead th {\n",
       "        text-align: right;\n",
       "    }\n",
       "</style>\n",
       "<table border=\"1\" class=\"dataframe\">\n",
       "  <thead>\n",
       "    <tr style=\"text-align: right;\">\n",
       "      <th></th>\n",
       "      <th>pForward</th>\n",
       "      <th>zForward</th>\n",
       "      <th>probForward</th>\n",
       "      <th>pReverse</th>\n",
       "      <th>zReverse</th>\n",
       "      <th>probReverse</th>\n",
       "    </tr>\n",
       "    <tr>\n",
       "      <th>Term</th>\n",
       "      <th></th>\n",
       "      <th></th>\n",
       "      <th></th>\n",
       "      <th></th>\n",
       "      <th></th>\n",
       "      <th></th>\n",
       "    </tr>\n",
       "  </thead>\n",
       "  <tbody>\n",
       "    <tr>\n",
       "      <th>Neurosynth_TFIDF__affective</th>\n",
       "      <td>0.000003</td>\n",
       "      <td>4.700003</td>\n",
       "      <td>0.818182</td>\n",
       "      <td>0.091195</td>\n",
       "      <td>1.689126</td>\n",
       "      <td>0.611111</td>\n",
       "    </tr>\n",
       "    <tr>\n",
       "      <th>Neurosynth_TFIDF__human</th>\n",
       "      <td>0.000003</td>\n",
       "      <td>4.700003</td>\n",
       "      <td>0.818182</td>\n",
       "      <td>0.091195</td>\n",
       "      <td>1.689126</td>\n",
       "      <td>0.611111</td>\n",
       "    </tr>\n",
       "    <tr>\n",
       "      <th>Neurosynth_TFIDF__functions</th>\n",
       "      <td>0.000003</td>\n",
       "      <td>4.700003</td>\n",
       "      <td>0.818182</td>\n",
       "      <td>0.091195</td>\n",
       "      <td>1.689126</td>\n",
       "      <td>0.611111</td>\n",
       "    </tr>\n",
       "    <tr>\n",
       "      <th>Neurosynth_TFIDF__analyses</th>\n",
       "      <td>0.000003</td>\n",
       "      <td>4.700003</td>\n",
       "      <td>0.818182</td>\n",
       "      <td>0.091195</td>\n",
       "      <td>1.689126</td>\n",
       "      <td>0.611111</td>\n",
       "    </tr>\n",
       "    <tr>\n",
       "      <th>Neurosynth_TFIDF__prefrontal</th>\n",
       "      <td>0.000140</td>\n",
       "      <td>3.808801</td>\n",
       "      <td>0.833333</td>\n",
       "      <td>0.139861</td>\n",
       "      <td>1.476309</td>\n",
       "      <td>0.600000</td>\n",
       "    </tr>\n",
       "    <tr>\n",
       "      <th>Neurosynth_TFIDF__provide</th>\n",
       "      <td>0.003582</td>\n",
       "      <td>2.912809</td>\n",
       "      <td>0.846154</td>\n",
       "      <td>0.204567</td>\n",
       "      <td>1.268648</td>\n",
       "      <td>0.590909</td>\n",
       "    </tr>\n",
       "    <tr>\n",
       "      <th>Neurosynth_TFIDF__lateral</th>\n",
       "      <td>0.003582</td>\n",
       "      <td>2.912809</td>\n",
       "      <td>0.846154</td>\n",
       "      <td>0.204567</td>\n",
       "      <td>1.268648</td>\n",
       "      <td>0.590909</td>\n",
       "    </tr>\n",
       "    <tr>\n",
       "      <th>Neurosynth_TFIDF__structure</th>\n",
       "      <td>0.003582</td>\n",
       "      <td>2.912809</td>\n",
       "      <td>0.846154</td>\n",
       "      <td>0.204567</td>\n",
       "      <td>1.268648</td>\n",
       "      <td>0.590909</td>\n",
       "    </tr>\n",
       "    <tr>\n",
       "      <th>Neurosynth_TFIDF__function</th>\n",
       "      <td>0.003582</td>\n",
       "      <td>2.912809</td>\n",
       "      <td>0.846154</td>\n",
       "      <td>0.204567</td>\n",
       "      <td>1.268648</td>\n",
       "      <td>0.590909</td>\n",
       "    </tr>\n",
       "    <tr>\n",
       "      <th>Neurosynth_TFIDF__functionally</th>\n",
       "      <td>0.003582</td>\n",
       "      <td>2.912809</td>\n",
       "      <td>0.846154</td>\n",
       "      <td>0.204567</td>\n",
       "      <td>1.268648</td>\n",
       "      <td>0.590909</td>\n",
       "    </tr>\n",
       "  </tbody>\n",
       "</table>\n",
       "</div>"
      ],
      "text/plain": [
       "                                pForward  zForward  probForward  pReverse  \\\n",
       "Term                                                                        \n",
       "Neurosynth_TFIDF__affective     0.000003  4.700003     0.818182  0.091195   \n",
       "Neurosynth_TFIDF__human         0.000003  4.700003     0.818182  0.091195   \n",
       "Neurosynth_TFIDF__functions     0.000003  4.700003     0.818182  0.091195   \n",
       "Neurosynth_TFIDF__analyses      0.000003  4.700003     0.818182  0.091195   \n",
       "Neurosynth_TFIDF__prefrontal    0.000140  3.808801     0.833333  0.139861   \n",
       "Neurosynth_TFIDF__provide       0.003582  2.912809     0.846154  0.204567   \n",
       "Neurosynth_TFIDF__lateral       0.003582  2.912809     0.846154  0.204567   \n",
       "Neurosynth_TFIDF__structure     0.003582  2.912809     0.846154  0.204567   \n",
       "Neurosynth_TFIDF__function      0.003582  2.912809     0.846154  0.204567   \n",
       "Neurosynth_TFIDF__functionally  0.003582  2.912809     0.846154  0.204567   \n",
       "\n",
       "                                zReverse  probReverse  \n",
       "Term                                                   \n",
       "Neurosynth_TFIDF__affective     1.689126     0.611111  \n",
       "Neurosynth_TFIDF__human         1.689126     0.611111  \n",
       "Neurosynth_TFIDF__functions     1.689126     0.611111  \n",
       "Neurosynth_TFIDF__analyses      1.689126     0.611111  \n",
       "Neurosynth_TFIDF__prefrontal    1.476309     0.600000  \n",
       "Neurosynth_TFIDF__provide       1.268648     0.590909  \n",
       "Neurosynth_TFIDF__lateral       1.268648     0.590909  \n",
       "Neurosynth_TFIDF__structure     1.268648     0.590909  \n",
       "Neurosynth_TFIDF__function      1.268648     0.590909  \n",
       "Neurosynth_TFIDF__functionally  1.268648     0.590909  "
      ]
     },
     "execution_count": 25,
     "metadata": {},
     "output_type": "execute_result"
    }
   ],
   "source": [
    "# Run the decoder\n",
    "# 创建一个解码器，用于将研究的结果转换为概率\n",
    "decoder = discrete.NeurosynthDecoder(correction=None)\n",
    "# 进行拟合\n",
    "decoder.fit(dset)\n",
    "# 进行解码，对在指定ROI内的研究ID列表（ids）进行解码,返回一个DataFrame（decode_df）\n",
    "decoded_df = decoder.transform(ids=ids_controls)\n",
    "\n",
    "decoded_df.sort_values(by=\"probReverse\", ascending=False).head(10)"
   ]
  },
  {
   "cell_type": "code",
   "execution_count": 1,
   "metadata": {},
   "outputs": [
    {
     "ename": "NameError",
     "evalue": "name 'discrete' is not defined",
     "output_type": "error",
     "traceback": [
      "\u001b[0;31m---------------------------------------------------------------------------\u001b[0m",
      "\u001b[0;31mNameError\u001b[0m                                 Traceback (most recent call last)",
      "Cell \u001b[0;32mIn[1], line 1\u001b[0m\n\u001b[0;32m----> 1\u001b[0m decoder \u001b[38;5;241m=\u001b[39m discrete\u001b[38;5;241m.\u001b[39mNeurosynthDecoder(correction\u001b[38;5;241m=\u001b[39m\u001b[38;5;28;01mNone\u001b[39;00m)\n\u001b[1;32m      2\u001b[0m \u001b[38;5;66;03m# 进行拟合\u001b[39;00m\n\u001b[1;32m      3\u001b[0m decoder\u001b[38;5;241m.\u001b[39mfit(dset)\n",
      "\u001b[0;31mNameError\u001b[0m: name 'discrete' is not defined"
     ]
    }
   ],
   "source": [
    "decoder = discrete.NeurosynthDecoder(correction=None)\n",
    "# 进行拟合\n",
    "decoder.fit(dset)\n",
    "# 进行解码，对在指定ROI内的研究ID列表（ids）进行解码,返回一个DataFrame（decode_df）\n",
    "decoded_df = decoder.transform(ids=ids_patients)\n",
    "\n",
    "decoded_df.sort_values(by=\"probReverse\", ascending=False)"
   ]
  },
  {
   "cell_type": "markdown",
   "metadata": {},
   "source": [
    "\n",
    "## Decode an ROI image using the Neurosynth ROI association method\n",
    "\n"
   ]
  },
  {
   "cell_type": "markdown",
   "metadata": {},
   "source": [
    "直接对ROI图像进行解码，适用于需要直接分析特定脑区的情况，输出与ROI相关的特征。"
   ]
  },
  {
   "cell_type": "code",
   "execution_count": 13,
   "metadata": {
    "collapsed": false
   },
   "outputs": [
    {
     "name": "stderr",
     "output_type": "stream",
     "text": [
      "INFO:nimare.decode.base:Retaining 728/3228 features.\n"
     ]
    },
    {
     "data": {
      "text/html": [
       "<div>\n",
       "<style scoped>\n",
       "    .dataframe tbody tr th:only-of-type {\n",
       "        vertical-align: middle;\n",
       "    }\n",
       "\n",
       "    .dataframe tbody tr th {\n",
       "        vertical-align: top;\n",
       "    }\n",
       "\n",
       "    .dataframe thead th {\n",
       "        text-align: right;\n",
       "    }\n",
       "</style>\n",
       "<table border=\"1\" class=\"dataframe\">\n",
       "  <thead>\n",
       "    <tr style=\"text-align: right;\">\n",
       "      <th></th>\n",
       "      <th>r</th>\n",
       "    </tr>\n",
       "    <tr>\n",
       "      <th>feature</th>\n",
       "      <th></th>\n",
       "    </tr>\n",
       "  </thead>\n",
       "  <tbody>\n",
       "    <tr>\n",
       "      <th>Neurosynth_TFIDF__reward</th>\n",
       "      <td>0.723187</td>\n",
       "    </tr>\n",
       "    <tr>\n",
       "      <th>Neurosynth_TFIDF__hippocampus</th>\n",
       "      <td>0.682885</td>\n",
       "    </tr>\n",
       "    <tr>\n",
       "      <th>Neurosynth_TFIDF__ofc</th>\n",
       "      <td>0.682885</td>\n",
       "    </tr>\n",
       "    <tr>\n",
       "      <th>Neurosynth_TFIDF__striatum</th>\n",
       "      <td>0.682885</td>\n",
       "    </tr>\n",
       "    <tr>\n",
       "      <th>Neurosynth_TFIDF__involving</th>\n",
       "      <td>0.682885</td>\n",
       "    </tr>\n",
       "  </tbody>\n",
       "</table>\n",
       "</div>"
      ],
      "text/plain": [
       "                                      r\n",
       "feature                                \n",
       "Neurosynth_TFIDF__reward       0.723187\n",
       "Neurosynth_TFIDF__hippocampus  0.682885\n",
       "Neurosynth_TFIDF__ofc          0.682885\n",
       "Neurosynth_TFIDF__striatum     0.682885\n",
       "Neurosynth_TFIDF__involving    0.682885"
      ]
     },
     "execution_count": 13,
     "metadata": {},
     "output_type": "execute_result"
    }
   ],
   "source": [
    "# This method decodes the ROI image directly, rather than comparing subsets of the Dataset like the\n",
    "# other two.\n",
    "decoder = discrete.ROIAssociationDecoder(roi_img)\n",
    "decoder.fit(dset)\n",
    "\n",
    "# The `transform` method doesn't take any parameters.\n",
    "decoded_df = decoder.transform()\n",
    "\n",
    "decoded_df.sort_values(by=\"r\", ascending=False).head()"
   ]
  },
  {
   "cell_type": "code",
   "execution_count": null,
   "metadata": {},
   "outputs": [],
   "source": [
    "self_subj = nib.load('xxx')\n",
    "out_dir = os.path.abspath('xxx')  \n",
    "os.makedirs(out_dir, exist_ok=True)\n",
    "\n",
    "files = fetch_neurosynth(\n",
    "    data_dir=out_dir,\n",
    "    version=\"7\",\n",
    "    overwrite=False,\n",
    "    source=\"abstract\",\n",
    "    vocab=\"terms\",\n",
    ")\n",
    "\n",
    "neurosynth_db = files[0]\n",
    "neurosynth_dset = convert_neurosynth_to_dataset(\n",
    "    coordinates_file=neurosynth_db[\"coordinates\"],\n",
    "    metadata_file=neurosynth_db[\"metadata\"],\n",
    "    annotations_files=neurosynth_db[\"features\"],\n",
    ")\n",
    "neurosynth_dset.save(os.path.join(out_dir, \"neurosynth_dataset.pkl.gz\"))\n",
    "\n",
    "import nimare\n",
    "neurosynth_dset = nimare.dataset.Dataset.load(os.path.join(out_dir, \"neurosynth_dataset.pkl.gz\"))\n",
    "neurosynth_dset.update_path(out_dir)\n",
    "\n",
    "# decoder = continuous.CorrelationDecoder(feature_group=None, features=None)\n",
    "\n",
    "\n",
    "ale_estimator = ALE()\n",
    "decoder = continuous.CorrelationDecoder(\n",
    "    feature_group=None,\n",
    "    features=None,\n",
    "    meta_estimator=ale_estimator,\n",
    "    target_image='z',\n",
    ")\n",
    "\n",
    "\n",
    "decoder.fit(neurosynth_dset)\n",
    "decoded_df1 = decoder.transform(self_subj)\n",
    "decoded_df1 = decoded_df1.sort_values(by='correlation', ascending=False)\n",
    "print(decoded_df1)"
   ]
  }
 ],
 "metadata": {
  "kernelspec": {
   "display_name": "base",
   "language": "python",
   "name": "python3"
  },
  "language_info": {
   "codemirror_mode": {
    "name": "ipython",
    "version": 3
   },
   "file_extension": ".py",
   "mimetype": "text/x-python",
   "name": "python",
   "nbconvert_exporter": "python",
   "pygments_lexer": "ipython3",
   "version": "3.12.7"
  }
 },
 "nbformat": 4,
 "nbformat_minor": 0
}
