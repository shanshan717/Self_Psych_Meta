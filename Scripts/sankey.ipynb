{
 "cells": [
  {
   "cell_type": "code",
   "execution_count": 4,
   "metadata": {},
   "outputs": [],
   "source": [
    "import pandas as pd\n",
    "from pyecharts.charts import Sankey\n",
    "from pyecharts import options as opts\n",
    "import os"
   ]
  },
  {
   "cell_type": "code",
   "execution_count": 2,
   "metadata": {},
   "outputs": [],
   "source": [
    "# 读取 CSV 文件\n",
    "file_path = \"../Data/AnalysisData/patient_information.csv\"\n",
    "df = pd.read_csv(file_path)\n"
   ]
  },
  {
   "cell_type": "code",
   "execution_count": 11,
   "metadata": {},
   "outputs": [
    {
     "data": {
      "text/plain": [
       "'/Users/ss/Documents/Self_Psych_Meta/Output/9_other/sankey_diagram.html'"
      ]
     },
     "execution_count": 11,
     "metadata": {},
     "output_type": "execute_result"
    }
   ],
   "source": [
    "# 准备节点和链接数据\n",
    "nodes = []\n",
    "links = []\n",
    "\n",
    "# 获取唯一的 Articles、Disorders 和 Diagnosed tool\n",
    "articles = df['Articles'].unique()\n",
    "disorders = df['Disorders'].unique()\n",
    "diagnosed_tools = df['Diagnosed tool'].unique()\n",
    "\n",
    "# 添加节点\n",
    "for article in articles:\n",
    "    nodes.append({\"name\": article})\n",
    "for disorder in disorders:\n",
    "    nodes.append({\"name\": disorder})\n",
    "for tool in diagnosed_tools:\n",
    "    nodes.append({\"name\": tool})\n",
    "\n",
    "# 添加链接\n",
    "for _, row in df.iterrows():\n",
    "    links.append({\"source\": row['Articles'], \"target\": row['Disorders'], \"value\": 1})\n",
    "    links.append({\"source\": row['Disorders'], \"target\": row['Diagnosed tool'], \"value\": 1})\n",
    "\n",
    "# 创建桑基图\n",
    "sankey = (\n",
    "    Sankey()\n",
    "    .add(\n",
    "        \"Sankey Diagram\",\n",
    "        nodes,\n",
    "        links,\n",
    "        linestyle_opt=opts.LineStyleOpts(opacity=0.2, curve=0.5, color=\"source\"),\n",
    "        label_opts=opts.LabelOpts(position=\"right\"),\n",
    "    )\n",
    "    .set_global_opts(title_opts=opts.TitleOpts(title=\"Patient Information Sankey Diagram\"))\n",
    ")\n",
    "\n",
    "# 创建输出目录\n",
    "output_dir = \"../Output/9_other\"\n",
    "os.makedirs(output_dir, exist_ok=True)\n",
    "\n",
    "# 渲染图表\n",
    "output_path = os.path.join(output_dir, \"sankey_diagram.html\")\n",
    "sankey.render(output_path)"
   ]
  }
 ],
 "metadata": {
  "kernelspec": {
   "display_name": "base",
   "language": "python",
   "name": "python3"
  },
  "language_info": {
   "codemirror_mode": {
    "name": "ipython",
    "version": 3
   },
   "file_extension": ".py",
   "mimetype": "text/x-python",
   "name": "python",
   "nbconvert_exporter": "python",
   "pygments_lexer": "ipython3",
   "version": "3.12.7"
  }
 },
 "nbformat": 4,
 "nbformat_minor": 2
}
