{
 "cells": [
  {
   "cell_type": "code",
   "execution_count": 1,
   "metadata": {},
   "outputs": [],
   "source": [
    "import pandas as pd\n",
    "from pyecharts.charts import Sankey\n",
    "from pyecharts import options as opts\n",
    "import os"
   ]
  },
  {
   "cell_type": "code",
   "execution_count": 2,
   "metadata": {},
   "outputs": [],
   "source": [
    "# 读取 CSV 文件\n",
    "file_path = \"/Users/ss/Desktop/data.csv\"\n",
    "df = pd.read_csv(file_path)\n"
   ]
  },
  {
   "cell_type": "code",
   "execution_count": 14,
   "metadata": {},
   "outputs": [
    {
     "data": {
      "text/plain": [
       "'/Users/ss/Documents/Self_Psych_Meta/Output/9_other/sankey_diagram.html'"
      ]
     },
     "execution_count": 14,
     "metadata": {},
     "output_type": "execute_result"
    }
   ],
   "source": [
    "# 准备节点和链接数据\n",
    "nodes = []\n",
    "links = []\n",
    "\n",
    "# 获取唯一的 Articles、Disorders 和 Diagnosed tool\n",
    "articles = df['Articles'].unique()\n",
    "disorders = df['Disorders'].unique()\n",
    "diagnosed_tools = df['criteria'].unique()\n",
    "\n",
    "# 添加节点\n",
    "for article in articles:\n",
    "    nodes.append({\"name\": article})\n",
    "for disorder in disorders:\n",
    "    nodes.append({\"name\": disorder})\n",
    "for tool in diagnosed_tools:\n",
    "    nodes.append({\"name\": tool})\n",
    "\n",
    "# 添加链接\n",
    "for _, row in df.iterrows():\n",
    "    links.append({\"source\": row['Articles'], \"target\": row['Disorders'], \"value\": 1})\n",
    "    links.append({\"source\": row['Disorders'], \"target\": row['criteria'], \"value\": 1})\n",
    "\n",
    "# 创建桑基图\n",
    "sankey = (\n",
    "    Sankey()\n",
    "    .add(\n",
    "        \"Sankey Diagram\",\n",
    "        nodes,\n",
    "        links,\n",
    "        linestyle_opt=opts.LineStyleOpts(opacity=0.2, curve=0.5, color=\"source\"),\n",
    "        label_opts=opts.LabelOpts(position=\"right\"),\n",
    "    )\n",
    "    .set_global_opts(title_opts=opts.TitleOpts(title=\"\"))\n",
    ")\n",
    "\n",
    "# 创建输出目录\n",
    "output_dir = \"../Output/9_other\"\n",
    "os.makedirs(output_dir, exist_ok=True)\n",
    "\n",
    "# 渲染图表\n",
    "output_path = os.path.join(output_dir, \"sankey_diagram.html\")\n",
    "sankey.render(output_path)"
   ]
  },
  {
   "cell_type": "code",
   "execution_count": 13,
   "metadata": {},
   "outputs": [
    {
     "name": "stdout",
     "output_type": "stream",
     "text": [
      "Sankey diagram saved to: ../Output/9_other/sankey_custom_colors.html\n"
     ]
    }
   ],
   "source": [
    "import os\n",
    "import pandas as pd\n",
    "from pyecharts import options as opts\n",
    "from pyecharts.charts import Sankey\n",
    "\n",
    "# 读取数据\n",
    "df = pd.read_csv('/Users/ss/Desktop/data.csv')  # 假设有列 Articles, Disorders, criteria\n",
    "\n",
    "# 自定义颜色字典\n",
    "colors = {\n",
    "    \"CCB\": \"#ea9a81\",\n",
    "    \"BOCM\": \"#ebc08c\",\n",
    "    \"ABC\": \"#b89ae0\",\n",
    "    \"ICBC\": \"#aed5fb\",\n",
    "    \"BOC\": \"#92a0f7\",\n",
    "    \"kawa\": \"#e38593\",\n",
    "    \"koto\": \"#e38593\",\n",
    "    \"saki\": \"#e38593\",\n",
    "    \"yama\": \"#e38593\",\n",
    "    \"nikoto\": \"#e38593\",\n",
    "    # 其他节点可以在这里继续添加\n",
    "}\n",
    "\n",
    "# 准备节点\n",
    "nodes = []\n",
    "\n",
    "# Articles 节点\n",
    "for article in df['Articles'].unique():\n",
    "    nodes.append({\"name\": article, \"itemStyle\": {\"color\": colors.get(article, \"#8dd3c7\")}})  # 默认色\n",
    "\n",
    "# Disorders 节点\n",
    "for disorder in df['Disorders'].unique():\n",
    "    nodes.append({\"name\": disorder, \"itemStyle\": {\"color\": colors.get(disorder, \"#88B04B\")}})\n",
    "\n",
    "# Criteria 节点\n",
    "for tool in df['criteria'].unique():\n",
    "    nodes.append({\"name\": tool, \"itemStyle\": {\"color\": colors.get(tool, \"#bebada\")}})\n",
    "\n",
    "# 准备链接，线条颜色和 source 节点一致\n",
    "links = []\n",
    "for _, row in df.iterrows():\n",
    "    # Article -> Disorder\n",
    "    links.append({\n",
    "        \"source\": row['Articles'],\n",
    "        \"target\": row['Disorders'],\n",
    "        \"value\": 1,\n",
    "        \"lineStyle\": {\"color\": colors.get(row['Articles'], \"#8dd3c7\"), \"opacity\": 0.7}\n",
    "    })\n",
    "    # Disorder -> Criteria\n",
    "    links.append({\n",
    "        \"source\": row['Disorders'],\n",
    "        \"target\": row['criteria'],\n",
    "        \"value\": 1,\n",
    "        \"lineStyle\": {\"color\": colors.get(row['Disorders'], \"#88B04B\"), \"opacity\": 0.7}\n",
    "    })\n",
    "\n",
    "# 创建 Sankey 图\n",
    "sankey = (\n",
    "    Sankey()\n",
    "    .add(\n",
    "        \"Patient Info Sankey\",\n",
    "        nodes,\n",
    "        links,\n",
    "        linestyle_opt=opts.LineStyleOpts(curve=0.5),\n",
    "        label_opts=opts.LabelOpts(position=\"right\"),\n",
    "    )\n",
    "    .set_global_opts(\n",
    "        title_opts=opts.TitleOpts(title=\"Patient Information Sankey Diagram\")\n",
    "    )\n",
    ")\n",
    "\n",
    "# 输出目录\n",
    "output_dir = \"../Output/9_other\"\n",
    "os.makedirs(output_dir, exist_ok=True)\n",
    "\n",
    "# 渲染 HTML\n",
    "output_path = os.path.join(output_dir, \"sankey_custom_colors.html\")\n",
    "sankey.render(output_path)\n",
    "\n",
    "print(f\"Sankey diagram saved to: {output_path}\")\n"
   ]
  }
 ],
 "metadata": {
  "kernelspec": {
   "display_name": "base",
   "language": "python",
   "name": "python3"
  },
  "language_info": {
   "codemirror_mode": {
    "name": "ipython",
    "version": 3
   },
   "file_extension": ".py",
   "mimetype": "text/x-python",
   "name": "python",
   "nbconvert_exporter": "python",
   "pygments_lexer": "ipython3",
   "version": "3.12.9"
  }
 },
 "nbformat": 4,
 "nbformat_minor": 2
}
