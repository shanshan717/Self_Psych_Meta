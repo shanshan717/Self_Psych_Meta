{
 "cells": [
  {
   "cell_type": "markdown",
   "metadata": {},
   "source": [
    "##  Activation likelihood estimation\n",
    "\n",
    "This code is largely based on the implementation provided by Enge et al. (2021), available at https://osf.io/34ry2/. We are deeply grateful for their dedication to open research.\n",
    "\n",
    "> Enge, A., Abdel Rahman, R., & Skeide, M. A. (2021). A meta-analysis of fMRI studies of semantic cognition in children. NeuroImage, 241, 118436. https://doi.org/10.1016/j.neuroimage.2021.118436"
   ]
  },
  {
   "cell_type": "code",
   "execution_count": 1,
   "metadata": {},
   "outputs": [],
   "source": [
    "# Import necessary modules\n",
    "from os import makedirs, path\n",
    "import os\n",
    "import numpy as np\n",
    "import pandas as pd\n",
    "from IPython.display import display\n",
    "from nibabel import save\n",
    "from nilearn import image, plotting, reporting\n",
    "from nimare import correct, io, meta, utils \n",
    "from scipy.stats import norm\n",
    "from nimare.utils import tal2mni\n",
    "\n",
    "\n",
    "# print the current working directory\n",
    "# print(os.getcwd())"
   ]
  },
  {
   "cell_type": "code",
   "execution_count": 2,
   "metadata": {},
   "outputs": [],
   "source": [
    "# Define function for performing a single ALE analysis with FWE correction\n",
    "def run_ale(text_file, voxel_thresh, cluster_thresh, random_seed, n_iters, output_dir):\n",
    "\n",
    "    # Set a random seed to make the results reproducible\n",
    "    if random_seed:\n",
    "        np.random.seed(random_seed)\n",
    "\n",
    "    # Perform the ALE\n",
    "    dset = io.convert_sleuth_to_dataset(text_file=text_file, target=\"ale_2mm\")\n",
    "    ale = meta.cbma.ALE()\n",
    "    res = ale.fit(dset)\n",
    "\n",
    "    # FWE correction for multiple comparisons\n",
    "    corr = correct.FWECorrector(\n",
    "        method=\"montecarlo\", voxel_thresh=voxel_thresh, n_iters=n_iters\n",
    "    )\n",
    "    cres = corr.transform(result=res)\n",
    "\n",
    "    # Save maps to the ouput directory\n",
    "    prefix = path.basename(text_file).replace(\".txt\", \"\")\n",
    "    res.save_maps(output_dir=output_dir, prefix=prefix)\n",
    "    cres.save_maps(output_dir=output_dir, prefix=prefix)\n",
    "\n",
    "    # Create cluster-level thresholded z and ALE maps\n",
    "    img_clust_mass = cres.get_map(\"z_desc-mass_level-cluster_corr-FWE_method-montecarlo\")\n",
    "    img_clust_size = cres.get_map(\"z_desc-size_level-cluster_corr-FWE_method-montecarlo\")\n",
    "    img_z = cres.get_map(\"z\")\n",
    "    img_ale = cres.get_map(\"stat\")\n",
    "    cluster_thresh_z = norm.ppf(1 - cluster_thresh / 2)\n",
    "    img_clust_mass_thresh = image.threshold_img(img=img_clust_mass, threshold=cluster_thresh_z)\n",
    "    img_clust_size_thresh = image.threshold_img(img=img_clust_size, threshold=cluster_thresh_z)\n",
    "    img_mask = image.math_img(\"np.where(img > 0, 1, 0)\", img=img_clust_size_thresh)\n",
    "    img_z_thresh = image.math_img(\"img1 * img2\", img1=img_mask, img2=img_z)\n",
    "    img_ale_thresh = image.math_img(\"img1 * img2\", img1=img_mask, img2=img_ale)\n",
    "\n",
    "    # Save thresholded maps to the output directory\n",
    "    save(img=img_clust_mass_thresh, filename=output_dir + \"/\" + prefix + \"_z_mass_level_thresh.nii.gz\")\n",
    "    save(img=img_clust_size_thresh, filename=output_dir + \"/\" + prefix + \"_z_size_level_thresh.nii.gz\")\n",
    "    # Save ALE thresholded for tables later on\n",
    "    save(img=img_z_thresh, filename=output_dir + \"/\" + prefix + \"_z_thresh.nii.gz\")\n",
    "    save(img=img_ale_thresh, filename=output_dir + \"/\" + prefix + \"_stat_size_thresh.nii.gz\")"
   ]
  },
  {
   "cell_type": "code",
   "execution_count": 3,
   "metadata": {},
   "outputs": [],
   "source": [
    "# Define the path to the text file containing the data\n",
    "\n",
    "# text_file = \"../Data/AnalysisData/Coordinates/control_minus_patient.txtl.txt\"\n",
    "# text_file = \"../Data/AnalysisData/Coordinates/patient_minus_control.txt\"\n",
    "# text_file = \"../Data/AnalysisData/Coordinates/patient.txt\"\n",
    "# text_file = \"../Data/AnalysisData/Coordinates/SZ.txt\"\n",
    "# text_file = \"../Data/AnalysisData/Coordinates/Control_all.txt\"\n",
    "text_file = \"../Data/AnalysisData/Coordinates/control_minus_patient_plus_only_self.txt\"\n",
    "\n",
    "# Define output directory\n",
    "output_dir=\"../Output/1_ALE\""
   ]
  },
  {
   "cell_type": "code",
   "execution_count": 4,
   "metadata": {},
   "outputs": [
    {
     "name": "stderr",
     "output_type": "stream",
     "text": [
      "INFO:nimare.correct:Using correction method implemented in Estimator: nimare.meta.cbma.ale.ALE.correct_fwe_montecarlo.\n",
      "100%|██████████| 10000/10000 [22:28<00:00,  7.41it/s]\n",
      "INFO:nimare.meta.cbma.base:Using null distribution for voxel-level FWE correction.\n",
      "/var/folders/yk/78rqxlxn4pz_rsb5_31xvh340000gn/T/ipykernel_24176/3490095354.py:30: FutureWarning: From release 0.13.0 onwards, this function will, by default, copy the header of the input image to the output. Currently, the header is reset to the default Nifti1Header. To suppress this warning and use the new behavior, set `copy_header=True`.\n",
      "  img_clust_mass_thresh = image.threshold_img(img=img_clust_mass, threshold=cluster_thresh_z)\n",
      "/var/folders/yk/78rqxlxn4pz_rsb5_31xvh340000gn/T/ipykernel_24176/3490095354.py:31: FutureWarning: From release 0.13.0 onwards, this function will, by default, copy the header of the input image to the output. Currently, the header is reset to the default Nifti1Header. To suppress this warning and use the new behavior, set `copy_header=True`.\n",
      "  img_clust_size_thresh = image.threshold_img(img=img_clust_size, threshold=cluster_thresh_z)\n",
      "/var/folders/yk/78rqxlxn4pz_rsb5_31xvh340000gn/T/ipykernel_24176/3490095354.py:31: UserWarning: The given float value must not exceed 1.9094815467290918. But, you have given threshold=1.959963984540054.\n",
      "  img_clust_size_thresh = image.threshold_img(img=img_clust_size, threshold=cluster_thresh_z)\n",
      "/Users/ss/miniconda3/lib/python3.12/site-packages/nilearn/image/image.py:1160: UserWarning: Data array used to create a new image contains 64-bit ints. This is likely due to creating the array with numpy and passing `int` as the `dtype`. Many tools such as FSL and SPM cannot deal with int64 in Nifti images, so for compatibility the data has been converted to int32.\n",
      "  return new_img_like(niimg, result, niimg.affine)\n"
     ]
    }
   ],
   "source": [
    "# Run the ALE (Activation Likelihood Estimation) analysis\n",
    "run_ale(\n",
    "    text_file=text_file,\n",
    "    voxel_thresh=0.001,\n",
    "    cluster_thresh=0.05,\n",
    "    random_seed=2024,\n",
    "    n_iters=10000,\n",
    "    output_dir=output_dir\n",
    ")"
   ]
  }
 ],
 "metadata": {
  "kernelspec": {
   "display_name": "base",
   "language": "python",
   "name": "python3"
  },
  "language_info": {
   "codemirror_mode": {
    "name": "ipython",
    "version": 3
   },
   "file_extension": ".py",
   "mimetype": "text/x-python",
   "name": "python",
   "nbconvert_exporter": "python",
   "pygments_lexer": "ipython3",
   "version": "3.12.9"
  }
 },
 "nbformat": 4,
 "nbformat_minor": 2
}
